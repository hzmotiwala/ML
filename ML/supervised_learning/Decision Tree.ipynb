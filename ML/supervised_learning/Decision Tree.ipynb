{
 "cells": [
  {
   "cell_type": "code",
   "execution_count": 2,
   "metadata": {},
   "outputs": [],
   "source": [
    "#https://chrisalbon.com/machine_learning/trees_and_forests/visualize_a_decision_tree/\n",
    "#https://www.youtube.com/watch?v=b8qqoBX4B7Y\n",
    "\n",
    "import sklearn\n",
    "import matplotlib.pyplot as plt\n",
    "%matplotlib inline\n",
    "import numpy as np\n",
    "\n",
    "\n",
    "from sklearn.datasets import load_breast_cancer\n",
    "from sklearn.tree import DecisionTreeClassifier\n",
    "from sklearn.model_selection import train_test_split\n",
    "from sklearn.model_selection import cross_val_score\n",
    "from IPython.display import Image  \n",
    "from sklearn import tree\n",
    "from sklearn import metrics\n",
    "\n",
    "cancer = load_breast_cancer()"
   ]
  },
  {
   "cell_type": "code",
   "execution_count": 3,
   "metadata": {},
   "outputs": [
    {
     "ename": "SyntaxError",
     "evalue": "invalid syntax (<ipython-input-3-e9a5990473c1>, line 1)",
     "output_type": "error",
     "traceback": [
      "\u001b[1;36m  File \u001b[1;32m\"<ipython-input-3-e9a5990473c1>\"\u001b[1;36m, line \u001b[1;32m1\u001b[0m\n\u001b[1;33m    print len(cancer)\u001b[0m\n\u001b[1;37m            ^\u001b[0m\n\u001b[1;31mSyntaxError\u001b[0m\u001b[1;31m:\u001b[0m invalid syntax\n"
     ]
    }
   ],
   "source": [
    "print len(cancer)\n",
    "print\n",
    "print type(cancer)\n",
    "print\n",
    "print cancer.feature_names\n",
    "print\n",
    "print cancer.features\n",
    "print\n",
    "print cancer.target\n",
    "print\n",
    "print cancer.target_names\n",
    "print\n",
    "print cancer.data.shape\n",
    "print\n",
    "print cancer.target.shape"
   ]
  },
  {
   "cell_type": "code",
   "execution_count": 41,
   "metadata": {
    "collapsed": true
   },
   "outputs": [],
   "source": [
    "X = cancer.data\n",
    "y = cancer.target\n",
    "\n",
    "from sklearn.model_selection import train_test_split\n",
    "X_train, X_test, y_train, y_test = train_test_split(X, y, test_size=0.4, random_state=4)\n",
    "#X_train, X_test, y_train, y_test = train_test_split(cancer.data, cancer.target, stratify=cancer.target, random_state=42)\n"
   ]
  },
  {
   "cell_type": "code",
   "execution_count": 42,
   "metadata": {},
   "outputs": [
    {
     "name": "stdout",
     "output_type": "stream",
     "text": [
      "Accuracy on the training subset: 0.968\n",
      "Accuracy on the test subset: 0.921\n"
     ]
    }
   ],
   "source": [
    "clf = DecisionTreeClassifier(random_state=0, max_depth = 3,  min_samples_leaf = 7)\n",
    "# max_depth = None,  min_samples_leaf = 1, \n",
    "clf.fit(X_train, y_train)\n",
    "\n",
    "print('Accuracy on the training subset: {:.3f}'.format(clf.score(X_train, y_train)))\n",
    "print('Accuracy on the test subset: {:.3f}'.format(clf.score(X_test, y_test)))"
   ]
  },
  {
   "cell_type": "code",
   "execution_count": 43,
   "metadata": {},
   "outputs": [
    {
     "name": "stdout",
     "output_type": "stream",
     "text": [
      "[[ 66   8]\n",
      " [ 10 144]]\n",
      "0.921052631579\n"
     ]
    }
   ],
   "source": [
    "y_pred_class = clf.predict(X_test)\n",
    "print(metrics.confusion_matrix(y_test, y_pred_class))\n",
    "print(metrics.accuracy_score(y_test, y_pred_class))"
   ]
  },
  {
   "cell_type": "code",
   "execution_count": 44,
   "metadata": {},
   "outputs": [
    {
     "name": "stdout",
     "output_type": "stream",
     "text": [
      "0.675438596491\n"
     ]
    }
   ],
   "source": [
    "# calculate null accuracy (for binary classification problems coded as 0/1)\n",
    "print max(y_test.mean(), 1 - y_test.mean())\n"
   ]
  },
  {
   "cell_type": "code",
   "execution_count": 45,
   "metadata": {
    "collapsed": true
   },
   "outputs": [],
   "source": [
    "# try max_depth 1 through 6 and record training and testing accuracy\n",
    "depth_range = list(range(1, 10))\n",
    "train_scores = []\n",
    "test_scores = []\n",
    "for i in depth_range:\n",
    "    clf = DecisionTreeClassifier(random_state=0, max_depth = i)\n",
    "    clf.fit(X_train, y_train)\n",
    "    train_scores.append(clf.score(X_train, y_train))\n",
    "    test_scores.append(clf.score(X_test, y_test))"
   ]
  },
  {
   "cell_type": "code",
   "execution_count": 46,
   "metadata": {},
   "outputs": [
    {
     "data": {
      "text/plain": [
       "Text(0,0.5,u'Accuracy')"
      ]
     },
     "execution_count": 46,
     "metadata": {},
     "output_type": "execute_result"
    },
    {
     "data": {
      "image/png": "[encoded data removed]",
      "text/plain": [
       "<matplotlib.figure.Figure at 0xea35748>"
      ]
     },
     "metadata": {},
     "output_type": "display_data"
    }
   ],
   "source": [
    "# import Matplotlib (scientific plotting library)\n",
    "import matplotlib.pyplot as plt\n",
    "\n",
    "# allow plots to appear within the notebook\n",
    "%matplotlib inline\n",
    "\n",
    "# plot the relationship between K and testing accuracy\n",
    "plt.plot(depth_range, train_scores, test_scores)\n",
    "plt.xlabel('Value of max_depth Decision Tree')\n",
    "plt.ylabel('Accuracy')"
   ]
  },
  {
   "cell_type": "code",
   "execution_count": 47,
   "metadata": {
    "collapsed": true
   },
   "outputs": [],
   "source": [
    "# try leaf 1 through 20 and record training and testing accuracy\n",
    "leaf_range = list(range(1, 20))\n",
    "train_scores = []\n",
    "test_scores = []\n",
    "for i in leaf_range:\n",
    "    clf = DecisionTreeClassifier(random_state=0, min_samples_leaf = i)\n",
    "    clf.fit(X_train, y_train)\n",
    "    train_scores.append(clf.score(X_train, y_train))\n",
    "    test_scores.append(clf.score(X_test, y_test))"
   ]
  },
  {
   "cell_type": "code",
   "execution_count": 48,
   "metadata": {},
   "outputs": [
    {
     "data": {
      "text/plain": [
       "Text(0,0.5,u'Accuracy')"
      ]
     },
     "execution_count": 48,
     "metadata": {},
     "output_type": "execute_result"
    },
    {
     "data": {
      "image/png": "[encoded data removed]",
      "text/plain": [
       "<matplotlib.figure.Figure at 0xf45b208>"
      ]
     },
     "metadata": {},
     "output_type": "display_data"
    }
   ],
   "source": [
    "# import Matplotlib (scientific plotting library)\n",
    "import matplotlib.pyplot as plt\n",
    "\n",
    "# allow plots to appear within the notebook\n",
    "%matplotlib inline\n",
    "\n",
    "# plot the relationship between K and testing accuracy\n",
    "plt.plot(leaf_range, train_scores, test_scores)\n",
    "plt.xlabel('Value of Leaf Size Decision Tree')\n",
    "plt.ylabel('Accuracy')"
   ]
  },
  {
   "cell_type": "code",
   "execution_count": null,
   "metadata": {
    "collapsed": true
   },
   "outputs": [],
   "source": []
  },
  {
   "cell_type": "code",
   "execution_count": 49,
   "metadata": {
    "collapsed": true
   },
   "outputs": [],
   "source": [
    "# try different test sizes and record training and testing accuracy\n",
    "test_size = [.01,.1,.2,.3,.4,.5,.6,.7,.8,.9,.99]\n",
    "ylims = [0,1,2,3,4,5,6,7,8,9,10]\n",
    "train_scores = []\n",
    "test_scores = []\n",
    "for i in test_size:\n",
    "    X_train, X_test, y_train, y_test = train_test_split(X, y, test_size=i)\n",
    "    clf = DecisionTreeClassifier(random_state=0, max_depth = 4,  min_samples_leaf = 7)\n",
    "    clf.fit(X_train, y_train)\n",
    "    train_scores.append(clf.score(X_train, y_train))\n",
    "    test_scores.append(clf.score(X_test, y_test))"
   ]
  },
  {
   "cell_type": "code",
   "execution_count": 50,
   "metadata": {},
   "outputs": [
    {
     "data": {
      "text/plain": [
       "Text(0,0.5,u'Accuracy')"
      ]
     },
     "execution_count": 50,
     "metadata": {},
     "output_type": "execute_result"
    },
    {
     "data": {
      "image/png": "[encoded data removed]",
      "text/plain": [
       "<matplotlib.figure.Figure at 0xf6690b8>"
      ]
     },
     "metadata": {},
     "output_type": "display_data"
    }
   ],
   "source": [
    "# import Matplotlib (scientific plotting library)\n",
    "import matplotlib.pyplot as plt\n",
    "\n",
    "# allow plots to appear within the notebook\n",
    "%matplotlib inline\n",
    "\n",
    "# plot the relationship between K and testing accuracy\n",
    "plt.plot(ylims, train_scores, test_scores)\n",
    "plt.xlabel('DT: Value of Test Size')\n",
    "plt.ylabel('Accuracy')"
   ]
  },
  {
   "cell_type": "code",
   "execution_count": null,
   "metadata": {
    "collapsed": true
   },
   "outputs": [],
   "source": []
  },
  {
   "cell_type": "code",
   "execution_count": null,
   "metadata": {
    "collapsed": true
   },
   "outputs": [],
   "source": []
  },
  {
   "cell_type": "code",
   "execution_count": 51,
   "metadata": {
    "collapsed": true
   },
   "outputs": [],
   "source": [
    "###### HOLDOUT ########\n",
    "\n",
    "# Holdout 20%\n",
    "X = cancer.data\n",
    "y = cancer.target\n",
    "X, X_test_holdout, y, y_test_holdout = train_test_split(X, y, test_size=0.2)\n",
    "X_train, X_test, y_train, y_test = train_test_split(X, y)"
   ]
  },
  {
   "cell_type": "code",
   "execution_count": 52,
   "metadata": {},
   "outputs": [
    {
     "name": "stdout",
     "output_type": "stream",
     "text": [
      "train accuracy:  [95.110024449877756, 97.252747252747255, 95.283018867924525, 94.871794871794862, 96.916299559471369, 95.604395604395606, 95.588235294117652, 97.802197802197796, 97.777777777777771]\n",
      "\n",
      "cv accuracy:  [92.663472706155616, 93.100205468626527, 92.751405180840649, 90.910663410663403, 88.992094861660064, 88.34881320949431, 91.758241758241766, 93.444444444444457, 91.5]\n",
      "\n"
     ]
    },
    {
     "data": {
      "text/plain": [
       "<matplotlib.legend.Legend at 0xfb24978>"
      ]
     },
     "execution_count": 52,
     "metadata": {},
     "output_type": "execute_result"
    },
    {
     "data": {
      "image/png": "[encoded data removed]",
      "text/plain": [
       "<matplotlib.figure.Figure at 0xfa21cf8>"
      ]
     },
     "metadata": {},
     "output_type": "display_data"
    }
   ],
   "source": [
    "##### Learning Curve########\n",
    "\n",
    "# try different test sizes and record training and testing and cv accuracy\n",
    "test_size = [.1,.2,.3,.4,.5,.6,.7,.8,.9]\n",
    "ylims = [0,1,2,3,4,5,6,7,8]\n",
    "train_scores = []\n",
    "test_scores = []\n",
    "cv_scores = []\n",
    "for i in test_size:\n",
    "    X_train, X_test, y_train, y_test = train_test_split(X, y, test_size=i)\n",
    "    clf = DecisionTreeClassifier(max_depth = 4,  min_samples_leaf = 7)\n",
    "    clf.fit(X_train, y_train)\n",
    "    y_pred = clf.predict(X_test)\n",
    "    train_scores.append(clf.score(X_train, y_train)*100)\n",
    "    test_scores.append(clf.score(X_test, y_test)*100)\n",
    "    cv = cross_val_score(clf, X_train, y_train, cv=10)\n",
    "    cv_mean = np.array(cv).mean() * 100\n",
    "    cv_scores.append(cv_mean)\n",
    "    \n",
    "print \"train accuracy: \", train_scores\n",
    "print\n",
    "#print test_scores\n",
    "#print\n",
    "print \"cv accuracy: \", cv_scores\n",
    "print\n",
    "\n",
    "plt.plot(test_size, train_scores, color='blue', label='train')\n",
    "plt.plot(test_size, cv_scores, color='orange', label='cv')\n",
    "plt.xlabel('Test Size')\n",
    "plt.ylabel('Accuracy')\n",
    "plt.title('DT 1: Learning Curve')\n",
    "plt.legend()"
   ]
  },
  {
   "cell_type": "code",
   "execution_count": 53,
   "metadata": {},
   "outputs": [
    {
     "name": "stdout",
     "output_type": "stream",
     "text": [
      "train accuracy:  [100.0, 99.413489736070375, 98.826979472140764, 97.94721407624634, 97.94721407624634, 97.067448680351902, 96.187683284457478, 95.894428152492679, 94.721407624633429, 94.721407624633429, 94.721407624633429, 94.721407624633429, 94.721407624633429, 94.721407624633429, 94.42815249266863, 94.42815249266863, 94.42815249266863, 94.134897360703818, 93.841642228739005]\n",
      "\n",
      "cv accuracy:  [90.943977591036401, 89.255920550038198, 90.130379424497065, 90.684491978609628, 90.424497071555891, 91.2900432900433, 91.558441558441544, 91.86147186147187, 91.86147186147187, 91.86147186147187, 91.86147186147187, 91.575757575757578, 91.2900432900433, 91.2900432900433, 91.2900432900433, 90.987012987012989, 90.701298701298711, 90.415584415584419, 91.272727272727266]\n",
      "\n"
     ]
    },
    {
     "data": {
      "text/plain": [
       "<matplotlib.legend.Legend at 0xe61a080>"
      ]
     },
     "execution_count": 53,
     "metadata": {},
     "output_type": "execute_result"
    },
    {
     "data": {
      "image/png": "[encoded data removed]",
      "text/plain": [
       "<matplotlib.figure.Figure at 0xebc3dd8>"
      ]
     },
     "metadata": {},
     "output_type": "display_data"
    }
   ],
   "source": [
    "###### Model Complexity ########\n",
    "\n",
    "# try leaf 1 through 20 and record training and testing accuracy\n",
    "X_train, X_test, y_train, y_test = train_test_split(X, y)\n",
    "leaf_range = list(range(1, 20))\n",
    "train_scores = []\n",
    "test_scores = []\n",
    "cv_scores = []\n",
    "for i in leaf_range:\n",
    "    clf = DecisionTreeClassifier(min_samples_leaf = i)\n",
    "    clf.fit(X_train, y_train)\n",
    "    y_pred = clf.predict(X_test)\n",
    "    train_scores.append(clf.score(X_train, y_train)*100)\n",
    "    test_scores.append(clf.score(X_test, y_test)*100)\n",
    "    cv = cross_val_score(clf, X_train, y_train, cv=10)\n",
    "    cv_mean = np.array(cv).mean() * 100\n",
    "    cv_scores.append(cv_mean)\n",
    "\n",
    "print \"train accuracy: \", train_scores\n",
    "print\n",
    "#print test_scores\n",
    "#print\n",
    "print \"cv accuracy: \", cv_scores\n",
    "print\n",
    "\n",
    "plt.plot(leaf_range, train_scores, color='blue', label='train')\n",
    "plt.plot(leaf_range, cv_scores, color='orange', label='cv')\n",
    "plt.xlabel('Leaf Min Sample Size')\n",
    "plt.ylabel('Accuracy')\n",
    "plt.title('DT 1: Model Complexity Curve')\n",
    "plt.legend()"
   ]
  },
  {
   "cell_type": "code",
   "execution_count": 63,
   "metadata": {},
   "outputs": [
    {
     "name": "stdout",
     "output_type": "stream",
     "text": [
      "Accuracy on the training subset: 0.958\n",
      "Accuracy on the test subset: 0.965\n",
      "[[41  3]\n",
      " [ 1 69]]\n"
     ]
    }
   ],
   "source": [
    "##### Test Model On Holdout Group  #####\n",
    "\n",
    "clf = DecisionTreeClassifier( max_depth = 2,  min_samples_leaf = 3)\n",
    "clf.fit(X, y)\n",
    "\n",
    "y_pred = clf.predict(X_test_holdout)\n",
    "\n",
    "print('Accuracy on the training subset: {:.3f}'.format(clf.score(X, y)))\n",
    "print('Accuracy on the test subset: {:.3f}'.format(clf.score(X_test_holdout, y_test_holdout)))\n",
    "print(metrics.confusion_matrix(y_test_holdout, y_pred))"
   ]
  },
  {
   "cell_type": "code",
   "execution_count": null,
   "metadata": {
    "collapsed": true
   },
   "outputs": [],
   "source": []
  },
  {
   "cell_type": "code",
   "execution_count": null,
   "metadata": {
    "collapsed": true
   },
   "outputs": [],
   "source": []
  },
  {
   "cell_type": "code",
   "execution_count": null,
   "metadata": {
    "collapsed": true
   },
   "outputs": [],
   "source": []
  },
  {
   "cell_type": "code",
   "execution_count": null,
   "metadata": {
    "collapsed": true
   },
   "outputs": [],
   "source": []
  },
  {
   "cell_type": "code",
   "execution_count": null,
   "metadata": {
    "collapsed": true
   },
   "outputs": [],
   "source": []
  },
  {
   "cell_type": "code",
   "execution_count": null,
   "metadata": {
    "collapsed": true
   },
   "outputs": [],
   "source": []
  },
  {
   "cell_type": "code",
   "execution_count": null,
   "metadata": {
    "collapsed": true
   },
   "outputs": [],
   "source": []
  },
  {
   "cell_type": "code",
   "execution_count": 110,
   "metadata": {
    "collapsed": true
   },
   "outputs": [],
   "source": [
    "#https://archive.ics.uci.edu/ml/datasets/Image+Segmentation"
   ]
  },
  {
   "cell_type": "code",
   "execution_count": 111,
   "metadata": {
    "collapsed": true
   },
   "outputs": [],
   "source": [
    "###########  image segmentation  ########"
   ]
  },
  {
   "cell_type": "code",
   "execution_count": 17,
   "metadata": {
    "collapsed": true
   },
   "outputs": [],
   "source": [
    "import pandas as pd\n",
    "data = pd.read_csv('C:/Users/443966/Desktop/image_segmentation_1.csv')"
   ]
  },
  {
   "cell_type": "code",
   "execution_count": 18,
   "metadata": {},
   "outputs": [
    {
     "name": "stdout",
     "output_type": "stream",
     "text": [
      "(2310, 20)\n",
      "   CLASS  REGION-CENTROID-COL  REGION-CENTROID-ROW  REGION-PIXEL-COUNT  \\\n",
      "0      1                  140                  125                   9   \n",
      "1      1                  188                  133                   9   \n",
      "2      1                  105                  139                   9   \n",
      "3      1                   34                  137                   9   \n",
      "4      1                   39                  111                   9   \n",
      "\n",
      "   SHORT-LINE-DENSITY-5  SHORT-LINE-DENSITY-2  VEDGE-MEAN  VEDGE-SD  \\\n",
      "0                   0.0                   0.0    0.277778  0.062963   \n",
      "1                   0.0                   0.0    0.333333  0.266667   \n",
      "2                   0.0                   0.0    0.277778  0.107407   \n",
      "3                   0.0                   0.0    0.500000  0.166667   \n",
      "4                   0.0                   0.0    0.722222  0.374074   \n",
      "\n",
      "   HEDGE-MEAN  HEDGE-SD  INTENSITY-MEAN  RAWRED-MEAN  RAWBLUE-MEAN  \\\n",
      "0    0.666667  0.311111        6.185185     7.333334      7.666666   \n",
      "1    0.500000  0.077778        6.666666     8.333334      7.777778   \n",
      "2    0.833333  0.522222        6.111111     7.555555      7.222222   \n",
      "3    1.111111  0.474074        5.851852     7.777778      6.444445   \n",
      "4    0.888889  0.429629        6.037037     7.000000      7.666666   \n",
      "\n",
      "   RAWGREEN-MEAN  EXRED-MEAN  EXBLUE-MEAN  EXGREEN-MEAN  VALUE-MEAN  \\\n",
      "0       3.555556    3.444444     4.444445     -7.888889    7.777778   \n",
      "1       3.888889    5.000000     3.333333     -8.333333    8.444445   \n",
      "2       3.555556    4.333334     3.333333     -7.666666    7.555555   \n",
      "3       3.333333    5.777778     1.777778     -7.555555    7.777778   \n",
      "4       3.444444    2.888889     4.888889     -7.777778    7.888889   \n",
      "\n",
      "   SATURATION-MEAN  HUE-MEAN  \n",
      "0         0.545635 -1.121818  \n",
      "1         0.538580 -0.924817  \n",
      "2         0.532628 -0.965946  \n",
      "3         0.573633 -0.744272  \n",
      "4         0.562919 -1.175773  \n"
     ]
    }
   ],
   "source": [
    "print data.shape\n",
    "print data.head()"
   ]
  },
  {
   "cell_type": "code",
   "execution_count": 19,
   "metadata": {
    "collapsed": true
   },
   "outputs": [],
   "source": [
    "#X = data['REGION-CENTROID-COL':'HUE-MEAN']\n",
    "X = data[data.columns.difference(['CLASS'])]\n",
    "y = data['CLASS']\n"
   ]
  },
  {
   "cell_type": "code",
   "execution_count": 20,
   "metadata": {},
   "outputs": [
    {
     "name": "stdout",
     "output_type": "stream",
     "text": [
      "(2310, 19)\n",
      "(2310L,)\n"
     ]
    }
   ],
   "source": [
    "print X.shape\n",
    "print y.shape"
   ]
  },
  {
   "cell_type": "code",
   "execution_count": 21,
   "metadata": {
    "collapsed": true
   },
   "outputs": [],
   "source": [
    "from sklearn.model_selection import train_test_split\n",
    "X_train, X_test, y_train, y_test = train_test_split(X, y, test_size=0.4, random_state=4)"
   ]
  },
  {
   "cell_type": "code",
   "execution_count": 22,
   "metadata": {},
   "outputs": [
    {
     "name": "stdout",
     "output_type": "stream",
     "text": [
      "Accuracy on the training subset: 0.574\n",
      "Accuracy on the test subset: 0.563\n"
     ]
    }
   ],
   "source": [
    "clf = DecisionTreeClassifier(random_state=0, max_depth = 3,  min_samples_leaf = 7)\n",
    "# max_depth = None,  min_samples_leaf = 1, \n",
    "clf.fit(X_train, y_train)\n",
    "\n",
    "print('Accuracy on the training subset: {:.3f}'.format(clf.score(X_train, y_train)))\n",
    "print('Accuracy on the test subset: {:.3f}'.format(clf.score(X_test, y_test)))"
   ]
  },
  {
   "cell_type": "code",
   "execution_count": 23,
   "metadata": {},
   "outputs": [
    {
     "name": "stdout",
     "output_type": "stream",
     "text": [
      "[[  0   0   0 124   0   0   0]\n",
      " [  0 143   0   0   0   0   0]\n",
      " [  0   0   0 135   0   0   0]\n",
      " [  0   0   0 114   0   1   0]\n",
      " [  0   0   0 144   0   0   0]\n",
      " [  0   0   0   0   0 133   0]\n",
      " [  0   0   0   0   0   0 130]]\n",
      "0.562770562771\n",
      "[[ 0.          0.          0.          1.          0.          0.          0.        ]\n",
      " [ 0.          1.          0.          0.          0.          0.          0.        ]\n",
      " [ 0.          0.          0.          1.          0.          0.          0.        ]\n",
      " [ 0.          0.          0.          0.99130435  0.          0.00869565\n",
      "   0.        ]\n",
      " [ 0.          0.          0.          1.          0.          0.          0.        ]\n",
      " [ 0.          0.          0.          0.          0.          1.          0.        ]\n",
      " [ 0.          0.          0.          0.          0.          0.          1.        ]]\n"
     ]
    }
   ],
   "source": [
    "y_pred_class = clf.predict(X_test)\n",
    "print(metrics.confusion_matrix(y_test, y_pred_class))\n",
    "print(metrics.accuracy_score(y_test, y_pred_class))\n",
    "cm=metrics.confusion_matrix(y_test, y_pred_class)\n",
    "cm = cm.astype('float') / cm.sum(axis=1)[:, np.newaxis]\n",
    "print cm"
   ]
  },
  {
   "cell_type": "code",
   "execution_count": 24,
   "metadata": {},
   "outputs": [
    {
     "name": "stdout",
     "output_type": "stream",
     "text": [
      "[[124   0   0   0   0   0   0]\n",
      " [  0 143   0   0   0   0   0]\n",
      " [  0   0 135   0   0   0   0]\n",
      " [  0   0   0 115   0   0   0]\n",
      " [  0   0   0   0 144   0   0]\n",
      " [  0   0   0   0   0 133   0]\n",
      " [  0   0   0   0   0   0 130]]\n"
     ]
    }
   ],
   "source": [
    "print(metrics.confusion_matrix(y_test, y_test))\n"
   ]
  },
  {
   "cell_type": "code",
   "execution_count": 25,
   "metadata": {
    "collapsed": true
   },
   "outputs": [],
   "source": [
    "# try max_depth 1 through 6 and record training and testing accuracy\n",
    "depth_range = list(range(1, 10))\n",
    "train_scores = []\n",
    "test_scores = []\n",
    "for i in depth_range:\n",
    "    clf = DecisionTreeClassifier(random_state=0, max_depth = i)\n",
    "    clf.fit(X_train, y_train)\n",
    "    train_scores.append(clf.score(X_train, y_train))\n",
    "    test_scores.append(clf.score(X_test, y_test))"
   ]
  },
  {
   "cell_type": "code",
   "execution_count": 26,
   "metadata": {},
   "outputs": [
    {
     "data": {
      "text/plain": [
       "Text(0,0.5,u'Accuracy')"
      ]
     },
     "execution_count": 26,
     "metadata": {},
     "output_type": "execute_result"
    },
    {
     "data": {
      "image/png": "[encoded data removed]",
      "text/plain": [
       "<matplotlib.figure.Figure at 0xb25b978>"
      ]
     },
     "metadata": {},
     "output_type": "display_data"
    }
   ],
   "source": [
    "# import Matplotlib (scientific plotting library)\n",
    "import matplotlib.pyplot as plt\n",
    "\n",
    "# allow plots to appear within the notebook\n",
    "%matplotlib inline\n",
    "\n",
    "# plot the relationship between K and testing accuracy\n",
    "plt.plot(depth_range, train_scores, test_scores)\n",
    "plt.xlabel('Value of max_depth Decision Tree')\n",
    "plt.ylabel('Accuracy')"
   ]
  },
  {
   "cell_type": "code",
   "execution_count": 27,
   "metadata": {
    "collapsed": true
   },
   "outputs": [],
   "source": [
    "# try leaf 1 through 20 and record training and testing accuracy\n",
    "leaf_range = list(range(1, 20))\n",
    "train_scores = []\n",
    "test_scores = []\n",
    "for i in leaf_range:\n",
    "    clf = DecisionTreeClassifier(random_state=0, min_samples_leaf = i)\n",
    "    clf.fit(X_train, y_train)\n",
    "    train_scores.append(clf.score(X_train, y_train))\n",
    "    test_scores.append(clf.score(X_test, y_test))"
   ]
  },
  {
   "cell_type": "code",
   "execution_count": 28,
   "metadata": {},
   "outputs": [
    {
     "data": {
      "text/plain": [
       "Text(0,0.5,u'Accuracy')"
      ]
     },
     "execution_count": 28,
     "metadata": {},
     "output_type": "execute_result"
    },
    {
     "data": {
      "image/png": "[encoded data removed]",
      "text/plain": [
       "<matplotlib.figure.Figure at 0xe6ae4e0>"
      ]
     },
     "metadata": {},
     "output_type": "display_data"
    }
   ],
   "source": [
    "# import Matplotlib (scientific plotting library)\n",
    "import matplotlib.pyplot as plt\n",
    "\n",
    "# allow plots to appear within the notebook\n",
    "%matplotlib inline\n",
    "\n",
    "# plot the relationship between K and testing accuracy\n",
    "plt.plot(leaf_range, train_scores, test_scores)\n",
    "plt.xlabel('Value of Leaf Size Decision Tree')\n",
    "plt.ylabel('Accuracy')"
   ]
  },
  {
   "cell_type": "code",
   "execution_count": 29,
   "metadata": {
    "collapsed": true
   },
   "outputs": [],
   "source": [
    "# try different test sizes and record training and testing accuracy\n",
    "test_size = [.01,.1,.2,.3,.4,.5,.6,.7,.8,.9,.99]\n",
    "ylims = [0,1,2,3,4,5,6,7,8,9,10]\n",
    "train_scores = []\n",
    "test_scores = []\n",
    "for i in test_size:\n",
    "    X_train, X_test, y_train, y_test = train_test_split(X, y, test_size=i)\n",
    "    clf = DecisionTreeClassifier(random_state=0, max_depth = 4,  min_samples_leaf = 7)\n",
    "    clf.fit(X_train, y_train)\n",
    "    train_scores.append(clf.score(X_train, y_train))\n",
    "    test_scores.append(clf.score(X_test, y_test))"
   ]
  },
  {
   "cell_type": "code",
   "execution_count": 30,
   "metadata": {},
   "outputs": [
    {
     "data": {
      "text/plain": [
       "Text(0,0.5,u'Accuracy')"
      ]
     },
     "execution_count": 30,
     "metadata": {},
     "output_type": "execute_result"
    },
    {
     "data": {
      "image/png": "[encoded data removed]",
      "text/plain": [
       "<matplotlib.figure.Figure at 0xe4eea20>"
      ]
     },
     "metadata": {},
     "output_type": "display_data"
    }
   ],
   "source": [
    "# import Matplotlib (scientific plotting library)\n",
    "import matplotlib.pyplot as plt\n",
    "\n",
    "# allow plots to appear within the notebook\n",
    "%matplotlib inline\n",
    "\n",
    "# plot the relationship between K and testing accuracy\n",
    "plt.plot(ylims, train_scores, test_scores)\n",
    "plt.xlabel('DT: Value of Test Size')\n",
    "plt.ylabel('Accuracy')"
   ]
  },
  {
   "cell_type": "code",
   "execution_count": 31,
   "metadata": {},
   "outputs": [
    {
     "data": {
      "text/plain": [
       "array([ 0.69264069,  0.7012987 ,  0.6969697 ,  0.68398268,  0.71428571,\n",
       "        0.70562771,  0.70562771,  0.70995671,  0.61904762,  0.63636364])"
      ]
     },
     "execution_count": 31,
     "metadata": {},
     "output_type": "execute_result"
    }
   ],
   "source": [
    "cross_val_score(clf, X, y, cv=10)"
   ]
  },
  {
   "cell_type": "code",
   "execution_count": null,
   "metadata": {
    "collapsed": true
   },
   "outputs": [],
   "source": []
  },
  {
   "cell_type": "code",
   "execution_count": null,
   "metadata": {
    "collapsed": true
   },
   "outputs": [],
   "source": []
  },
  {
   "cell_type": "code",
   "execution_count": 33,
   "metadata": {
    "collapsed": true
   },
   "outputs": [],
   "source": [
    "###### HOLDOUT ########\n",
    "\n",
    "# Holdout 20%\n",
    "X = data[data.columns.difference(['CLASS'])]\n",
    "y = data['CLASS']\n",
    "X, X_test_holdout, y, y_test_holdout = train_test_split(X, y, test_size=0.2)\n",
    "X_train, X_test, y_train, y_test = train_test_split(X, y)"
   ]
  },
  {
   "cell_type": "code",
   "execution_count": 34,
   "metadata": {},
   "outputs": [
    {
     "name": "stdout",
     "output_type": "stream",
     "text": [
      "train accuracy:  [69.933854479855682, 69.079837618403246, 69.992266047950508, 72.111913357400724, 72.186147186147181, 72.124492557510138, 72.924187725631768, 70.189701897018978, 78.260869565217391]\n",
      "\n",
      "cv accuracy:  [69.508454544294125, 69.147367291679828, 69.74212647476439, 70.847836893962167, 70.657858803304762, 70.501111088545215, 72.541333908541645, 69.39030702188596, 80.03517483548444]\n",
      "\n"
     ]
    },
    {
     "data": {
      "text/plain": [
       "<matplotlib.legend.Legend at 0xee984a8>"
      ]
     },
     "execution_count": 34,
     "metadata": {},
     "output_type": "execute_result"
    },
    {
     "data": {
      "image/png": "[encoded data removed]",
      "text/plain": [
       "<matplotlib.figure.Figure at 0xebe6cf8>"
      ]
     },
     "metadata": {},
     "output_type": "display_data"
    }
   ],
   "source": [
    "\n",
    "\n",
    "##### Learning Curve########\n",
    "\n",
    "# try different test sizes and record training and testing and cv accuracy\n",
    "test_size = [.1,.2,.3,.4,.5,.6,.7,.8,.9]\n",
    "ylims = [0,1,2,3,4,5,6,7,8]\n",
    "train_scores = []\n",
    "test_scores = []\n",
    "cv_scores = []\n",
    "for i in test_size:\n",
    "    X_train, X_test, y_train, y_test = train_test_split(X, y, test_size=i)\n",
    "    clf = DecisionTreeClassifier(max_depth = 4,  min_samples_leaf = 7)\n",
    "    clf.fit(X_train, y_train)\n",
    "    y_pred = clf.predict(X_test)\n",
    "    train_scores.append(clf.score(X_train, y_train)*100)\n",
    "    test_scores.append(clf.score(X_test, y_test)*100)\n",
    "    cv = cross_val_score(clf, X_train, y_train, cv=10)\n",
    "    cv_mean = np.array(cv).mean() * 100\n",
    "    cv_scores.append(cv_mean)\n",
    "    \n",
    "print \"train accuracy: \", train_scores\n",
    "print\n",
    "#print test_scores\n",
    "#print\n",
    "print \"cv accuracy: \", cv_scores\n",
    "print\n",
    "\n",
    "plt.plot(test_size, train_scores, color='blue', label='train')\n",
    "plt.plot(test_size, cv_scores, color='orange', label='cv')\n",
    "plt.xlabel('Test Size')\n",
    "plt.ylabel('Accuracy')\n",
    "plt.title('DT 2: Learning Curve')\n",
    "plt.legend()\n",
    "\n"
   ]
  },
  {
   "cell_type": "code",
   "execution_count": 35,
   "metadata": {},
   "outputs": [
    {
     "name": "stdout",
     "output_type": "stream",
     "text": [
      "train accuracy:  [100.0, 99.456521739130437, 97.282608695652172, 96.195652173913047, 96.195652173913047, 96.195652173913047, 96.195652173913047, 96.195652173913047, 96.195652173913047, 95.652173913043484, 95.108695652173907, 94.565217391304344, 94.565217391304344, 92.391304347826093, 92.391304347826093, 92.391304347826093, 92.391304347826093, 91.847826086956516, 91.847826086956516]\n",
      "\n",
      "cv accuracy:  [93.422149960462662, 91.657444078109705, 91.657444078109705, 91.202898623564252, 90.202898623564266, 90.202898623564266, 89.702898623564252, 90.06254774637128, 90.025783040488932, 89.116692131398025, 89.116692131398025, 86.949509468859318, 85.92786444721429, 86.904054923404757, 86.404054923404772, 86.31581962928712, 87.529054923404757, 88.029054923404772, 87.166301448809179]\n",
      "\n"
     ]
    },
    {
     "data": {
      "text/plain": [
       "<matplotlib.legend.Legend at 0xf0d59b0>"
      ]
     },
     "execution_count": 35,
     "metadata": {},
     "output_type": "execute_result"
    },
    {
     "data": {
      "image/png": "[encoded data removed]",
      "text/plain": [
       "<matplotlib.figure.Figure at 0xea10b38>"
      ]
     },
     "metadata": {},
     "output_type": "display_data"
    }
   ],
   "source": [
    "###### Model Complexity ########\n",
    "\n",
    "# try leaf 1 through 20 and record training and testing accuracy\n",
    "leaf_range = list(range(1, 20))\n",
    "train_scores = []\n",
    "test_scores = []\n",
    "cv_scores = []\n",
    "for i in leaf_range:\n",
    "    clf = DecisionTreeClassifier(min_samples_leaf = i)\n",
    "    clf.fit(X_train, y_train)\n",
    "    y_pred = clf.predict(X_test)\n",
    "    train_scores.append(clf.score(X_train, y_train)*100)\n",
    "    test_scores.append(clf.score(X_test, y_test)*100)\n",
    "    cv = cross_val_score(clf, X_train, y_train, cv=10)\n",
    "    cv_mean = np.array(cv).mean() * 100\n",
    "    cv_scores.append(cv_mean)\n",
    "\n",
    "print \"train accuracy: \", train_scores\n",
    "print\n",
    "#print test_scores\n",
    "#print\n",
    "print \"cv accuracy: \", cv_scores\n",
    "print\n",
    "\n",
    "plt.plot(leaf_range, train_scores, color='blue', label='train')\n",
    "plt.plot(leaf_range, cv_scores, color='orange', label='cv')\n",
    "plt.xlabel('Leaf Min Sample Size')\n",
    "plt.ylabel('Accuracy')\n",
    "plt.title('DT 2: Model Complexity Curve')\n",
    "plt.legend()\n",
    "\n"
   ]
  },
  {
   "cell_type": "code",
   "execution_count": 64,
   "metadata": {},
   "outputs": [
    {
     "name": "stdout",
     "output_type": "stream",
     "text": [
      "Accuracy on the training subset: 0.956\n",
      "Accuracy on the test subset: 0.947\n",
      "[[42  2]\n",
      " [ 4 66]]\n"
     ]
    }
   ],
   "source": [
    "##### Test Model On Holdout Group  #####\n",
    "\n",
    "clf = DecisionTreeClassifier(criterion='gini', min_samples_leaf = 7)\n",
    "clf.fit(X, y)\n",
    "\n",
    "y_pred = clf.predict(X_test_holdout)\n",
    "\n",
    "print('Accuracy on the training subset: {:.3f}'.format(clf.score(X, y)))\n",
    "print('Accuracy on the test subset: {:.3f}'.format(clf.score(X_test_holdout, y_test_holdout)))\n",
    "print(metrics.confusion_matrix(y_test_holdout, y_pred))"
   ]
  },
  {
   "cell_type": "code",
   "execution_count": 65,
   "metadata": {},
   "outputs": [
    {
     "name": "stdout",
     "output_type": "stream",
     "text": [
      "Accuracy on the training subset: 0.976\n",
      "Accuracy on the test subset: 0.947\n",
      "[[39  5]\n",
      " [ 1 69]]\n"
     ]
    }
   ],
   "source": [
    "##### Test Model On Holdout Group  #####\n",
    "\n",
    "clf = DecisionTreeClassifier(criterion='entropy', min_samples_leaf = 7)\n",
    "clf.fit(X, y)\n",
    "\n",
    "y_pred = clf.predict(X_test_holdout)\n",
    "\n",
    "print('Accuracy on the training subset: {:.3f}'.format(clf.score(X, y)))\n",
    "print('Accuracy on the test subset: {:.3f}'.format(clf.score(X_test_holdout, y_test_holdout)))\n",
    "print(metrics.confusion_matrix(y_test_holdout, y_pred))"
   ]
  },
  {
   "cell_type": "code",
   "execution_count": null,
   "metadata": {
    "collapsed": true
   },
   "outputs": [],
   "source": []
  },
  {
   "cell_type": "code",
   "execution_count": null,
   "metadata": {
    "collapsed": true
   },
   "outputs": [],
   "source": []
  }
 ],
 "metadata": {
  "kernelspec": {
   "display_name": "Python 3",
   "language": "python",
   "name": "python3"
  },
  "language_info": {
   "codemirror_mode": {
    "name": "ipython",
    "version": 3
   },
   "file_extension": ".py",
   "mimetype": "text/x-python",
   "name": "python",
   "nbconvert_exporter": "python",
   "pygments_lexer": "ipython3",
   "version": "3.7.1"
  }
 },
 "nbformat": 4,
 "nbformat_minor": 2
}
