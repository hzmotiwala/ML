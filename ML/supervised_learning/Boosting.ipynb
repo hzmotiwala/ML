{
 "cells": [
  {
   "cell_type": "code",
   "execution_count": 1,
   "metadata": {
    "collapsed": true
   },
   "outputs": [],
   "source": [
    "# Boosting\n",
    "#https://www.kaggle.com/beagle01/prediction-with-gradient-boosting-classifier\n",
    "# ensembles with svm\n",
    "# https://www.youtube.com/watch?v=X3Wbfb4M33w"
   ]
  },
  {
   "cell_type": "code",
   "execution_count": 2,
   "metadata": {
    "collapsed": true
   },
   "outputs": [],
   "source": [
    "import matplotlib.pyplot as plt\n",
    "%matplotlib inline\n",
    "import numpy as np\n",
    "import pandas as pd\n",
    "\n",
    "from sklearn.datasets import load_breast_cancer\n",
    "from sklearn.tree import DecisionTreeClassifier\n",
    "from sklearn.ensemble import AdaBoostClassifier\n",
    "from sklearn.ensemble import GradientBoostingClassifier\n",
    "from sklearn.model_selection import train_test_split\n",
    "from sklearn.model_selection import cross_val_score \n",
    "from sklearn import tree\n",
    "from sklearn import metrics\n",
    "from sklearn.metrics import classification_report, confusion_matrix, roc_curve, auc\n"
   ]
  },
  {
   "cell_type": "code",
   "execution_count": 34,
   "metadata": {},
   "outputs": [],
   "source": [
    "cancer = load_breast_cancer()\n",
    "X = cancer.data\n",
    "y = cancer.target\n"
   ]
  },
  {
   "cell_type": "code",
   "execution_count": 35,
   "metadata": {
    "collapsed": true
   },
   "outputs": [],
   "source": [
    "X_train, X_test, y_train, y_test = train_test_split(X, y, random_state=4)"
   ]
  },
  {
   "cell_type": "code",
   "execution_count": 36,
   "metadata": {},
   "outputs": [
    {
     "name": "stdout",
     "output_type": "stream",
     "text": [
      "Accuracy on the training subset: 0.962\n",
      "Accuracy on the test subset: 0.895\n"
     ]
    }
   ],
   "source": [
    "clf = DecisionTreeClassifier(random_state=0, max_depth = 3,  min_samples_leaf = 7)\n",
    "# max_depth = None,  min_samples_leaf = 1, \n",
    "clf.fit(X_train, y_train)\n",
    "\n",
    "print('Accuracy on the training subset: {:.3f}'.format(clf.score(X_train, y_train)))\n",
    "print('Accuracy on the test subset: {:.3f}'.format(clf.score(X_test, y_test)))"
   ]
  },
  {
   "cell_type": "code",
   "execution_count": 37,
   "metadata": {},
   "outputs": [
    {
     "name": "stdout",
     "output_type": "stream",
     "text": [
      "Confusion Matrix:\n",
      "[[47  1]\n",
      " [14 81]]\n",
      "()\n",
      "Classification Report\n",
      "             precision    recall  f1-score   support\n",
      "\n",
      "          0       0.77      0.98      0.86        48\n",
      "          1       0.99      0.85      0.92        95\n",
      "\n",
      "avg / total       0.91      0.90      0.90       143\n",
      "\n"
     ]
    }
   ],
   "source": [
    "predictions = clf.predict(X_test)\n",
    "\n",
    "print(\"Confusion Matrix:\")\n",
    "print(confusion_matrix(y_test, predictions))\n",
    "print()\n",
    "print(\"Classification Report\")\n",
    "print(classification_report(y_test, predictions))"
   ]
  },
  {
   "cell_type": "code",
   "execution_count": null,
   "metadata": {
    "collapsed": true
   },
   "outputs": [],
   "source": []
  },
  {
   "cell_type": "code",
   "execution_count": null,
   "metadata": {
    "collapsed": true
   },
   "outputs": [],
   "source": []
  },
  {
   "cell_type": "code",
   "execution_count": 38,
   "metadata": {},
   "outputs": [
    {
     "data": {
      "text/plain": [
       "Text(0,0.5,u'Accuracy')"
      ]
     },
     "execution_count": 38,
     "metadata": {},
     "output_type": "execute_result"
    },
    {
     "data": {
      "image/png": "[encoded data removed]",
      "text/plain": [
       "<matplotlib.figure.Figure at 0xc608128>"
      ]
     },
     "metadata": {},
     "output_type": "display_data"
    }
   ],
   "source": [
    "# try max_depth 1 through 6 and record training and testing accuracy\n",
    "depth_range = list(range(1, 10))\n",
    "train_scores = []\n",
    "test_scores = []\n",
    "X_train, X_test, y_train, y_test = train_test_split(X, y, random_state=4)\n",
    "for i in depth_range:\n",
    "    clf = DecisionTreeClassifier(random_state=0, max_depth = i)\n",
    "    clf.fit(X_train, y_train)\n",
    "    train_scores.append(clf.score(X_train, y_train))\n",
    "    test_scores.append(clf.score(X_test, y_test))\n",
    "    \n",
    "# plot the relationship between K and testing accuracy\n",
    "plt.plot(depth_range, train_scores, test_scores)\n",
    "plt.xlabel('Value of max_depth Decision Tree')\n",
    "plt.ylabel('Accuracy')"
   ]
  },
  {
   "cell_type": "code",
   "execution_count": null,
   "metadata": {
    "collapsed": true
   },
   "outputs": [],
   "source": []
  },
  {
   "cell_type": "code",
   "execution_count": 39,
   "metadata": {},
   "outputs": [
    {
     "name": "stdout",
     "output_type": "stream",
     "text": [
      "('n estimators: ', 5)\n",
      "Accuracy score (training): 0.962\n",
      "Accuracy score (test): 0.937\n",
      "total score:  1.89950425162\n",
      "()\n",
      "('n estimators: ', 10)\n",
      "Accuracy score (training): 0.981\n",
      "Accuracy score (test): 0.930\n",
      "total score:  1.91129058735\n",
      "()\n",
      "('n estimators: ', 20)\n",
      "Accuracy score (training): 0.998\n",
      "Accuracy score (test): 0.923\n",
      "total score:  1.92072950524\n",
      "()\n",
      "('n estimators: ', 35)\n",
      "Accuracy score (training): 1.000\n",
      "Accuracy score (test): 0.923\n",
      "total score:  1.92307692308\n",
      "()\n",
      "('n estimators: ', 50)\n",
      "Accuracy score (training): 1.000\n",
      "Accuracy score (test): 0.930\n",
      "total score:  1.93006993007\n",
      "()\n",
      "('n estimators: ', 75)\n",
      "Accuracy score (training): 1.000\n",
      "Accuracy score (test): 0.958\n",
      "total score:  1.95804195804\n",
      "()\n",
      "('n estimators: ', 100)\n",
      "Accuracy score (training): 1.000\n",
      "Accuracy score (test): 0.958\n",
      "total score:  1.95804195804\n",
      "()\n",
      "('n estimators: ', 500)\n",
      "Accuracy score (training): 1.000\n",
      "Accuracy score (test): 0.958\n",
      "total score:  1.95804195804\n",
      "()\n",
      "('n estimators: ', 1000)\n",
      "Accuracy score (training): 1.000\n",
      "Accuracy score (test): 0.958\n",
      "total score:  1.95804195804\n",
      "()\n"
     ]
    }
   ],
   "source": [
    "n_estimators = [5, 10, 20, 35, 50, 75, 100, 500, 1000]\n",
    "X_train, X_test, y_train, y_test = train_test_split(X, y, random_state=4)\n",
    "\n",
    "for n in n_estimators:\n",
    "    gb = GradientBoostingClassifier(n_estimators=n, learning_rate = 0.5, max_features=2, max_depth = 2, random_state = 0)\n",
    "    gb.fit(X_train, y_train)\n",
    "    print(\"n estimators: \", n)\n",
    "    print(\"Accuracy score (training): {0:.3f}\".format(gb.score(X_train, y_train)))\n",
    "    print(\"Accuracy score (test): {0:.3f}\".format(gb.score(X_test, y_test)))\n",
    "    print \"total score: \", gb.score(X_train, y_train) + gb.score(X_test, y_test)\n",
    "    print()"
   ]
  },
  {
   "cell_type": "code",
   "execution_count": 40,
   "metadata": {},
   "outputs": [
    {
     "name": "stdout",
     "output_type": "stream",
     "text": [
      "('Learning rate: ', 0.01)\n",
      "Accuracy score (training): 0.615\n",
      "Accuracy score (test): 0.664\n",
      "total score:  1.27935913851\n",
      "()\n",
      "('Learning rate: ', 0.1)\n",
      "Accuracy score (training): 0.977\n",
      "Accuracy score (test): 0.916\n",
      "total score:  1.89260973768\n",
      "()\n",
      "('Learning rate: ', 0.2)\n",
      "Accuracy score (training): 0.986\n",
      "Accuracy score (test): 0.930\n",
      "total score:  1.91598542303\n",
      "()\n",
      "('Learning rate: ', 0.3)\n",
      "Accuracy score (training): 0.993\n",
      "Accuracy score (test): 0.937\n",
      "total score:  1.93002068354\n",
      "()\n",
      "('Learning rate: ', 0.4)\n",
      "Accuracy score (training): 0.993\n",
      "Accuracy score (test): 0.937\n",
      "total score:  1.93002068354\n",
      "()\n",
      "('Learning rate: ', 0.5)\n",
      "Accuracy score (training): 0.998\n",
      "Accuracy score (test): 0.923\n",
      "total score:  1.92072950524\n",
      "()\n",
      "('Learning rate: ', 0.6)\n",
      "Accuracy score (training): 0.998\n",
      "Accuracy score (test): 0.937\n",
      "total score:  1.93471551922\n",
      "()\n",
      "('Learning rate: ', 0.7)\n",
      "Accuracy score (training): 0.998\n",
      "Accuracy score (test): 0.944\n",
      "total score:  1.94170852622\n",
      "()\n",
      "('Learning rate: ', 0.8)\n",
      "Accuracy score (training): 0.998\n",
      "Accuracy score (test): 0.951\n",
      "total score:  1.94870153321\n",
      "()\n",
      "('Learning rate: ', 0.9)\n",
      "Accuracy score (training): 1.000\n",
      "Accuracy score (test): 0.958\n",
      "total score:  1.95804195804\n",
      "()\n",
      "('Learning rate: ', 0.99)\n",
      "Accuracy score (training): 1.000\n",
      "Accuracy score (test): 0.951\n",
      "total score:  1.95104895105\n",
      "()\n"
     ]
    }
   ],
   "source": [
    "learning_rates = [0.01, 0.1, 0.2, 0.3, 0.4, 0.5, 0.6, 0.7, 0.8, 0.9, 0.99]\n",
    "X_train, X_test, y_train, y_test = train_test_split(X, y, random_state=4)\n",
    "\n",
    "for learning_rate in learning_rates:\n",
    "    gb = GradientBoostingClassifier(n_estimators=20, learning_rate = learning_rate, max_features=2, max_depth = 2, random_state = 0)\n",
    "    gb.fit(X_train, y_train)\n",
    "    print(\"Learning rate: \", learning_rate)\n",
    "    print(\"Accuracy score (training): {0:.3f}\".format(gb.score(X_train, y_train)))\n",
    "    print(\"Accuracy score (test): {0:.3f}\".format(gb.score(X_test, y_test)))\n",
    "    print \"total score: \", gb.score(X_train, y_train) + gb.score(X_test, y_test)\n",
    "    print()"
   ]
  },
  {
   "cell_type": "code",
   "execution_count": 10,
   "metadata": {},
   "outputs": [
    {
     "name": "stdout",
     "output_type": "stream",
     "text": [
      "Confusion Matrix:\n",
      "[[48  0]\n",
      " [11 84]]\n",
      "()\n",
      "Classification Report\n",
      "             precision    recall  f1-score   support\n",
      "\n",
      "          0       0.81      1.00      0.90        48\n",
      "          1       1.00      0.88      0.94        95\n",
      "\n",
      "avg / total       0.94      0.92      0.92       143\n",
      "\n"
     ]
    }
   ],
   "source": [
    "# Output confusion matrix and classification report of Gradient Boosting algorithm on validation set\n",
    "X_train, X_test, y_train, y_test = train_test_split(X, y, random_state=4)\n",
    "gb = GradientBoostingClassifier(n_estimators=20, learning_rate = 0.5, max_features=2, max_depth = 2, random_state = 0)\n",
    "gb.fit(X_train, y_train)\n",
    "predictions = gb.predict(X_test)\n",
    "\n",
    "print(\"Confusion Matrix:\")\n",
    "print(confusion_matrix(y_test, predictions))\n",
    "print()\n",
    "print(\"Classification Report\")\n",
    "print(classification_report(y_test, predictions))"
   ]
  },
  {
   "cell_type": "code",
   "execution_count": 11,
   "metadata": {},
   "outputs": [
    {
     "name": "stdout",
     "output_type": "stream",
     "text": [
      "Area under ROC curve = 0.99\n"
     ]
    }
   ],
   "source": [
    "# ROC curve and Area-Under-Curve (AUC)\n",
    "\n",
    "y_scores_gb = gb.decision_function(X_test)\n",
    "fpr_gb, tpr_gb, _ = roc_curve(y_test, y_scores_gb)\n",
    "roc_auc_gb = auc(fpr_gb, tpr_gb)\n",
    "\n",
    "print(\"Area under ROC curve = {:0.2f}\".format(roc_auc_gb))"
   ]
  },
  {
   "cell_type": "code",
   "execution_count": null,
   "metadata": {
    "collapsed": true
   },
   "outputs": [],
   "source": []
  },
  {
   "cell_type": "code",
   "execution_count": 12,
   "metadata": {},
   "outputs": [
    {
     "data": {
      "text/plain": [
       "Text(0,0.5,u'Accuracy')"
      ]
     },
     "execution_count": 12,
     "metadata": {},
     "output_type": "execute_result"
    },
    {
     "data": {
      "image/png": "[encoded data removed]",
      "text/plain": [
       "<matplotlib.figure.Figure at 0xc6089b0>"
      ]
     },
     "metadata": {},
     "output_type": "display_data"
    }
   ],
   "source": [
    "# try different test sizes and record training and testing accuracy\n",
    "test_size = [.01,.1,.2,.3,.4,.5,.6,.7,.8,.9,.99]\n",
    "ylims = [0,1,2,3,4,5,6,7,8,9,10]\n",
    "train_scores = []\n",
    "test_scores = []\n",
    "for i in test_size:\n",
    "    X_train, X_test, y_train, y_test = train_test_split(X, y, test_size=i)\n",
    "    gb = GradientBoostingClassifier(n_estimators=20, learning_rate = 0.5, max_features=2, max_depth = 2)\n",
    "    gb.fit(X_train, y_train)\n",
    "    train_scores.append(gb.score(X_train, y_train))\n",
    "    test_scores.append(gb.score(X_test, y_test))\n",
    "    \n",
    "# plot the relationship between K and testing accuracy\n",
    "plt.plot(ylims, train_scores, test_scores)\n",
    "plt.xlabel('Boosting: Value of Test Size')\n",
    "plt.ylabel('Accuracy')"
   ]
  },
  {
   "cell_type": "code",
   "execution_count": null,
   "metadata": {
    "collapsed": true
   },
   "outputs": [],
   "source": []
  },
  {
   "cell_type": "code",
   "execution_count": 13,
   "metadata": {},
   "outputs": [
    {
     "data": {
      "text/plain": [
       "Text(0,0.5,u'Accuracy')"
      ]
     },
     "execution_count": 13,
     "metadata": {},
     "output_type": "execute_result"
    },
    {
     "data": {
      "image/png": "[encoded data removed]",
      "text/plain": [
       "<matplotlib.figure.Figure at 0xc608358>"
      ]
     },
     "metadata": {},
     "output_type": "display_data"
    }
   ],
   "source": [
    "# try leaf 1 through 20 and record training and testing accuracy\n",
    "X_train, X_test, y_train, y_test = train_test_split(X, y)\n",
    "leaf_range = list(range(1, 20))\n",
    "train_scores = []\n",
    "test_scores = []\n",
    "for i in leaf_range:\n",
    "    gb = GradientBoostingClassifier(n_estimators=20, learning_rate = 0.5, max_features=2, max_depth = 2, min_samples_leaf=i)\n",
    "    gb.fit(X_train, y_train)\n",
    "    train_scores.append(gb.score(X_train, y_train))\n",
    "    test_scores.append(gb.score(X_test, y_test))\n",
    "\n",
    "# plot the relationship between K and testing accuracy\n",
    "plt.plot(leaf_range, train_scores, test_scores)\n",
    "plt.xlabel('Value of Leaf Size Decision Tree')\n",
    "plt.ylabel('Accuracy')"
   ]
  },
  {
   "cell_type": "code",
   "execution_count": null,
   "metadata": {
    "collapsed": true
   },
   "outputs": [],
   "source": []
  },
  {
   "cell_type": "code",
   "execution_count": 14,
   "metadata": {
    "collapsed": true
   },
   "outputs": [],
   "source": [
    "###### HOLDOUT ########\n",
    "\n",
    "# Holdout 20%\n",
    "X = cancer.data\n",
    "y = cancer.target\n",
    "X, X_test_holdout, y, y_test_holdout = train_test_split(X, y, test_size=0.2)\n",
    "X_train, X_test, y_train, y_test = train_test_split(X, y)"
   ]
  },
  {
   "cell_type": "code",
   "execution_count": 41,
   "metadata": {},
   "outputs": [
    {
     "name": "stdout",
     "output_type": "stream",
     "text": [
      "train accuracy:  [99.609375, 99.560439560439562, 100.0, 100.0, 99.295774647887328, 100.0, 100.0, 100.0, 100.0]\n",
      "\n",
      "cv accuracy:  [94.731070889894426, 93.806146572104026, 95.743589743589737, 95.325184619302277, 95.418719211822662, 93.883399209486171, 92.990196078431381, 95.0, 94.0]\n",
      "\n"
     ]
    },
    {
     "data": {
      "text/plain": [
       "<matplotlib.legend.Legend at 0xef1d3c8>"
      ]
     },
     "execution_count": 41,
     "metadata": {},
     "output_type": "execute_result"
    },
    {
     "data": {
      "image/png": "[encoded data removed]",
      "text/plain": [
       "<matplotlib.figure.Figure at 0xeb49c88>"
      ]
     },
     "metadata": {},
     "output_type": "display_data"
    }
   ],
   "source": [
    "##### Learning Curve########\n",
    "\n",
    "# try different test sizes and record training and testing and cv accuracy\n",
    "test_size = [.1,.2,.3,.4,.5,.6,.7,.8,.9]\n",
    "ylims = [0,1,2,3,4,5,6,7,8]\n",
    "train_scores = []\n",
    "test_scores = []\n",
    "cv_scores = []\n",
    "for i in test_size:\n",
    "    X_train, X_test, y_train, y_test = train_test_split(X, y, test_size=i)\n",
    "    gb = GradientBoostingClassifier(n_estimators=20, learning_rate = 0.5, max_features=2, max_depth = 2)\n",
    "    gb.fit(X_train, y_train)\n",
    "    y_pred = gb.predict(X_test)\n",
    "    train_scores.append(gb.score(X_train, y_train)*100)\n",
    "    test_scores.append(gb.score(X_test, y_test)*100)\n",
    "    cv = cross_val_score(gb, X_train, y_train, cv=10)\n",
    "    cv_mean = np.array(cv).mean() * 100\n",
    "    cv_scores.append(cv_mean)\n",
    "    \n",
    "       \n",
    "print \"train accuracy: \", train_scores\n",
    "print\n",
    "#print test_scores\n",
    "#print\n",
    "print \"cv accuracy: \", cv_scores\n",
    "print\n",
    "\n",
    "plt.plot(test_size, train_scores, color='blue', label='train')\n",
    "plt.plot(test_size, cv_scores, color='orange', label='cv')\n",
    "plt.xlabel('Test Size')\n",
    "plt.ylabel('Accuracy')\n",
    "plt.title('Boosting: Learning Curve')\n",
    "plt.legend()"
   ]
  },
  {
   "cell_type": "code",
   "execution_count": 43,
   "metadata": {},
   "outputs": [
    {
     "name": "stdout",
     "output_type": "stream",
     "text": [
      "train accuracy:  [63.380281690140848, 97.652582159624416, 98.356807511737088, 98.826291079812208, 99.53051643192488, 99.53051643192488, 99.765258215962433, 99.765258215962433, 99.765258215962433, 100.0, 100.0]\n",
      "\n",
      "cv accuracy:  [63.388704318936881, 93.660022148394233, 93.194905869324472, 92.967884828349952, 94.844961240310084, 92.945736434108525, 94.141749723145068, 94.136212624584715, 95.310077519379846, 94.368770764119603, 93.903654485049842]\n",
      "\n"
     ]
    },
    {
     "data": {
      "text/plain": [
       "<matplotlib.legend.Legend at 0xf2b34a8>"
      ]
     },
     "execution_count": 43,
     "metadata": {},
     "output_type": "execute_result"
    },
    {
     "data": {
      "image/png": "[encoded data removed]",
      "text/plain": [
       "<matplotlib.figure.Figure at 0xf2e2240>"
      ]
     },
     "metadata": {},
     "output_type": "display_data"
    }
   ],
   "source": [
    "###### Model Complexity ########\n",
    "\n",
    "# try leaf 1 through 20 and record training and testing accuracy\n",
    "X_train, X_test, y_train, y_test = train_test_split(X, y)\n",
    "learning_rates = [0.01, 0.1, 0.2, 0.3, 0.4, 0.5, 0.6, 0.7, 0.8, 0.9, 0.99]\n",
    "train_scores = []\n",
    "test_scores = []\n",
    "cv_scores = []\n",
    "for learning_rate in learning_rates:\n",
    "    gb = GradientBoostingClassifier(n_estimators=20, learning_rate = learning_rate, max_features=2, max_depth = 2)\n",
    "    gb.fit(X_train, y_train)\n",
    "    y_pred = gb.predict(X_test)\n",
    "    train_scores.append(gb.score(X_train, y_train)*100)\n",
    "    test_scores.append(gb.score(X_test, y_test)*100)\n",
    "    cv = cross_val_score(gb, X_train, y_train, cv=10)\n",
    "    cv_mean = np.array(cv).mean() * 100\n",
    "    cv_scores.append(cv_mean)\n",
    "\n",
    "print \"train accuracy: \", train_scores\n",
    "print\n",
    "#print test_scores\n",
    "#print\n",
    "print \"cv accuracy: \", cv_scores\n",
    "print\n",
    "\n",
    "plt.plot(learning_rates, train_scores, color='blue', label='train')\n",
    "plt.plot(learning_rates, cv_scores, color='orange', label='cv')\n",
    "plt.xlabel('Learning Rate')\n",
    "plt.ylabel('Accuracy')\n",
    "plt.title('Boosting: Model Complexity Curve')\n",
    "plt.legend()"
   ]
  },
  {
   "cell_type": "code",
   "execution_count": 17,
   "metadata": {},
   "outputs": [
    {
     "name": "stdout",
     "output_type": "stream",
     "text": [
      "Accuracy on the training subset: 0.998\n",
      "Accuracy on the test subset: 0.965\n",
      "[[41  1]\n",
      " [ 3 69]]\n"
     ]
    }
   ],
   "source": [
    "##### Test Model On Holdout Group  #####\n",
    "gb = GradientBoostingClassifier(n_estimators=20, learning_rate = 0.5, max_features=4, max_depth = 2)\n",
    "gb.fit(X, y)\n",
    "y_pred = gb.predict(X_test_holdout)\n",
    "\n",
    "print('Accuracy on the training subset: {:.3f}'.format(gb.score(X, y)))\n",
    "print('Accuracy on the test subset: {:.3f}'.format(gb.score(X_test_holdout, y_test_holdout)))\n",
    "print(metrics.confusion_matrix(y_test_holdout, y_pred))"
   ]
  },
  {
   "cell_type": "code",
   "execution_count": null,
   "metadata": {
    "collapsed": true
   },
   "outputs": [],
   "source": []
  },
  {
   "cell_type": "code",
   "execution_count": null,
   "metadata": {
    "collapsed": true
   },
   "outputs": [],
   "source": []
  },
  {
   "cell_type": "code",
   "execution_count": null,
   "metadata": {
    "collapsed": true
   },
   "outputs": [],
   "source": []
  },
  {
   "cell_type": "code",
   "execution_count": null,
   "metadata": {
    "collapsed": true
   },
   "outputs": [],
   "source": []
  },
  {
   "cell_type": "code",
   "execution_count": null,
   "metadata": {
    "collapsed": true
   },
   "outputs": [],
   "source": []
  },
  {
   "cell_type": "code",
   "execution_count": null,
   "metadata": {
    "collapsed": true
   },
   "outputs": [],
   "source": []
  },
  {
   "cell_type": "code",
   "execution_count": 18,
   "metadata": {
    "collapsed": true
   },
   "outputs": [],
   "source": [
    "# image segmentation"
   ]
  },
  {
   "cell_type": "code",
   "execution_count": 19,
   "metadata": {
    "collapsed": true
   },
   "outputs": [],
   "source": [
    "###########  image segmentation  ########"
   ]
  },
  {
   "cell_type": "code",
   "execution_count": 20,
   "metadata": {},
   "outputs": [
    {
     "name": "stdout",
     "output_type": "stream",
     "text": [
      "(2310, 20)\n",
      "   CLASS  REGION-CENTROID-COL  REGION-CENTROID-ROW  REGION-PIXEL-COUNT  \\\n",
      "0      1                  140                  125                   9   \n",
      "1      1                  188                  133                   9   \n",
      "2      1                  105                  139                   9   \n",
      "3      1                   34                  137                   9   \n",
      "4      1                   39                  111                   9   \n",
      "\n",
      "   SHORT-LINE-DENSITY-5  SHORT-LINE-DENSITY-2  VEDGE-MEAN  VEDGE-SD  \\\n",
      "0                   0.0                   0.0    0.277778  0.062963   \n",
      "1                   0.0                   0.0    0.333333  0.266667   \n",
      "2                   0.0                   0.0    0.277778  0.107407   \n",
      "3                   0.0                   0.0    0.500000  0.166667   \n",
      "4                   0.0                   0.0    0.722222  0.374074   \n",
      "\n",
      "   HEDGE-MEAN  HEDGE-SD  INTENSITY-MEAN  RAWRED-MEAN  RAWBLUE-MEAN  \\\n",
      "0    0.666667  0.311111        6.185185     7.333334      7.666666   \n",
      "1    0.500000  0.077778        6.666666     8.333334      7.777778   \n",
      "2    0.833333  0.522222        6.111111     7.555555      7.222222   \n",
      "3    1.111111  0.474074        5.851852     7.777778      6.444445   \n",
      "4    0.888889  0.429629        6.037037     7.000000      7.666666   \n",
      "\n",
      "   RAWGREEN-MEAN  EXRED-MEAN  EXBLUE-MEAN  EXGREEN-MEAN  VALUE-MEAN  \\\n",
      "0       3.555556    3.444444     4.444445     -7.888889    7.777778   \n",
      "1       3.888889    5.000000     3.333333     -8.333333    8.444445   \n",
      "2       3.555556    4.333334     3.333333     -7.666666    7.555555   \n",
      "3       3.333333    5.777778     1.777778     -7.555555    7.777778   \n",
      "4       3.444444    2.888889     4.888889     -7.777778    7.888889   \n",
      "\n",
      "   SATURATION-MEAN  HUE-MEAN  \n",
      "0         0.545635 -1.121818  \n",
      "1         0.538580 -0.924817  \n",
      "2         0.532628 -0.965946  \n",
      "3         0.573633 -0.744272  \n",
      "4         0.562919 -1.175773  \n",
      "\n",
      "(2310, 19)\n",
      "(2310L,)\n"
     ]
    }
   ],
   "source": [
    "data = pd.read_csv('C:/Users/443966/Desktop/image_segmentation_1.csv')\n",
    "print data.shape\n",
    "print data.head()\n",
    "\n",
    "X = data[data.columns.difference(['CLASS'])]\n",
    "y = data['CLASS']\n",
    "\n",
    "print\n",
    "print X.shape\n",
    "print y.shape"
   ]
  },
  {
   "cell_type": "code",
   "execution_count": 21,
   "metadata": {},
   "outputs": [
    {
     "name": "stdout",
     "output_type": "stream",
     "text": [
      "Accuracy on the training subset: 0.577\n",
      "Accuracy on the test subset: 0.550\n"
     ]
    }
   ],
   "source": [
    "X_train, X_test, y_train, y_test = train_test_split(X, y, random_state=4)\n",
    "\n",
    "clf = DecisionTreeClassifier(random_state=0, max_depth = 3,  min_samples_leaf = 7)\n",
    "# max_depth = None,  min_samples_leaf = 1, \n",
    "clf.fit(X_train, y_train)\n",
    "\n",
    "print('Accuracy on the training subset: {:.3f}'.format(clf.score(X_train, y_train)))\n",
    "print('Accuracy on the test subset: {:.3f}'.format(clf.score(X_test, y_test)))"
   ]
  },
  {
   "cell_type": "code",
   "execution_count": 22,
   "metadata": {},
   "outputs": [
    {
     "name": "stdout",
     "output_type": "stream",
     "text": [
      "Confusion Matrix:\n",
      "[[ 67   0   0   0   0   0   0]\n",
      " [  0  79   0   0   0   0   0]\n",
      " [ 83   0   0   0   0   0   0]\n",
      " [ 69   0   0   0   0   3   0]\n",
      " [105   0   0   0   0   0   0]\n",
      " [  0   0   0   0   0  88   0]\n",
      " [  0   0   0   0   0   0  84]]\n",
      "()\n",
      "Classification Report\n",
      "             precision    recall  f1-score   support\n",
      "\n",
      "          1       0.21      1.00      0.34        67\n",
      "          2       1.00      1.00      1.00        79\n",
      "          3       0.00      0.00      0.00        83\n",
      "          4       0.00      0.00      0.00        72\n",
      "          5       0.00      0.00      0.00       105\n",
      "          6       0.97      1.00      0.98        88\n",
      "          7       1.00      1.00      1.00        84\n",
      "\n",
      "avg / total       0.45      0.55      0.47       578\n",
      "\n"
     ]
    },
    {
     "name": "stderr",
     "output_type": "stream",
     "text": [
      "C:\\ProgramData\\Anaconda2\\lib\\site-packages\\sklearn\\metrics\\classification.py:1135: UndefinedMetricWarning: Precision and F-score are ill-defined and being set to 0.0 in labels with no predicted samples.\n",
      "  'precision', 'predicted', average, warn_for)\n"
     ]
    }
   ],
   "source": [
    "predictions = clf.predict(X_test)\n",
    "\n",
    "print(\"Confusion Matrix:\")\n",
    "print(confusion_matrix(y_test, predictions))\n",
    "print()\n",
    "print(\"Classification Report\")\n",
    "print(classification_report(y_test, predictions))"
   ]
  },
  {
   "cell_type": "code",
   "execution_count": null,
   "metadata": {
    "collapsed": true
   },
   "outputs": [],
   "source": []
  },
  {
   "cell_type": "code",
   "execution_count": null,
   "metadata": {
    "collapsed": true
   },
   "outputs": [],
   "source": []
  },
  {
   "cell_type": "code",
   "execution_count": null,
   "metadata": {
    "collapsed": true
   },
   "outputs": [],
   "source": []
  },
  {
   "cell_type": "code",
   "execution_count": 23,
   "metadata": {},
   "outputs": [
    {
     "name": "stdout",
     "output_type": "stream",
     "text": [
      "('Learning rate: ', 5)\n",
      "Accuracy score (training): 0.919\n",
      "Accuracy score (test): 0.920\n",
      "total score:  1.83958381614\n",
      "()\n",
      "('Learning rate: ', 10)\n",
      "Accuracy score (training): 0.966\n",
      "Accuracy score (test): 0.950\n",
      "total score:  1.91576232449\n",
      "()\n",
      "('Learning rate: ', 20)\n",
      "Accuracy score (training): 0.989\n",
      "Accuracy score (test): 0.964\n",
      "total score:  1.95269784316\n",
      "()\n",
      "('Learning rate: ', 35)\n",
      "Accuracy score (training): 0.999\n",
      "Accuracy score (test): 0.969\n",
      "total score:  1.96770339708\n",
      "()\n",
      "('Learning rate: ', 50)\n",
      "Accuracy score (training): 1.000\n",
      "Accuracy score (test): 0.974\n",
      "total score:  1.97404844291\n",
      "()\n",
      "('Learning rate: ', 75)\n",
      "Accuracy score (training): 1.000\n",
      "Accuracy score (test): 0.976\n",
      "total score:  1.97577854671\n",
      "()\n",
      "('Learning rate: ', 100)\n",
      "Accuracy score (training): 1.000\n",
      "Accuracy score (test): 0.972\n",
      "total score:  1.9723183391\n",
      "()\n"
     ]
    }
   ],
   "source": [
    "n_estimators = [5, 10, 20, 35, 50, 75, 100]\n",
    "X_train, X_test, y_train, y_test = train_test_split(X, y, random_state=4)\n",
    "\n",
    "for n in n_estimators:\n",
    "    gb = GradientBoostingClassifier(n_estimators=n, learning_rate = 0.5, max_features=2, max_depth = 2, random_state = 0)\n",
    "    gb.fit(X_train, y_train)\n",
    "    print(\"Learning rate: \", n)\n",
    "    print(\"Accuracy score (training): {0:.3f}\".format(gb.score(X_train, y_train)))\n",
    "    print(\"Accuracy score (test): {0:.3f}\".format(gb.score(X_test, y_test)))\n",
    "    print \"total score: \", gb.score(X_train, y_train) + gb.score(X_test, y_test)\n",
    "    print()"
   ]
  },
  {
   "cell_type": "code",
   "execution_count": 24,
   "metadata": {},
   "outputs": [
    {
     "name": "stdout",
     "output_type": "stream",
     "text": [
      "('Learning rate: ', 0.01)\n",
      "Accuracy score (training): 0.868\n",
      "Accuracy score (test): 0.851\n",
      "total score:  1.7189939826\n",
      "()\n",
      "('Learning rate: ', 0.1)\n",
      "Accuracy score (training): 0.939\n",
      "Accuracy score (test): 0.945\n",
      "total score:  1.88343575441\n",
      "()\n",
      "('Learning rate: ', 0.2)\n",
      "Accuracy score (training): 0.964\n",
      "Accuracy score (test): 0.955\n",
      "total score:  1.91922053429\n",
      "()\n",
      "('Learning rate: ', 0.3)\n",
      "Accuracy score (training): 0.979\n",
      "Accuracy score (test): 0.965\n",
      "total score:  1.94403533727\n",
      "()\n",
      "('Learning rate: ', 0.4)\n",
      "Accuracy score (training): 0.984\n",
      "Accuracy score (test): 0.958\n",
      "total score:  1.9428885941\n",
      "()\n",
      "('Learning rate: ', 0.5)\n",
      "Accuracy score (training): 0.989\n",
      "Accuracy score (test): 0.964\n",
      "total score:  1.95269784316\n",
      "()\n",
      "('Learning rate: ', 0.6)\n",
      "Accuracy score (training): 0.994\n",
      "Accuracy score (test): 0.967\n",
      "total score:  1.96077698842\n",
      "()\n",
      "('Learning rate: ', 0.7)\n",
      "Accuracy score (training): 0.996\n",
      "Accuracy score (test): 0.964\n",
      "total score:  1.95962624963\n",
      "()\n",
      "('Learning rate: ', 0.8)\n",
      "Accuracy score (training): 0.995\n",
      "Accuracy score (test): 0.960\n",
      "total score:  1.95558867481\n",
      "()\n",
      "('Learning rate: ', 0.9)\n",
      "Accuracy score (training): 0.997\n",
      "Accuracy score (test): 0.957\n",
      "total score:  1.95328320161\n",
      "()\n",
      "('Learning rate: ', 0.99)\n",
      "Accuracy score (training): 0.995\n",
      "Accuracy score (test): 0.950\n",
      "total score:  1.94520805198\n",
      "()\n"
     ]
    }
   ],
   "source": [
    "learning_rates = [0.01, 0.1, 0.2, 0.3, 0.4, 0.5, 0.6, 0.7, 0.8, 0.9, 0.99]\n",
    "X_train, X_test, y_train, y_test = train_test_split(X, y, random_state=4)\n",
    "\n",
    "for learning_rate in learning_rates:\n",
    "    gb = GradientBoostingClassifier(n_estimators=20, learning_rate = learning_rate, max_features=2, max_depth = 2, random_state = 0)\n",
    "    gb.fit(X_train, y_train)\n",
    "    print(\"Learning rate: \", learning_rate)\n",
    "    print(\"Accuracy score (training): {0:.3f}\".format(gb.score(X_train, y_train)))\n",
    "    print(\"Accuracy score (test): {0:.3f}\".format(gb.score(X_test, y_test)))\n",
    "    print \"total score: \", gb.score(X_train, y_train) + gb.score(X_test, y_test)\n",
    "    print()"
   ]
  },
  {
   "cell_type": "code",
   "execution_count": 25,
   "metadata": {},
   "outputs": [
    {
     "name": "stdout",
     "output_type": "stream",
     "text": [
      "Confusion Matrix:\n",
      "[[66  0  0  0  1  0  0]\n",
      " [ 0 79  0  0  0  0  0]\n",
      " [ 0  0 77  2  4  0  0]\n",
      " [ 0  0  1 69  2  0  0]\n",
      " [ 2  0  5  1 97  0  0]\n",
      " [ 0  0  0  1  0 87  0]\n",
      " [ 2  0  0  0  0  0 82]]\n",
      "()\n",
      "Classification Report\n",
      "             precision    recall  f1-score   support\n",
      "\n",
      "          1       0.94      0.99      0.96        67\n",
      "          2       1.00      1.00      1.00        79\n",
      "          3       0.93      0.93      0.93        83\n",
      "          4       0.95      0.96      0.95        72\n",
      "          5       0.93      0.92      0.93       105\n",
      "          6       1.00      0.99      0.99        88\n",
      "          7       1.00      0.98      0.99        84\n",
      "\n",
      "avg / total       0.96      0.96      0.96       578\n",
      "\n"
     ]
    }
   ],
   "source": [
    "# Output confusion matrix and classification report of Gradient Boosting algorithm on validation set\n",
    "X_train, X_test, y_train, y_test = train_test_split(X, y, random_state=4)\n",
    "gb = GradientBoostingClassifier(n_estimators=20, learning_rate = 0.5, max_features=2, max_depth = 2, random_state = 0)\n",
    "gb.fit(X_train, y_train)\n",
    "predictions = gb.predict(X_test)\n",
    "\n",
    "print(\"Confusion Matrix:\")\n",
    "print(confusion_matrix(y_test, predictions))\n",
    "print()\n",
    "print(\"Classification Report\")\n",
    "print(classification_report(y_test, predictions))"
   ]
  },
  {
   "cell_type": "code",
   "execution_count": null,
   "metadata": {
    "collapsed": true
   },
   "outputs": [],
   "source": []
  },
  {
   "cell_type": "code",
   "execution_count": 26,
   "metadata": {},
   "outputs": [
    {
     "data": {
      "text/plain": [
       "Text(0,0.5,u'Accuracy')"
      ]
     },
     "execution_count": 26,
     "metadata": {},
     "output_type": "execute_result"
    },
    {
     "data": {
      "image/png": "[encoded data removed]",
      "text/plain": [
       "<matplotlib.figure.Figure at 0xc746a20>"
      ]
     },
     "metadata": {},
     "output_type": "display_data"
    }
   ],
   "source": [
    "# try different test sizes and record training and testing accuracy\n",
    "test_size = [.01,.1,.2,.3,.4,.5,.6,.7,.8,.9,.99]\n",
    "ylims = [0,1,2,3,4,5,6,7,8,9,10]\n",
    "train_scores = []\n",
    "test_scores = []\n",
    "for i in test_size:\n",
    "    X_train, X_test, y_train, y_test = train_test_split(X, y, test_size=i)\n",
    "    gb = GradientBoostingClassifier(n_estimators=20, learning_rate = 0.5, max_features=2, max_depth = 2)\n",
    "    gb.fit(X_train, y_train)\n",
    "    train_scores.append(gb.score(X_train, y_train))\n",
    "    test_scores.append(gb.score(X_test, y_test))\n",
    "    \n",
    "# plot the relationship between K and testing accuracy\n",
    "plt.plot(ylims, train_scores, test_scores)\n",
    "plt.xlabel('Boosting: Value of Test Size')\n",
    "plt.ylabel('Accuracy')"
   ]
  },
  {
   "cell_type": "code",
   "execution_count": 27,
   "metadata": {},
   "outputs": [
    {
     "data": {
      "text/plain": [
       "Text(0,0.5,u'Accuracy')"
      ]
     },
     "execution_count": 27,
     "metadata": {},
     "output_type": "execute_result"
    },
    {
     "data": {
      "image/png": "[encoded data removed]",
      "text/plain": [
       "<matplotlib.figure.Figure at 0xea51d30>"
      ]
     },
     "metadata": {},
     "output_type": "display_data"
    }
   ],
   "source": [
    "# try leaf 1 through 20 and record training and testing accuracy\n",
    "X_train, X_test, y_train, y_test = train_test_split(X, y)\n",
    "leaf_range = list(range(1, 20))\n",
    "train_scores = []\n",
    "test_scores = []\n",
    "for i in leaf_range:\n",
    "    gb = GradientBoostingClassifier(n_estimators=20, learning_rate = 0.5, max_features=2, max_depth = 2, min_samples_leaf=i)\n",
    "    gb.fit(X_train, y_train)\n",
    "    train_scores.append(gb.score(X_train, y_train))\n",
    "    test_scores.append(gb.score(X_test, y_test))\n",
    "\n",
    "# plot the relationship between K and testing accuracy\n",
    "plt.plot(leaf_range, train_scores, test_scores)\n",
    "plt.xlabel('Value of Leaf Size Decision Tree')\n",
    "plt.ylabel('Accuracy')"
   ]
  },
  {
   "cell_type": "code",
   "execution_count": null,
   "metadata": {
    "collapsed": true
   },
   "outputs": [],
   "source": []
  },
  {
   "cell_type": "code",
   "execution_count": 28,
   "metadata": {
    "collapsed": true
   },
   "outputs": [],
   "source": [
    "###### HOLDOUT ########\n",
    "\n",
    "# Holdout 20%\n",
    "X = data[data.columns.difference(['CLASS'])]\n",
    "y = data['CLASS']\n",
    "X, X_test_holdout, y, y_test_holdout = train_test_split(X, y, test_size=0.2)\n",
    "X_train, X_test, y_train, y_test = train_test_split(X, y)\n",
    "\n"
   ]
  },
  {
   "cell_type": "code",
   "execution_count": 29,
   "metadata": {},
   "outputs": [
    {
     "name": "stdout",
     "output_type": "stream",
     "text": [
      "train accuracy:  [99.218280216476245, 99.255751014884979, 99.535962877030158, 99.819494584837543, 99.783549783549788, 99.72936400541272, 99.819494584837543, 100.0, 100.0]\n",
      "\n",
      "cv accuracy:  [96.454702639940621, 95.663098801036583, 96.680605366345887, 95.670673469287266, 96.011052683654299, 95.671718205063556, 92.819740755881512, 91.035763773927343, 90.6796402771635]\n",
      "\n"
     ]
    },
    {
     "data": {
      "text/plain": [
       "<matplotlib.legend.Legend at 0xee2a6d8>"
      ]
     },
     "execution_count": 29,
     "metadata": {},
     "output_type": "execute_result"
    },
    {
     "data": {
      "image/png": "[encoded data removed]",
      "text/plain": [
       "<matplotlib.figure.Figure at 0xeb54ac8>"
      ]
     },
     "metadata": {},
     "output_type": "display_data"
    }
   ],
   "source": [
    "##### Learning Curve########\n",
    "\n",
    "# try different test sizes and record training and testing and cv accuracy\n",
    "test_size = [.1,.2,.3,.4,.5,.6,.7,.8,.9]\n",
    "ylims = [0,1,2,3,4,5,6,7,8]\n",
    "train_scores = []\n",
    "test_scores = []\n",
    "cv_scores = []\n",
    "for i in test_size:\n",
    "    X_train, X_test, y_train, y_test = train_test_split(X, y, test_size=i)\n",
    "    gb = GradientBoostingClassifier(n_estimators=20, learning_rate = 0.5, max_features=2, max_depth = 2)\n",
    "    gb.fit(X_train, y_train)\n",
    "    y_pred = gb.predict(X_test)\n",
    "    train_scores.append(gb.score(X_train, y_train)*100)\n",
    "    test_scores.append(gb.score(X_test, y_test)*100)\n",
    "    cv = cross_val_score(gb, X_train, y_train, cv=10)\n",
    "    cv_mean = np.array(cv).mean() * 100\n",
    "    cv_scores.append(cv_mean)\n",
    "    \n",
    "       \n",
    "print \"train accuracy: \", train_scores\n",
    "print\n",
    "#print test_scores\n",
    "#print\n",
    "print \"cv accuracy: \", cv_scores\n",
    "print\n",
    "\n",
    "plt.plot(test_size, train_scores, color='blue', label='train')\n",
    "plt.plot(test_size, cv_scores, color='orange', label='cv')\n",
    "plt.xlabel('Test Size')\n",
    "plt.ylabel('Accuracy')\n",
    "plt.title('Boosting 2: Learning Curve')\n",
    "plt.legend()\n",
    "\n"
   ]
  },
  {
   "cell_type": "code",
   "execution_count": 30,
   "metadata": {},
   "outputs": [
    {
     "name": "stdout",
     "output_type": "stream",
     "text": [
      "train accuracy:  [89.105339105339112, 94.372294372294377, 96.53679653679653, 97.835497835497833, 98.773448773448763, 99.567099567099575, 99.639249639249641, 99.567099567099575, 99.927849927849934, 99.855699855699854, 99.927849927849934]\n",
      "\n",
      "cv accuracy:  [86.5119981580564, 91.913695340595623, 94.508285168185807, 95.594488696919143, 95.668099116677666, 95.2398570503657, 96.24487732678692, 95.810563721734198, 83.004678995021024, 79.036768510725068, 63.605171220938459]\n",
      "\n"
     ]
    },
    {
     "data": {
      "text/plain": [
       "<matplotlib.legend.Legend at 0xf01ae48>"
      ]
     },
     "execution_count": 30,
     "metadata": {},
     "output_type": "execute_result"
    },
    {
     "data": {
      "image/png": "[encoded data removed]",
      "text/plain": [
       "<matplotlib.figure.Figure at 0xe4170f0>"
      ]
     },
     "metadata": {},
     "output_type": "display_data"
    }
   ],
   "source": [
    "###### Model Complexity ########\n",
    "\n",
    "# try leaf 1 through 20 and record training and testing accuracy\n",
    "X_train, X_test, y_train, y_test = train_test_split(X, y)\n",
    "learning_rates = [0.01, 0.1, 0.2, 0.3, 0.4, 0.5, 0.6, 0.7, 0.8, 0.9, 0.99]\n",
    "train_scores = []\n",
    "test_scores = []\n",
    "cv_scores = []\n",
    "for learning_rate in learning_rates:\n",
    "    gb = GradientBoostingClassifier(n_estimators=20, learning_rate = learning_rate, max_features=2, max_depth = 2)\n",
    "    gb.fit(X_train, y_train)\n",
    "    y_pred = gb.predict(X_test)\n",
    "    train_scores.append(gb.score(X_train, y_train)*100)\n",
    "    test_scores.append(gb.score(X_test, y_test)*100)\n",
    "    cv = cross_val_score(gb, X_train, y_train, cv=10)\n",
    "    cv_mean = np.array(cv).mean() * 100\n",
    "    cv_scores.append(cv_mean)\n",
    "\n",
    "print \"train accuracy: \", train_scores\n",
    "print\n",
    "#print test_scores\n",
    "#print\n",
    "print \"cv accuracy: \", cv_scores\n",
    "print\n",
    "\n",
    "plt.plot(learning_rates, train_scores, color='blue', label='train')\n",
    "plt.plot(learning_rates, cv_scores, color='orange', label='cv')\n",
    "plt.xlabel('Learning Rate')\n",
    "plt.ylabel('Accuracy')\n",
    "plt.title('Boosting 2: Model Complexity Curve')\n",
    "plt.legend()\n",
    "\n"
   ]
  },
  {
   "cell_type": "code",
   "execution_count": 31,
   "metadata": {},
   "outputs": [
    {
     "name": "stdout",
     "output_type": "stream",
     "text": [
      "Accuracy on the training subset: 0.991\n",
      "Accuracy on the test subset: 0.974\n",
      "[[51  0  0  0  0  0  0]\n",
      " [ 0 66  0  0  0  0  0]\n",
      " [ 1  0 66  3  4  0  0]\n",
      " [ 0  0  0 67  1  0  0]\n",
      " [ 0  0  0  1 71  0  0]\n",
      " [ 0  0  0  1  0 77  0]\n",
      " [ 0  0  1  0  0  0 52]]\n"
     ]
    }
   ],
   "source": [
    "##### Test Model On Holdout Group  #####\n",
    "gb = GradientBoostingClassifier(n_estimators=20, learning_rate = 0.5, max_features=3, max_depth = 2)\n",
    "gb.fit(X, y)\n",
    "y_pred = gb.predict(X_test_holdout)\n",
    "\n",
    "print('Accuracy on the training subset: {:.3f}'.format(gb.score(X, y)))\n",
    "print('Accuracy on the test subset: {:.3f}'.format(gb.score(X_test_holdout, y_test_holdout)))\n",
    "print(metrics.confusion_matrix(y_test_holdout, y_pred))"
   ]
  },
  {
   "cell_type": "code",
   "execution_count": null,
   "metadata": {
    "collapsed": true
   },
   "outputs": [],
   "source": []
  },
  {
   "cell_type": "code",
   "execution_count": null,
   "metadata": {
    "collapsed": true
   },
   "outputs": [],
   "source": []
  },
  {
   "cell_type": "code",
   "execution_count": null,
   "metadata": {
    "collapsed": true
   },
   "outputs": [],
   "source": []
  },
  {
   "cell_type": "code",
   "execution_count": null,
   "metadata": {
    "collapsed": true
   },
   "outputs": [],
   "source": []
  },
  {
   "cell_type": "code",
   "execution_count": 32,
   "metadata": {},
   "outputs": [
    {
     "name": "stdout",
     "output_type": "stream",
     "text": [
      "('Learning rate: ', 5)\n",
      "Accuracy score (training): 0.926\n",
      "Accuracy score (test): 0.907\n",
      "total score:  1.83333333333\n",
      "()\n",
      "('Learning rate: ', 10)\n",
      "Accuracy score (training): 0.926\n",
      "Accuracy score (test): 0.907\n",
      "total score:  1.83333333333\n",
      "()\n",
      "('Learning rate: ', 20)\n",
      "Accuracy score (training): 0.926\n",
      "Accuracy score (test): 0.907\n",
      "total score:  1.83333333333\n",
      "()\n",
      "('Learning rate: ', 35)\n",
      "Accuracy score (training): 0.926\n",
      "Accuracy score (test): 0.907\n",
      "total score:  1.83333333333\n",
      "()\n",
      "('Learning rate: ', 50)\n",
      "Accuracy score (training): 0.926\n",
      "Accuracy score (test): 0.907\n",
      "total score:  1.83333333333\n",
      "()\n",
      "('Learning rate: ', 75)\n",
      "Accuracy score (training): 0.926\n",
      "Accuracy score (test): 0.907\n",
      "total score:  1.83333333333\n",
      "()\n",
      "('Learning rate: ', 100)\n",
      "Accuracy score (training): 0.926\n",
      "Accuracy score (test): 0.907\n",
      "total score:  1.83333333333\n",
      "()\n"
     ]
    }
   ],
   "source": [
    "adb = AdaBoostClassifier(DecisionTreeClassifier(), n_estimators = 5, learning_rate = 1)\n",
    "X_train, X_test, y_train, y_test = train_test_split(X, y, random_state=4)\n",
    "\n",
    "n_estimators = [5, 10, 20, 35, 50, 75, 100]\n",
    "for n in n_estimators:\n",
    "    adb = AdaBoostClassifier(clf, n_estimators = 5, learning_rate = 1)\n",
    "    adb.fit(X_train, y_train)\n",
    "    print(\"Learning rate: \", n)\n",
    "    print(\"Accuracy score (training): {0:.3f}\".format(adb.score(X_train, y_train)))\n",
    "    print(\"Accuracy score (test): {0:.3f}\".format(adb.score(X_test, y_test)))\n",
    "    print \"total score: \", adb.score(X_train, y_train) + adb.score(X_test, y_test)\n",
    "    print()"
   ]
  },
  {
   "cell_type": "code",
   "execution_count": null,
   "metadata": {
    "collapsed": true
   },
   "outputs": [],
   "source": []
  },
  {
   "cell_type": "code",
   "execution_count": null,
   "metadata": {
    "collapsed": true
   },
   "outputs": [],
   "source": []
  },
  {
   "cell_type": "code",
   "execution_count": null,
   "metadata": {
    "collapsed": true
   },
   "outputs": [],
   "source": []
  },
  {
   "cell_type": "code",
   "execution_count": null,
   "metadata": {
    "collapsed": true
   },
   "outputs": [],
   "source": []
  },
  {
   "cell_type": "code",
   "execution_count": null,
   "metadata": {
    "collapsed": true
   },
   "outputs": [],
   "source": []
  },
  {
   "cell_type": "code",
   "execution_count": null,
   "metadata": {
    "collapsed": true
   },
   "outputs": [],
   "source": []
  },
  {
   "cell_type": "code",
   "execution_count": null,
   "metadata": {
    "collapsed": true
   },
   "outputs": [],
   "source": []
  }
 ],
 "metadata": {
  "kernelspec": {
   "display_name": "Python 3",
   "language": "python",
   "name": "python3"
  },
  "language_info": {
   "codemirror_mode": {
    "name": "ipython",
    "version": 3
   },
   "file_extension": ".py",
   "mimetype": "text/x-python",
   "name": "python",
   "nbconvert_exporter": "python",
   "pygments_lexer": "ipython3",
   "version": "3.7.1"
  }
 },
 "nbformat": 4,
 "nbformat_minor": 2
}
