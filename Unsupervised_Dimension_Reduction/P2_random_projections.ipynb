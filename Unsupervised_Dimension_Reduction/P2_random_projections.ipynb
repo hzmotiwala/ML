{
 "cells": [
  {
   "cell_type": "code",
   "execution_count": 5,
   "metadata": {},
   "outputs": [
    {
     "name": "stderr",
     "output_type": "stream",
     "text": [
      "C:\\ProgramData\\Anaconda2\\lib\\site-packages\\sklearn\\cross_validation.py:41: DeprecationWarning: This module was deprecated in version 0.18 in favor of the model_selection module into which all the refactored classes and functions are moved. Also note that the interface of the new CV iterators are different from that of this module. This module will be removed in 0.20.\n",
      "  \"This module will be removed in 0.20.\", DeprecationWarning)\n"
     ]
    }
   ],
   "source": [
    "import numpy as np\n",
    "import pandas as pd\n",
    "import matplotlib.pyplot as plt\n",
    "import sklearn\n",
    "from sklearn.cluster import KMeans\n",
    "from mpl_toolkits.mplot3d import Axes3D\n",
    "from sklearn.preprocessing import scale\n",
    "import sklearn.metrics as sm\n",
    "from sklearn import datasets\n",
    "from sklearn.metrics import confusion_matrix, classification_report\n",
    "from sklearn.datasets import load_breast_cancer\n",
    "from sklearn.mixture import GaussianMixture\n",
    "from sklearn.decomposition import PCA, FastICA\n",
    "from sklearn.random_projection import SparseRandomProjection\n",
    "from sklearn.svm import LinearSVC\n",
    "from sklearn.cross_validation import train_test_split\n",
    "from sklearn import metrics\n",
    "from sklearn import datasets\n",
    "import seaborn as sns\n",
    "%matplotlib inline\n"
   ]
  },
  {
   "cell_type": "code",
   "execution_count": 41,
   "metadata": {},
   "outputs": [
    {
     "data": {
      "text/plain": [
       "(2L, 2L)"
      ]
     },
     "execution_count": 41,
     "metadata": {},
     "output_type": "execute_result"
    }
   ],
   "source": [
    "cancer = load_breast_cancer()\n",
    "\n",
    "X = scale(cancer.data)\n",
    "y = pd.DataFrame(cancer.target)\n",
    "variable_names = cancer.feature_names\n",
    "X[0:2,0:2].shape"
   ]
  },
  {
   "cell_type": "code",
   "execution_count": 42,
   "metadata": {
    "collapsed": true
   },
   "outputs": [],
   "source": [
    "# http://blog.yhat.com/posts/sparse-random-projections.html\n",
    "from sklearn.random_projection import johnson_lindenstrauss_min_dim"
   ]
  },
  {
   "cell_type": "code",
   "execution_count": 43,
   "metadata": {},
   "outputs": [
    {
     "name": "stdout",
     "output_type": "stream",
     "text": [
      "[ 1  3  5  7  9 11 13 15 17 19 21 23 25 27 30]\n"
     ]
    }
   ],
   "source": [
    "johnson_lindenstrauss_min_dim(1797,eps=0.1)\n",
    "accuracies = []\n",
    "components = np.int32(np.linspace(1, 30, 15))\n",
    "print components"
   ]
  },
  {
   "cell_type": "code",
   "execution_count": 44,
   "metadata": {
    "collapsed": true
   },
   "outputs": [],
   "source": [
    "digits = load_breast_cancer()\n",
    "split = train_test_split(digits.data, digits.target, test_size = 0.3,\n",
    "    random_state = 42)\n",
    "(trainData, testData, trainTarget, testTarget) = split\n"
   ]
  },
  {
   "cell_type": "code",
   "execution_count": 57,
   "metadata": {},
   "outputs": [
    {
     "name": "stdout",
     "output_type": "stream",
     "text": [
      "<class 'sklearn.utils.Bunch'>\n",
      "(569L, 30L)\n",
      "(569L,)\n",
      "(398L, 30L)\n",
      "(171L, 30L)\n",
      "(398L,)\n",
      "(171L,)\n"
     ]
    }
   ],
   "source": [
    "print type(digits)\n",
    "print digits.data.shape\n",
    "print digits.target.shape\n",
    "print trainData.shape\n",
    "print testData.shape\n",
    "print trainTarget.shape\n",
    "print testTarget.shape"
   ]
  },
  {
   "cell_type": "code",
   "execution_count": 46,
   "metadata": {
    "collapsed": true
   },
   "outputs": [],
   "source": [
    "model = LinearSVC()\n",
    "model.fit(trainData, trainTarget)\n",
    "baseline = metrics.accuracy_score(model.predict(testData), testTarget)"
   ]
  },
  {
   "cell_type": "code",
   "execution_count": 47,
   "metadata": {},
   "outputs": [],
   "source": [
    "# loop over the projection sizes\n",
    "for comp in components:\n",
    "    # create the random projection\n",
    "    sp = SparseRandomProjection(n_components = comp)\n",
    "    X = sp.fit_transform(trainData)\n",
    " \n",
    "    # train a classifier on the sparse random projection\n",
    "    model = LinearSVC()\n",
    "    model.fit(X, trainTarget)\n",
    " \n",
    "    # evaluate the model and update the list of accuracies\n",
    "    test = sp.transform(testData)\n",
    "    accuracies.append(metrics.accuracy_score(model.predict(test), testTarget))"
   ]
  },
  {
   "cell_type": "code",
   "execution_count": 48,
   "metadata": {},
   "outputs": [
    {
     "data": {
      "image/png": "[encoded data removed]",
      "text/plain": [
       "<matplotlib.figure.Figure at 0xe3a1710>"
      ]
     },
     "metadata": {},
     "output_type": "display_data"
    }
   ],
   "source": [
    "# create the figure\n",
    "plt.figure()\n",
    "plt.suptitle(\"Accuracy of Sparse Projection on Digits\")\n",
    "plt.xlabel(\"# of Components\")\n",
    "plt.ylabel(\"Accuracy\")\n",
    "plt.xlim([0, 30])\n",
    "plt.ylim([0, 1.0])\n",
    " \n",
    "# plot the baseline and random projection accuracies\n",
    "plt.plot(components, [baseline] * len(accuracies), color = \"r\")\n",
    "plt.plot(components, accuracies)\n",
    "\n",
    "plt.show()"
   ]
  },
  {
   "cell_type": "code",
   "execution_count": null,
   "metadata": {
    "collapsed": true
   },
   "outputs": [],
   "source": []
  },
  {
   "cell_type": "code",
   "execution_count": null,
   "metadata": {
    "collapsed": true
   },
   "outputs": [],
   "source": []
  },
  {
   "cell_type": "code",
   "execution_count": null,
   "metadata": {
    "collapsed": true
   },
   "outputs": [],
   "source": []
  },
  {
   "cell_type": "code",
   "execution_count": null,
   "metadata": {
    "collapsed": true
   },
   "outputs": [],
   "source": []
  },
  {
   "cell_type": "code",
   "execution_count": null,
   "metadata": {
    "collapsed": true
   },
   "outputs": [],
   "source": []
  },
  {
   "cell_type": "code",
   "execution_count": 49,
   "metadata": {
    "collapsed": true
   },
   "outputs": [],
   "source": [
    "#https://archive.ics.uci.edu/ml/datasets/Image+Segmentation\n",
    "\n",
    "###########  image segmentation  ########"
   ]
  },
  {
   "cell_type": "code",
   "execution_count": 52,
   "metadata": {},
   "outputs": [
    {
     "name": "stdout",
     "output_type": "stream",
     "text": [
      "\n",
      "['CLASS', 'REGION-CENTROID-COL', 'REGION-CENTROID-ROW', 'REGION-PIXEL-COUNT', 'SHORT-LINE-DENSITY-5', 'SHORT-LINE-DENSITY-2', 'VEDGE-MEAN', 'VEDGE-SD', 'HEDGE-MEAN', 'HEDGE-SD', 'INTENSITY-MEAN', 'RAWRED-MEAN', 'RAWBLUE-MEAN', 'RAWGREEN-MEAN', 'EXRED-MEAN', 'EXBLUE-MEAN', 'EXGREEN-MEAN', 'VALUE-MEAN', 'SATURATION-MEAN', 'HUE-MEAN']\n"
     ]
    }
   ],
   "source": [
    "image = pd.read_csv('C:/Users/443966/github/7641_ML/A3 - Unsupervised Learning and Dimensionality Reduction/datasets/image_segmentation_1.csv')\n",
    "\n",
    "\n",
    "X = image[image.columns.difference(['CLASS'])]\n",
    "y = image['CLASS']\n",
    "y_list = y.values.flatten()\n",
    "X[0:2]\n",
    "\n",
    "#X = scale(cancer.data)\n",
    "#y = pd.DataFrame(cancer.target)\n",
    "variable_names = list(image.columns.values)\n",
    "print \n",
    "print variable_names\n",
    "\n",
    "features = image[image.columns.difference(['CLASS'])]"
   ]
  },
  {
   "cell_type": "code",
   "execution_count": 53,
   "metadata": {},
   "outputs": [
    {
     "name": "stdout",
     "output_type": "stream",
     "text": [
      "(2310, 19)\n",
      "(2310L,)\n",
      "(2310, 19)\n"
     ]
    }
   ],
   "source": [
    "print X.shape\n",
    "print y.shape\n",
    "print features.shape"
   ]
  },
  {
   "cell_type": "code",
   "execution_count": 61,
   "metadata": {},
   "outputs": [
    {
     "name": "stdout",
     "output_type": "stream",
     "text": [
      "[ 1  3  5  7  9 11 13 15 17 19]\n"
     ]
    }
   ],
   "source": [
    "accuracies = []\n",
    "components = np.int32(np.linspace(1, 19, 10))\n",
    "print components\n",
    "\n",
    "split = train_test_split(X, y, test_size = 0.3,\n",
    "    random_state = 42)\n",
    "(trainData, testData, trainTarget, testTarget) = split"
   ]
  },
  {
   "cell_type": "code",
   "execution_count": 62,
   "metadata": {},
   "outputs": [
    {
     "name": "stdout",
     "output_type": "stream",
     "text": [
      "(1617, 19)\n",
      "(693, 19)\n",
      "(1617L,)\n",
      "(693L,)\n"
     ]
    }
   ],
   "source": [
    "print trainData.shape\n",
    "print testData.shape\n",
    "print trainTarget.shape\n",
    "print testTarget.shape"
   ]
  },
  {
   "cell_type": "code",
   "execution_count": 63,
   "metadata": {
    "collapsed": true
   },
   "outputs": [],
   "source": [
    "model = LinearSVC()\n",
    "model.fit(trainData, trainTarget)\n",
    "baseline = metrics.accuracy_score(model.predict(testData), testTarget)"
   ]
  },
  {
   "cell_type": "code",
   "execution_count": 64,
   "metadata": {
    "collapsed": true
   },
   "outputs": [],
   "source": [
    "# loop over the projection sizes\n",
    "for comp in components:\n",
    "    # create the random projection\n",
    "    sp = SparseRandomProjection(n_components = comp)\n",
    "    X = sp.fit_transform(trainData)\n",
    " \n",
    "    # train a classifier on the sparse random projection\n",
    "    model = LinearSVC()\n",
    "    model.fit(X, trainTarget)\n",
    " \n",
    "    # evaluate the model and update the list of accuracies\n",
    "    test = sp.transform(testData)\n",
    "    accuracies.append(metrics.accuracy_score(model.predict(test), testTarget))"
   ]
  },
  {
   "cell_type": "code",
   "execution_count": 65,
   "metadata": {},
   "outputs": [
    {
     "data": {
      "image/png": "[encoded data removed]",
      "text/plain": [
       "<matplotlib.figure.Figure at 0xed98f28>"
      ]
     },
     "metadata": {},
     "output_type": "display_data"
    }
   ],
   "source": [
    "# create the figure\n",
    "plt.figure()\n",
    "plt.suptitle(\"Accuracy of Sparse Projection on Digits\")\n",
    "plt.xlabel(\"# of Components\")\n",
    "plt.ylabel(\"Accuracy\")\n",
    "plt.xlim([0, 19])\n",
    "plt.ylim([0, 1.0])\n",
    " \n",
    "# plot the baseline and random projection accuracies\n",
    "plt.plot(components, [baseline] * len(accuracies), color = \"r\")\n",
    "plt.plot(components, accuracies)\n",
    "\n",
    "plt.show()"
   ]
  },
  {
   "cell_type": "code",
   "execution_count": null,
   "metadata": {
    "collapsed": true
   },
   "outputs": [],
   "source": []
  }
 ],
 "metadata": {
  "kernelspec": {
   "display_name": "Python 2",
   "language": "python",
   "name": "python2"
  },
  "language_info": {
   "codemirror_mode": {
    "name": "ipython",
    "version": 2
   },
   "file_extension": ".py",
   "mimetype": "text/x-python",
   "name": "python",
   "nbconvert_exporter": "python",
   "pygments_lexer": "ipython2",
   "version": "2.7.14"
  }
 },
 "nbformat": 4,
 "nbformat_minor": 2
}
