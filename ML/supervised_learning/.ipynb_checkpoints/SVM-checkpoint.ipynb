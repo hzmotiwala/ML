{
 "cells": [
  {
   "cell_type": "code",
   "execution_count": 1,
   "metadata": {},
   "outputs": [
    {
     "name": "stdout",
     "output_type": "stream",
     "text": [
      "('Features: ', array(['mean radius', 'mean texture', 'mean perimeter', 'mean area',\n",
      "       'mean smoothness', 'mean compactness', 'mean concavity',\n",
      "       'mean concave points', 'mean symmetry', 'mean fractal dimension',\n",
      "       'radius error', 'texture error', 'perimeter error', 'area error',\n",
      "       'smoothness error', 'compactness error', 'concavity error',\n",
      "       'concave points error', 'symmetry error', 'fractal dimension error',\n",
      "       'worst radius', 'worst texture', 'worst perimeter', 'worst area',\n",
      "       'worst smoothness', 'worst compactness', 'worst concavity',\n",
      "       'worst concave points', 'worst symmetry', 'worst fractal dimension'],\n",
      "      dtype='|S23'))\n",
      "('Labels: ', array(['malignant', 'benign'],\n",
      "      dtype='|S9'))\n",
      "(569L, 30L)\n",
      "[[  1.79900000e+01   1.03800000e+01   1.22800000e+02   1.00100000e+03\n",
      "    1.18400000e-01   2.77600000e-01   3.00100000e-01   1.47100000e-01\n",
      "    2.41900000e-01   7.87100000e-02   1.09500000e+00   9.05300000e-01\n",
      "    8.58900000e+00   1.53400000e+02   6.39900000e-03   4.90400000e-02\n",
      "    5.37300000e-02   1.58700000e-02   3.00300000e-02   6.19300000e-03\n",
      "    2.53800000e+01   1.73300000e+01   1.84600000e+02   2.01900000e+03\n",
      "    1.62200000e-01   6.65600000e-01   7.11900000e-01   2.65400000e-01\n",
      "    4.60100000e-01   1.18900000e-01]\n",
      " [  2.05700000e+01   1.77700000e+01   1.32900000e+02   1.32600000e+03\n",
      "    8.47400000e-02   7.86400000e-02   8.69000000e-02   7.01700000e-02\n",
      "    1.81200000e-01   5.66700000e-02   5.43500000e-01   7.33900000e-01\n",
      "    3.39800000e+00   7.40800000e+01   5.22500000e-03   1.30800000e-02\n",
      "    1.86000000e-02   1.34000000e-02   1.38900000e-02   3.53200000e-03\n",
      "    2.49900000e+01   2.34100000e+01   1.58800000e+02   1.95600000e+03\n",
      "    1.23800000e-01   1.86600000e-01   2.41600000e-01   1.86000000e-01\n",
      "    2.75000000e-01   8.90200000e-02]\n",
      " [  1.96900000e+01   2.12500000e+01   1.30000000e+02   1.20300000e+03\n",
      "    1.09600000e-01   1.59900000e-01   1.97400000e-01   1.27900000e-01\n",
      "    2.06900000e-01   5.99900000e-02   7.45600000e-01   7.86900000e-01\n",
      "    4.58500000e+00   9.40300000e+01   6.15000000e-03   4.00600000e-02\n",
      "    3.83200000e-02   2.05800000e-02   2.25000000e-02   4.57100000e-03\n",
      "    2.35700000e+01   2.55300000e+01   1.52500000e+02   1.70900000e+03\n",
      "    1.44400000e-01   4.24500000e-01   4.50400000e-01   2.43000000e-01\n",
      "    3.61300000e-01   8.75800000e-02]\n",
      " [  1.14200000e+01   2.03800000e+01   7.75800000e+01   3.86100000e+02\n",
      "    1.42500000e-01   2.83900000e-01   2.41400000e-01   1.05200000e-01\n",
      "    2.59700000e-01   9.74400000e-02   4.95600000e-01   1.15600000e+00\n",
      "    3.44500000e+00   2.72300000e+01   9.11000000e-03   7.45800000e-02\n",
      "    5.66100000e-02   1.86700000e-02   5.96300000e-02   9.20800000e-03\n",
      "    1.49100000e+01   2.65000000e+01   9.88700000e+01   5.67700000e+02\n",
      "    2.09800000e-01   8.66300000e-01   6.86900000e-01   2.57500000e-01\n",
      "    6.63800000e-01   1.73000000e-01]\n",
      " [  2.02900000e+01   1.43400000e+01   1.35100000e+02   1.29700000e+03\n",
      "    1.00300000e-01   1.32800000e-01   1.98000000e-01   1.04300000e-01\n",
      "    1.80900000e-01   5.88300000e-02   7.57200000e-01   7.81300000e-01\n",
      "    5.43800000e+00   9.44400000e+01   1.14900000e-02   2.46100000e-02\n",
      "    5.68800000e-02   1.88500000e-02   1.75600000e-02   5.11500000e-03\n",
      "    2.25400000e+01   1.66700000e+01   1.52200000e+02   1.57500000e+03\n",
      "    1.37400000e-01   2.05000000e-01   4.00000000e-01   1.62500000e-01\n",
      "    2.36400000e-01   7.67800000e-02]]\n"
     ]
    }
   ],
   "source": [
    "\n",
    "\n",
    "#Import scikit-learn dataset library\n",
    "from sklearn import datasets\n",
    "from sklearn.model_selection import train_test_split\n",
    "from sklearn import svm\n",
    "from sklearn.svm import SVC\n",
    "from sklearn import metrics\n",
    "from sklearn.metrics import classification_report, confusion_matrix  \n",
    "from sklearn.model_selection import cross_val_score\n",
    "import pandas as pd  \n",
    "import numpy as np  \n",
    "import matplotlib.pyplot as plt  \n",
    "%matplotlib inline\n",
    "\n",
    "#Load dataset\n",
    "cancer = datasets.load_breast_cancer()\n",
    "\n",
    "# print the names of the 13 features\n",
    "print(\"Features: \", cancer.feature_names)\n",
    "\n",
    "# print the label type of cancer('malignant' 'benign')\n",
    "print(\"Labels: \", cancer.target_names)\n",
    "\n",
    "# print data(feature)shape\n",
    "print cancer.data.shape\n",
    "\n",
    "# print the cancer data features (top 5 records)\n",
    "print(cancer.data[0:5])\n",
    "\n"
   ]
  },
  {
   "cell_type": "code",
   "execution_count": 2,
   "metadata": {},
   "outputs": [
    {
     "name": "stdout",
     "output_type": "stream",
     "text": [
      "('Accuracy:', 0.96491228070175439)\n",
      "('Precision:', 0.98113207547169812)\n",
      "('Recall:', 0.96296296296296291)\n",
      "[[ 61   2]\n",
      " [  4 104]]\n",
      "             precision    recall  f1-score   support\n",
      "\n",
      "          0       0.94      0.97      0.95        63\n",
      "          1       0.98      0.96      0.97       108\n",
      "\n",
      "avg / total       0.97      0.96      0.97       171\n",
      "\n",
      "train accuracy:  0.962311557789\n",
      "test accuracy:  0.964912280702\n"
     ]
    }
   ],
   "source": [
    "X = cancer.data\n",
    "y = cancer.target\n",
    "\n",
    "X_train, X_test, y_train, y_test = train_test_split(X, y, test_size=0.3,random_state=109) # 70% training and 30% test\n",
    "\n",
    "clf = svm.SVC(kernel='linear') # Linear Kernel\n",
    "\n",
    "#Train the model using the training sets\n",
    "clf.fit(X_train, y_train)\n",
    "\n",
    "#Predict the response for test dataset\n",
    "y_pred = clf.predict(X_test)\n",
    "\n",
    "# Model Accuracy: how often is the classifier correct?\n",
    "print(\"Accuracy:\",metrics.accuracy_score(y_test, y_pred))\n",
    "\n",
    "# Model Precision: what percentage of positive tuples are labeled as such?\n",
    "print(\"Precision:\",metrics.precision_score(y_test, y_pred))\n",
    "\n",
    "# Model Recall: what percentage of positive tuples are labelled as such?\n",
    "print(\"Recall:\",metrics.recall_score(y_test, y_pred))\n",
    "\n",
    "print(confusion_matrix(y_test,y_pred))  \n",
    "print(classification_report(y_test,y_pred)) \n",
    "print \"train accuracy: \", clf.score(X_train, y_train)\n",
    "print \"test accuracy: \", clf.score(X_test, y_test)"
   ]
  },
  {
   "cell_type": "code",
   "execution_count": 7,
   "metadata": {},
   "outputs": [
    {
     "data": {
      "image/png": "[encoded data removed]",
      "text/plain": [
       "<matplotlib.figure.Figure at 0x5bf6d30>"
      ]
     },
     "metadata": {},
     "output_type": "display_data"
    }
   ],
   "source": [
    "# Comparing parameter C:  float, optional (default=1.0) Penalty parameter C of the error term\n",
    "# low c = largest margin even if accuracy low, high c = high accuracy\n",
    "# https://stats.stackexchange.com/questions/31066/what-is-the-influence-of-c-in-svms-with-linear-kernel\n",
    "\n",
    "X_train, X_test, y_train, y_test = train_test_split(X, y, test_size=0.3,random_state=109) # 70% training and 30% test\n",
    "c_range = [.01,.1,.2,.3,.4,.5,.6,.7,.8,.9,.99]\n",
    "ylims = [0,1,2,3,4,5,6,7,8,9,10]\n",
    "train_scores = []\n",
    "test_scores = []\n",
    "\n",
    "for c in c_range:\n",
    "    clf = svm.SVC(kernel='linear', C=c) # Linear Kernel\n",
    "    clf.fit(X_train, y_train)\n",
    "    train_scores.append(clf.score(X_train, y_train))\n",
    "    test_scores.append(clf.score(X_test, y_test))\n",
    "    \n",
    "# plot the relationship between K and testing accuracy\n",
    "plt.plot(ylims, train_scores, test_scores)\n",
    "plt.xlabel('SVM: Value of C')\n",
    "plt.ylabel('Accuracy')\n",
    "plt.legend()\n"
   ]
  },
  {
   "cell_type": "code",
   "execution_count": 4,
   "metadata": {},
   "outputs": [
    {
     "name": "stdout",
     "output_type": "stream",
     "text": [
      "[[ 60   3]\n",
      " [  5 103]]\n",
      "             precision    recall  f1-score   support\n",
      "\n",
      "          0       0.92      0.95      0.94        63\n",
      "          1       0.97      0.95      0.96       108\n",
      "\n",
      "avg / total       0.95      0.95      0.95       171\n",
      "\n",
      "('Accuracy:', 0.95321637426900585)\n",
      "train accuracy:  0.891959798995\n",
      "test accuracy:  0.953216374269\n"
     ]
    }
   ],
   "source": [
    "# https://stackabuse.com/implementing-svm-and-kernel-svm-with-pythons-scikit-learn/\n",
    "# polynomial kernel\n",
    "svclassifier = SVC(kernel='poly', degree=8)  \n",
    "svclassifier.fit(X_train, y_train)  \n",
    "y_pred = svclassifier.predict(X_test)  \n",
    "print(confusion_matrix(y_test, y_pred))  \n",
    "print(classification_report(y_test, y_pred))\n",
    "# Model Accuracy: how often is the classifier correct?\n",
    "print(\"Accuracy:\",metrics.accuracy_score(y_test, y_pred))\n",
    "print \"train accuracy: \", svclassifier.score(X_train, y_train)\n",
    "print \"test accuracy: \", svclassifier.score(X_test, y_test)"
   ]
  },
  {
   "cell_type": "code",
   "execution_count": 5,
   "metadata": {},
   "outputs": [
    {
     "name": "stdout",
     "output_type": "stream",
     "text": [
      "[[  0  63]\n",
      " [  0 108]]\n",
      "             precision    recall  f1-score   support\n",
      "\n",
      "          0       0.00      0.00      0.00        63\n",
      "          1       0.63      1.00      0.77       108\n",
      "\n",
      "avg / total       0.40      0.63      0.49       171\n",
      "\n"
     ]
    },
    {
     "name": "stderr",
     "output_type": "stream",
     "text": [
      "C:\\ProgramData\\Anaconda2\\lib\\site-packages\\sklearn\\metrics\\classification.py:1135: UndefinedMetricWarning: Precision and F-score are ill-defined and being set to 0.0 in labels with no predicted samples.\n",
      "  'precision', 'predicted', average, warn_for)\n"
     ]
    }
   ],
   "source": [
    "# Gaussian Kernel\n",
    "svclassifier = SVC(kernel='rbf')  \n",
    "svclassifier.fit(X_train, y_train)\n",
    "y_pred = svclassifier.predict(X_test) \n",
    "print(confusion_matrix(y_test, y_pred))  \n",
    "print(classification_report(y_test, y_pred)) "
   ]
  },
  {
   "cell_type": "code",
   "execution_count": 6,
   "metadata": {},
   "outputs": [
    {
     "name": "stdout",
     "output_type": "stream",
     "text": [
      "[[  0  63]\n",
      " [  0 108]]\n",
      "             precision    recall  f1-score   support\n",
      "\n",
      "          0       0.00      0.00      0.00        63\n",
      "          1       0.63      1.00      0.77       108\n",
      "\n",
      "avg / total       0.40      0.63      0.49       171\n",
      "\n"
     ]
    }
   ],
   "source": [
    "# Sigmoid Kernel\n",
    "svclassifier = SVC(kernel='sigmoid')  \n",
    "svclassifier.fit(X_train, y_train)  \n",
    "y_pred = svclassifier.predict(X_test) \n",
    "print(confusion_matrix(y_test, y_pred))  \n",
    "print(classification_report(y_test, y_pred)) "
   ]
  },
  {
   "cell_type": "code",
   "execution_count": null,
   "metadata": {
    "collapsed": true
   },
   "outputs": [],
   "source": []
  },
  {
   "cell_type": "code",
   "execution_count": null,
   "metadata": {
    "collapsed": true
   },
   "outputs": [],
   "source": []
  },
  {
   "cell_type": "code",
   "execution_count": 8,
   "metadata": {
    "collapsed": true
   },
   "outputs": [],
   "source": [
    "###### HOLDOUT ########\n",
    "\n",
    "# Holdout 20%\n",
    "X = cancer.data\n",
    "y = cancer.target\n",
    "X, X_test_holdout, y, y_test_holdout = train_test_split(X, y, test_size=0.2)\n",
    "X_train, X_test, y_train, y_test = train_test_split(X, y)"
   ]
  },
  {
   "cell_type": "code",
   "execution_count": 9,
   "metadata": {},
   "outputs": [
    {
     "name": "stdout",
     "output_type": "stream",
     "text": [
      "train accuracy:  [96.577017114914426, 96.703296703296701, 98.427672955974842, 95.970695970695971, 97.797356828193841, 96.15384615384616, 98.529411764705884, 98.901098901098905, 100.0]\n",
      "\n",
      "cv accuracy:  [95.109756097560961, 94.196301564722603, 96.500794232649085, 93.781244298485689, 94.395586297760218, 95.614035087719301, 93.391941391941401, 93.5, 90.999999999999986]\n",
      "\n"
     ]
    },
    {
     "data": {
      "text/plain": [
       "<matplotlib.legend.Legend at 0xdadbbe0>"
      ]
     },
     "execution_count": 9,
     "metadata": {},
     "output_type": "execute_result"
    },
    {
     "data": {
      "image/png": "[encoded data removed]",
      "text/plain": [
       "<matplotlib.figure.Figure at 0xdc1ca90>"
      ]
     },
     "metadata": {},
     "output_type": "display_data"
    }
   ],
   "source": [
    "##### Learning Curve########\n",
    "\n",
    "# try different test sizes and record training and testing and cv accuracy\n",
    "test_size = [.1,.2,.3,.4,.5,.6,.7,.8,.9]\n",
    "ylims = [0,1,2,3,4,5,6,7,8]\n",
    "train_scores = []\n",
    "test_scores = []\n",
    "cv_scores = []\n",
    "for i in test_size:\n",
    "    X_train, X_test, y_train, y_test = train_test_split(X, y, test_size=i)\n",
    "    clf = svm.SVC(kernel='linear') # Linear Kernel\n",
    "    clf.fit(X_train, y_train)\n",
    "    y_pred = clf.predict(X_test)\n",
    "    train_scores.append(clf.score(X_train, y_train)*100)\n",
    "    test_scores.append(clf.score(X_test, y_test)*100)\n",
    "    cv = cross_val_score(clf, X_train, y_train, cv=10)\n",
    "    cv_mean = np.array(cv).mean() * 100\n",
    "    cv_scores.append(cv_mean)\n",
    "    \n",
    "print \"train accuracy: \", train_scores\n",
    "print\n",
    "#print test_scores\n",
    "#print\n",
    "print \"cv accuracy: \", cv_scores\n",
    "print\n",
    "\n",
    "plt.plot(test_size, train_scores, color='blue', label='train')\n",
    "plt.plot(test_size, cv_scores, color='orange', label='cv')\n",
    "plt.xlabel('Test Size')\n",
    "plt.ylabel('Accuracy')\n",
    "plt.title('SVM 1: Linear Learning Curve')\n",
    "plt.legend()"
   ]
  },
  {
   "cell_type": "code",
   "execution_count": null,
   "metadata": {
    "collapsed": true
   },
   "outputs": [],
   "source": [
    "##### Learning Curve########\n",
    "\n",
    "# try different test sizes and record training and testing and cv accuracy\n",
    "test_size = [.1,.2,.3,.4,.5,.6,.7,.8,.9]\n",
    "ylims = [0,1,2,3,4,5,6,7,8]\n",
    "train_scores = []\n",
    "test_scores = []\n",
    "cv_scores = []\n",
    "for i in test_size:\n",
    "    X_train, X_test, y_train, y_test = train_test_split(X, y, test_size=i)\n",
    "    clf = svm.SVC(kernel='poly', degree=8) # Poly Kernel\n",
    "    clf.fit(X_train, y_train)\n",
    "    y_pred = clf.predict(X_test)\n",
    "    train_scores.append(clf.score(X_train, y_train)*100)\n",
    "    test_scores.append(clf.score(X_test, y_test)*100)\n",
    "    cv = cross_val_score(clf, X_train, y_train, cv=10)\n",
    "    cv_mean = np.array(cv).mean() * 100\n",
    "    cv_scores.append(cv_mean)\n",
    "    \n",
    "print \"train accuracy: \", train_scores\n",
    "print\n",
    "#print test_scores\n",
    "#print\n",
    "print \"cv accuracy: \", cv_scores\n",
    "print\n",
    "\n",
    "plt.plot(test_size, train_scores, color='blue', label='train')\n",
    "plt.plot(test_size, cv_scores, color='orange', label='cv')\n",
    "plt.xlabel('Test Size')\n",
    "plt.ylabel('Accuracy')\n",
    "plt.title('SVM 1: Polynomial Learning Curve')\n",
    "plt.legend()\n"
   ]
  },
  {
   "cell_type": "code",
   "execution_count": 10,
   "metadata": {},
   "outputs": [
    {
     "name": "stdout",
     "output_type": "stream",
     "text": [
      "train accuracy:  [95.894428152492679, 96.480938416422291, 96.480938416422291, 96.187683284457478, 96.187683284457478, 96.774193548387103, 97.067448680351902, 97.067448680351902, 97.360703812316714]\n",
      "\n",
      "cv accuracy:  [94.134453781512605, 93.840336134453779, 94.428571428571431, 94.428571428571431, 94.134453781512605, 94.134453781512605, 94.428571428571431, 94.428571428571431, 94.134453781512605]\n",
      "\n"
     ]
    },
    {
     "data": {
      "text/plain": [
       "<matplotlib.legend.Legend at 0xddf4588>"
      ]
     },
     "execution_count": 10,
     "metadata": {},
     "output_type": "execute_result"
    },
    {
     "data": {
      "image/png": "[encoded data removed]",
      "text/plain": [
       "<matplotlib.figure.Figure at 0xd987f60>"
      ]
     },
     "metadata": {},
     "output_type": "display_data"
    }
   ],
   "source": [
    "###### Model Complexity ########\n",
    "\n",
    "# try differenty c metrics\n",
    "X_train, X_test, y_train, y_test = train_test_split(X, y)\n",
    "c_range = [.1,.2,.3,.4,.5,.6,.7,.8,.9]\n",
    "train_scores = []\n",
    "test_scores = []\n",
    "cv_scores = []\n",
    "for c in c_range:\n",
    "    clf = svm.SVC(kernel='linear', C=c) # Linear Kernel\n",
    "    clf.fit(X_train, y_train)\n",
    "    y_pred = clf.predict(X_test)\n",
    "    train_scores.append(clf.score(X_train, y_train)*100)\n",
    "    test_scores.append(clf.score(X_test, y_test)*100)\n",
    "    cv = cross_val_score(clf, X_train, y_train, cv=10)\n",
    "    cv_mean = np.array(cv).mean() * 100\n",
    "    cv_scores.append(cv_mean)\n",
    "\n",
    "print \"train accuracy: \", train_scores\n",
    "print\n",
    "#print test_scores\n",
    "#print\n",
    "print \"cv accuracy: \", cv_scores\n",
    "print\n",
    "\n",
    "plt.plot(c_range, train_scores, color='blue', label='train')\n",
    "plt.plot(c_range, cv_scores, color='orange', label='cv')\n",
    "plt.xlabel('Size of C: Penalty Perameter')\n",
    "plt.ylabel('Accuracy')\n",
    "plt.title('SVM 1: Model Complexity Curve')\n",
    "plt.legend()\n"
   ]
  },
  {
   "cell_type": "code",
   "execution_count": 11,
   "metadata": {},
   "outputs": [
    {
     "name": "stdout",
     "output_type": "stream",
     "text": [
      "Accuracy on the training subset: 0.963\n",
      "Accuracy on the test subset: 0.965\n",
      "[[34  3]\n",
      " [ 1 76]]\n"
     ]
    }
   ],
   "source": [
    "##### Test Model On Holdout Group  #####\n",
    "\n",
    "clf = svm.SVC(kernel='linear', C=0.5) # Linear Kernel\n",
    "clf.fit(X, y)\n",
    "\n",
    "y_pred = clf.predict(X_test_holdout)\n",
    "\n",
    "print('Accuracy on the training subset: {:.3f}'.format(clf.score(X, y)))\n",
    "print('Accuracy on the test subset: {:.3f}'.format(clf.score(X_test_holdout, y_test_holdout)))\n",
    "print(metrics.confusion_matrix(y_test_holdout, y_pred))"
   ]
  },
  {
   "cell_type": "code",
   "execution_count": null,
   "metadata": {
    "collapsed": true
   },
   "outputs": [],
   "source": []
  },
  {
   "cell_type": "code",
   "execution_count": null,
   "metadata": {
    "collapsed": true
   },
   "outputs": [],
   "source": []
  },
  {
   "cell_type": "code",
   "execution_count": null,
   "metadata": {
    "collapsed": true
   },
   "outputs": [],
   "source": []
  },
  {
   "cell_type": "code",
   "execution_count": null,
   "metadata": {
    "collapsed": true
   },
   "outputs": [],
   "source": [
    "#https://archive.ics.uci.edu/ml/datasets/Image+Segmentation"
   ]
  },
  {
   "cell_type": "code",
   "execution_count": null,
   "metadata": {
    "collapsed": true
   },
   "outputs": [],
   "source": [
    "###########  image segmentation  ########"
   ]
  },
  {
   "cell_type": "code",
   "execution_count": 12,
   "metadata": {},
   "outputs": [
    {
     "name": "stdout",
     "output_type": "stream",
     "text": [
      "(2310, 20)\n",
      "(2310, 19)\n",
      "(2310L,)\n"
     ]
    }
   ],
   "source": [
    "import pandas as pd\n",
    "data = pd.read_csv('C:/Users/443966/Desktop/image_segmentation_1.csv')\n",
    "print data.shape\n",
    "#print data.head()\n",
    "\n",
    "#X = data['REGION-CENTROID-COL':'HUE-MEAN']\n",
    "X = data[data.columns.difference(['CLASS'])]\n",
    "y = data['CLASS']\n",
    "\n",
    "print X.shape\n",
    "print y.shape"
   ]
  },
  {
   "cell_type": "code",
   "execution_count": 13,
   "metadata": {
    "collapsed": true
   },
   "outputs": [],
   "source": [
    "X_train, X_test, y_train, y_test = train_test_split(X, y, test_size=0.3, random_state=109)"
   ]
  },
  {
   "cell_type": "code",
   "execution_count": 14,
   "metadata": {},
   "outputs": [
    {
     "name": "stdout",
     "output_type": "stream",
     "text": [
      "('Accuracy:', 0.9581529581529582)\n",
      "[[ 97   0   0   0   0   0   0]\n",
      " [  0 102   0   0   0   0   0]\n",
      " [  0   0  84   1   6   1   0]\n",
      " [  3   0   0 101   7   0   0]\n",
      " [  0   0   7   4  86   0   0]\n",
      " [  0   0   0   0   0  93   0]\n",
      " [  0   0   0   0   0   0 101]]\n",
      "             precision    recall  f1-score   support\n",
      "\n",
      "          1       0.97      1.00      0.98        97\n",
      "          2       1.00      1.00      1.00       102\n",
      "          3       0.92      0.91      0.92        92\n",
      "          4       0.95      0.91      0.93       111\n",
      "          5       0.87      0.89      0.88        97\n",
      "          6       0.99      1.00      0.99        93\n",
      "          7       1.00      1.00      1.00       101\n",
      "\n",
      "avg / total       0.96      0.96      0.96       693\n",
      "\n",
      "train accuracy:  0.969696969697\n",
      "test accuracy:  0.958152958153\n"
     ]
    }
   ],
   "source": [
    "clf = svm.SVC(kernel='linear') # Linear Kernel\n",
    "\n",
    "#Train the model using the training sets\n",
    "clf.fit(X_train, y_train)\n",
    "\n",
    "#Predict the response for test dataset\n",
    "y_pred = clf.predict(X_test)\n",
    "\n",
    "# Model Accuracy: how often is the classifier correct?\n",
    "print(\"Accuracy:\",metrics.accuracy_score(y_test, y_pred))\n",
    "\n",
    "print(confusion_matrix(y_test,y_pred))  \n",
    "print(classification_report(y_test,y_pred)) \n",
    "\n",
    "print \"train accuracy: \", clf.score(X_train, y_train)\n",
    "print \"test accuracy: \", clf.score(X_test, y_test)"
   ]
  },
  {
   "cell_type": "code",
   "execution_count": 15,
   "metadata": {},
   "outputs": [
    {
     "data": {
      "text/plain": [
       "Text(0,0.5,u'Accuracy')"
      ]
     },
     "execution_count": 15,
     "metadata": {},
     "output_type": "execute_result"
    },
    {
     "data": {
      "image/png": "[encoded data removed]",
      "text/plain": [
       "<matplotlib.figure.Figure at 0x5bf6470>"
      ]
     },
     "metadata": {},
     "output_type": "display_data"
    }
   ],
   "source": [
    "X_train, X_test, y_train, y_test = train_test_split(X, y, test_size=0.3, random_state=109)\n",
    "c_range = [.01,.1,.2,.3,.4,.5,.6,.7,.8,.9,.99]\n",
    "ylims = [0,1,2,3,4,5,6,7,8,9,10]\n",
    "train_scores = []\n",
    "test_scores = []\n",
    "\n",
    "for c in c_range:\n",
    "    clf = svm.SVC(kernel='linear', C=c) # Linear Kernel\n",
    "    clf.fit(X_train, y_train)\n",
    "    train_scores.append(clf.score(X_train, y_train))\n",
    "    test_scores.append(clf.score(X_test, y_test))\n",
    "    \n",
    "# plot the relationship between K and testing accuracy\n",
    "plt.plot(ylims, train_scores, test_scores)\n",
    "plt.xlabel('SVM: Value of C')\n",
    "plt.ylabel('Accuracy')\n"
   ]
  },
  {
   "cell_type": "code",
   "execution_count": null,
   "metadata": {
    "collapsed": true
   },
   "outputs": [],
   "source": [
    "# https://stackabuse.com/implementing-svm-and-kernel-svm-with-pythons-scikit-learn/\n",
    "# polynomial kernel\n",
    "svclassifier = SVC(kernel='poly', degree=8)  \n",
    "svclassifier.fit(X_train, y_train)  \n",
    "y_pred = svclassifier.predict(X_test)  \n",
    "print(confusion_matrix(y_test, y_pred))  \n",
    "print(classification_report(y_test, y_pred))\n",
    "# Model Accuracy: how often is the classifier correct?\n",
    "print(\"Accuracy:\",metrics.accuracy_score(y_test, y_pred))\n",
    "print \"train accuracy: \", clf.score(X_train, y_train)\n",
    "print \"test accuracy: \", clf.score(X_test, y_test)\n"
   ]
  },
  {
   "cell_type": "code",
   "execution_count": null,
   "metadata": {
    "collapsed": true
   },
   "outputs": [],
   "source": [
    "# Gaussian Kernel\n",
    "svclassifier = SVC(kernel='rbf')  \n",
    "svclassifier.fit(X_train, y_train)\n",
    "y_pred = svclassifier.predict(X_test) \n",
    "print(confusion_matrix(y_test, y_pred))  \n",
    "print(classification_report(y_test, y_pred)) "
   ]
  },
  {
   "cell_type": "code",
   "execution_count": null,
   "metadata": {
    "collapsed": true
   },
   "outputs": [],
   "source": [
    "# Sigmoid Kernel\n",
    "svclassifier = SVC(kernel='sigmoid')  \n",
    "svclassifier.fit(X_train, y_train)  \n",
    "y_pred = svclassifier.predict(X_test) \n",
    "print(confusion_matrix(y_test, y_pred))  \n",
    "print(classification_report(y_test, y_pred))"
   ]
  },
  {
   "cell_type": "code",
   "execution_count": null,
   "metadata": {
    "collapsed": true
   },
   "outputs": [],
   "source": [
    "# testing vs training size\n",
    "# Comparing parameter C:  float, optional (default=1.0) Penalty parameter C of the error term\n",
    "# low c = largest margin even if accuracy low, high c = high accuracy\n",
    "# https://stats.stackexchange.com/questions/31066/what-is-the-influence-of-c-in-svms-with-linear-kernel\n",
    "\n",
    "test_sizes = [.01,.1,.2,.3,.4,.5,.6,.7,.8,.9,.99]\n",
    "ylims = [0,1,2,3,4,5,6,7,8,9,10]\n",
    "train_scores = []\n",
    "test_scores = []\n",
    "\n",
    "for ts in test_sizes:\n",
    "    X_train, X_test, y_train, y_test = train_test_split(X, y, test_size=ts,random_state=109)\n",
    "    clf = svm.SVC(kernel='linear') # Linear Kernel\n",
    "    clf.fit(X_train, y_train)\n",
    "    train_scores.append(clf.score(X_train, y_train))\n",
    "    test_scores.append(clf.score(X_test, y_test))\n",
    "    \n",
    "# plot the relationship between K and testing accuracy\n",
    "plt.plot(ylims, train_scores, test_scores)\n",
    "plt.xlabel('SVM: Value of C')\n",
    "plt.ylabel('Accuracy')"
   ]
  },
  {
   "cell_type": "code",
   "execution_count": null,
   "metadata": {
    "collapsed": true
   },
   "outputs": [],
   "source": []
  },
  {
   "cell_type": "code",
   "execution_count": null,
   "metadata": {
    "collapsed": true
   },
   "outputs": [],
   "source": []
  },
  {
   "cell_type": "code",
   "execution_count": null,
   "metadata": {
    "collapsed": true
   },
   "outputs": [],
   "source": []
  },
  {
   "cell_type": "code",
   "execution_count": null,
   "metadata": {
    "collapsed": true
   },
   "outputs": [],
   "source": []
  },
  {
   "cell_type": "code",
   "execution_count": null,
   "metadata": {
    "collapsed": true
   },
   "outputs": [],
   "source": []
  },
  {
   "cell_type": "code",
   "execution_count": 16,
   "metadata": {
    "collapsed": true
   },
   "outputs": [],
   "source": [
    "###### HOLDOUT ########\n",
    "\n",
    "# Holdout 20%\n",
    "X = data[data.columns.difference(['CLASS'])]\n",
    "y = data['CLASS']\n",
    "\n",
    "X, X_test_holdout, y, y_test_holdout = train_test_split(X, y, test_size=0.2)\n",
    "X_train, X_test, y_train, y_test = train_test_split(X, y)"
   ]
  },
  {
   "cell_type": "code",
   "execution_count": 17,
   "metadata": {},
   "outputs": [
    {
     "name": "stdout",
     "output_type": "stream",
     "text": [
      "train accuracy:  [96.993385447985574, 96.955345060893094, 97.757153905645794, 96.750902527075809, 97.077922077922068, 96.887686062246274, 97.292418772563167, 98.644986449864504, 97.282608695652172]\n",
      "\n",
      "cv accuracy:  [95.737882221357822, 95.670400402077092, 96.595640288887424, 94.501093511649458, 95.122291554713627, 94.588129833248999, 93.585686042725087, 93.079340610300349, 88.581480439065587]\n",
      "\n"
     ]
    },
    {
     "data": {
      "text/plain": [
       "<matplotlib.legend.Legend at 0xe418e80>"
      ]
     },
     "execution_count": 17,
     "metadata": {},
     "output_type": "execute_result"
    },
    {
     "data": {
      "image/png": "[encoded data removed]",
      "text/plain": [
       "<matplotlib.figure.Figure at 0xdf64da0>"
      ]
     },
     "metadata": {},
     "output_type": "display_data"
    }
   ],
   "source": [
    "\n",
    "\n",
    "##### Learning Curve########\n",
    "\n",
    "# try different test sizes and record training and testing and cv accuracy\n",
    "test_size = [.1,.2,.3,.4,.5,.6,.7,.8,.9]\n",
    "ylims = [0,1,2,3,4,5,6,7,8]\n",
    "train_scores = []\n",
    "test_scores = []\n",
    "cv_scores = []\n",
    "for i in test_size:\n",
    "    X_train, X_test, y_train, y_test = train_test_split(X, y, test_size=i)\n",
    "    clf = svm.SVC(kernel='linear') # Linear Kernel\n",
    "    clf.fit(X_train, y_train)\n",
    "    y_pred = clf.predict(X_test)\n",
    "    train_scores.append(clf.score(X_train, y_train)*100)\n",
    "    test_scores.append(clf.score(X_test, y_test)*100)\n",
    "    cv = cross_val_score(clf, X_train, y_train, cv=10)\n",
    "    cv_mean = np.array(cv).mean() * 100\n",
    "    cv_scores.append(cv_mean)\n",
    "    \n",
    "print \"train accuracy: \", train_scores\n",
    "print\n",
    "#print test_scores\n",
    "#print\n",
    "print \"cv accuracy: \", cv_scores\n",
    "print\n",
    "\n",
    "plt.plot(test_size, train_scores, color='blue', label='train')\n",
    "plt.plot(test_size, cv_scores, color='orange', label='cv')\n",
    "plt.xlabel('Test Size')\n",
    "plt.ylabel('Accuracy')\n",
    "plt.title('SVM 2: Linear Learning Curve')\n",
    "plt.legend()"
   ]
  },
  {
   "cell_type": "code",
   "execution_count": null,
   "metadata": {
    "collapsed": true
   },
   "outputs": [],
   "source": [
    "##### Learning Curve########\n",
    "\n",
    "# try different test sizes and record training and testing and cv accuracy\n",
    "test_size = [.1,.2,.3,.4,.5,.6,.7,.8,.9]\n",
    "ylims = [0,1,2,3,4,5,6,7,8]\n",
    "train_scores = []\n",
    "test_scores = []\n",
    "cv_scores = []\n",
    "for i in test_size:\n",
    "    X_train, X_test, y_train, y_test = train_test_split(X, y, test_size=i)\n",
    "    clf = svm.SVC(kernel='poly', degree=8) # Poly Kernel\n",
    "    clf.fit(X_train, y_train)\n",
    "    y_pred = clf.predict(X_test)\n",
    "    train_scores.append(clf.score(X_train, y_train)*100)\n",
    "    test_scores.append(clf.score(X_test, y_test)*100)\n",
    "    cv = cross_val_score(clf, X_train, y_train, cv=10)\n",
    "    cv_mean = np.array(cv).mean() * 100\n",
    "    cv_scores.append(cv_mean)\n",
    "    \n",
    "print \"train accuracy: \", train_scores\n",
    "print\n",
    "#print test_scores\n",
    "#print\n",
    "print \"cv accuracy: \", cv_scores\n",
    "print\n",
    "\n",
    "plt.plot(test_size, train_scores, color='blue', label='train')\n",
    "plt.plot(test_size, cv_scores, color='orange', label='cv')\n",
    "plt.xlabel('Test Size')\n",
    "plt.ylabel('Accuracy')\n",
    "plt.title('SVM 2: Polynomial Learning Curve')\n",
    "plt.legend()"
   ]
  },
  {
   "cell_type": "code",
   "execution_count": 18,
   "metadata": {},
   "outputs": [
    {
     "name": "stdout",
     "output_type": "stream",
     "text": [
      "train accuracy:  [95.743145743145746, 96.464646464646464, 96.681096681096676, 96.897546897546889, 96.969696969696969, 96.897546897546889, 97.186147186147181, 97.186147186147181, 97.186147186147181, 97.186147186147181, 97.113997113997115]\n",
      "\n",
      "cv accuracy:  [94.810131678218127, 95.03431766517707, 95.175103128168132, 95.24545860848977, 95.174514751205734, 95.177621627759152, 94.958099036113808, 95.243357768153629, 95.243357768153629, 95.387763982312748, 95.607286573958078]\n",
      "\n"
     ]
    },
    {
     "data": {
      "text/plain": [
       "<matplotlib.legend.Legend at 0xe6a7278>"
      ]
     },
     "execution_count": 18,
     "metadata": {},
     "output_type": "execute_result"
    },
    {
     "data": {
      "image/png": "[encoded data removed]",
      "text/plain": [
       "<matplotlib.figure.Figure at 0xe118e48>"
      ]
     },
     "metadata": {},
     "output_type": "display_data"
    }
   ],
   "source": [
    "###### Model Complexity ########\n",
    "\n",
    "# try differenty c metrics\n",
    "X_train, X_test, y_train, y_test = train_test_split(X, y)\n",
    "c_range = [.01,.1,.2,.3,.4,.5,.6,.7,.8,.9,.99]\n",
    "train_scores = []\n",
    "test_scores = []\n",
    "cv_scores = []\n",
    "for c in c_range:\n",
    "    clf = svm.SVC(kernel='linear', C=c) # Linear Kernel\n",
    "    clf.fit(X_train, y_train)\n",
    "    y_pred = clf.predict(X_test)\n",
    "    train_scores.append(clf.score(X_train, y_train)*100)\n",
    "    test_scores.append(clf.score(X_test, y_test)*100)\n",
    "    cv = cross_val_score(clf, X_train, y_train, cv=10)\n",
    "    cv_mean = np.array(cv).mean() * 100\n",
    "    cv_scores.append(cv_mean)\n",
    "\n",
    "print \"train accuracy: \", train_scores\n",
    "print\n",
    "#print test_scores\n",
    "#print\n",
    "print \"cv accuracy: \", cv_scores\n",
    "print\n",
    "\n",
    "plt.plot(c_range, train_scores, color='blue', label='train')\n",
    "plt.plot(c_range, cv_scores, color='orange', label='cv')\n",
    "plt.xlabel('Size of C: Penalty Perameter')\n",
    "plt.ylabel('Accuracy')\n",
    "plt.title('SVM 2: Model Complexity Curve')\n",
    "plt.legend()\n",
    "\n"
   ]
  },
  {
   "cell_type": "code",
   "execution_count": 19,
   "metadata": {},
   "outputs": [
    {
     "name": "stdout",
     "output_type": "stream",
     "text": [
      "Accuracy on the training subset: 0.969\n",
      "Accuracy on the test subset: 0.974\n",
      "[[75  0  0  0  0  0  0]\n",
      " [ 0 69  0  0  0  0  0]\n",
      " [ 0  0 63  0  4  0  0]\n",
      " [ 0  0  0 56  3  0  0]\n",
      " [ 1  0  2  2 51  0  0]\n",
      " [ 0  0  0  0  0 60  0]\n",
      " [ 0  0  0  0  0  0 76]]\n"
     ]
    }
   ],
   "source": [
    "##### Test Model On Holdout Group  #####\n",
    "\n",
    "clf = svm.SVC(kernel='linear', C=0.4) # Linear Kernel\n",
    "clf.fit(X, y)\n",
    "\n",
    "y_pred = clf.predict(X_test_holdout)\n",
    "\n",
    "print('Accuracy on the training subset: {:.3f}'.format(clf.score(X, y)))\n",
    "print('Accuracy on the test subset: {:.3f}'.format(clf.score(X_test_holdout, y_test_holdout)))\n",
    "print(metrics.confusion_matrix(y_test_holdout, y_pred))"
   ]
  },
  {
   "cell_type": "code",
   "execution_count": null,
   "metadata": {
    "collapsed": true
   },
   "outputs": [],
   "source": []
  }
 ],
 "metadata": {
  "kernelspec": {
   "display_name": "Python 3 (ipykernel)",
   "language": "python",
   "name": "python3"
  },
  "language_info": {
   "codemirror_mode": {
    "name": "ipython",
    "version": 3
   },
   "file_extension": ".py",
   "mimetype": "text/x-python",
   "name": "python",
   "nbconvert_exporter": "python",
   "pygments_lexer": "ipython3",
   "version": "3.10.8"
  }
 },
 "nbformat": 4,
 "nbformat_minor": 2
}
