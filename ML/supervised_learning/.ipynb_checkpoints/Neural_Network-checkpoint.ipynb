{
 "cells": [
  {
   "cell_type": "code",
   "execution_count": 18,
   "metadata": {
    "collapsed": true
   },
   "outputs": [],
   "source": [
    "\n",
    "\n",
    "import sklearn\n",
    "import matplotlib.pyplot as plt\n",
    "%matplotlib inline\n",
    "import numpy as np\n",
    "import pandas as pd\n",
    "\n",
    "from sklearn.datasets import load_breast_cancer\n",
    "from sklearn.tree import DecisionTreeClassifier\n",
    "from sklearn.neighbors import KNeighborsClassifier\n",
    "from sklearn.model_selection import train_test_split\n",
    "from sklearn.model_selection import cross_val_score  \n",
    "from sklearn import tree\n",
    "from sklearn import metrics\n",
    "from sklearn.preprocessing import StandardScaler\n",
    "from sklearn.neural_network import MLPClassifier\n",
    "from sklearn.metrics import classification_report,confusion_matrix"
   ]
  },
  {
   "cell_type": "code",
   "execution_count": 19,
   "metadata": {},
   "outputs": [
    {
     "name": "stdout",
     "output_type": "stream",
     "text": [
      "\n",
      "5\n",
      "\n",
      "<class 'sklearn.utils.Bunch'>\n",
      "\n",
      "(569L, 30L)\n",
      "\n",
      "(569L,)\n"
     ]
    }
   ],
   "source": [
    "cancer = load_breast_cancer()\n",
    "print\n",
    "print len(cancer)\n",
    "print\n",
    "print type(cancer)\n",
    "print\n",
    "print cancer.data.shape\n",
    "print\n",
    "print cancer.target.shape"
   ]
  },
  {
   "cell_type": "code",
   "execution_count": 20,
   "metadata": {
    "collapsed": true
   },
   "outputs": [],
   "source": [
    "X = cancer.data\n",
    "y = cancer.target"
   ]
  },
  {
   "cell_type": "code",
   "execution_count": 21,
   "metadata": {
    "collapsed": true
   },
   "outputs": [],
   "source": [
    "X_train, X_test, y_train, y_test = train_test_split(X, y)"
   ]
  },
  {
   "cell_type": "code",
   "execution_count": 22,
   "metadata": {},
   "outputs": [
    {
     "data": {
      "text/plain": [
       "StandardScaler(copy=True, with_mean=True, with_std=True)"
      ]
     },
     "execution_count": 22,
     "metadata": {},
     "output_type": "execute_result"
    }
   ],
   "source": [
    "# normalize the data\n",
    "scaler = StandardScaler()\n",
    "# Fit only to the training data\n",
    "scaler.fit(X_train)"
   ]
  },
  {
   "cell_type": "code",
   "execution_count": 23,
   "metadata": {
    "collapsed": true
   },
   "outputs": [],
   "source": [
    "# Now apply the transformations to the data:\n",
    "X_train = scaler.transform(X_train)\n",
    "X_test = scaler.transform(X_test)"
   ]
  },
  {
   "cell_type": "code",
   "execution_count": 24,
   "metadata": {},
   "outputs": [
    {
     "data": {
      "text/plain": [
       "MLPClassifier(activation='relu', alpha=0.0001, batch_size='auto', beta_1=0.9,\n",
       "       beta_2=0.999, early_stopping=False, epsilon=1e-08,\n",
       "       hidden_layer_sizes=(13, 13, 13), learning_rate='constant',\n",
       "       learning_rate_init=0.001, max_iter=500, momentum=0.9,\n",
       "       nesterovs_momentum=True, power_t=0.5, random_state=None,\n",
       "       shuffle=True, solver='adam', tol=0.0001, validation_fraction=0.1,\n",
       "       verbose=False, warm_start=False)"
      ]
     },
     "execution_count": 24,
     "metadata": {},
     "output_type": "execute_result"
    }
   ],
   "source": [
    "mlp = MLPClassifier(hidden_layer_sizes=(13,13,13),max_iter=500)\n",
    "mlp.fit(X_train,y_train)"
   ]
  },
  {
   "cell_type": "code",
   "execution_count": 25,
   "metadata": {
    "collapsed": true
   },
   "outputs": [],
   "source": [
    "predictions = mlp.predict(X_test)"
   ]
  },
  {
   "cell_type": "code",
   "execution_count": 26,
   "metadata": {},
   "outputs": [
    {
     "name": "stdout",
     "output_type": "stream",
     "text": [
      "[[49  0]\n",
      " [ 2 92]]\n",
      "             precision    recall  f1-score   support\n",
      "\n",
      "          0       0.96      1.00      0.98        49\n",
      "          1       1.00      0.98      0.99        94\n",
      "\n",
      "avg / total       0.99      0.99      0.99       143\n",
      "\n"
     ]
    }
   ],
   "source": [
    "print(confusion_matrix(y_test,predictions))\n",
    "print(classification_report(y_test,predictions))"
   ]
  },
  {
   "cell_type": "code",
   "execution_count": null,
   "metadata": {
    "collapsed": true
   },
   "outputs": [],
   "source": []
  },
  {
   "cell_type": "code",
   "execution_count": 27,
   "metadata": {},
   "outputs": [
    {
     "data": {
      "text/plain": [
       "MLPClassifier(activation='relu', alpha=5.0, batch_size='auto', beta_1=0.9,\n",
       "       beta_2=0.999, early_stopping=False, epsilon=1e-08,\n",
       "       hidden_layer_sizes=(100, 100), learning_rate='constant',\n",
       "       learning_rate_init=0.001, max_iter=500, momentum=0.9,\n",
       "       nesterovs_momentum=True, power_t=0.5, random_state=None,\n",
       "       shuffle=True, solver='adam', tol=0.0001, validation_fraction=0.1,\n",
       "       verbose=False, warm_start=False)"
      ]
     },
     "execution_count": 27,
     "metadata": {},
     "output_type": "execute_result"
    }
   ],
   "source": [
    "clf = MLPClassifier(hidden_layer_sizes=(100,100),alpha=5.0, max_iter=500)\n",
    "clf.fit(X_train,y_train)"
   ]
  },
  {
   "cell_type": "code",
   "execution_count": 28,
   "metadata": {},
   "outputs": [
    {
     "name": "stdout",
     "output_type": "stream",
     "text": [
      "train accuracy:  0.978873239437\n",
      "test accuracy:  0.972027972028\n",
      "[[45  4]\n",
      " [ 0 94]]\n",
      "             precision    recall  f1-score   support\n",
      "\n",
      "          0       1.00      0.92      0.96        49\n",
      "          1       0.96      1.00      0.98        94\n",
      "\n",
      "avg / total       0.97      0.97      0.97       143\n",
      "\n"
     ]
    }
   ],
   "source": [
    "print \"train accuracy: \", clf.score(X_train, y_train)\n",
    "print \"test accuracy: \", clf.score(X_test, y_test)\n",
    "predictions = clf.predict(X_test)\n",
    "print(confusion_matrix(y_test,predictions))\n",
    "print(classification_report(y_test,predictions))"
   ]
  },
  {
   "cell_type": "code",
   "execution_count": null,
   "metadata": {
    "collapsed": true
   },
   "outputs": [],
   "source": []
  },
  {
   "cell_type": "code",
   "execution_count": 29,
   "metadata": {},
   "outputs": [
    {
     "data": {
      "text/plain": [
       "Text(0,0.5,u'Accuracy')"
      ]
     },
     "execution_count": 29,
     "metadata": {},
     "output_type": "execute_result"
    },
    {
     "data": {
      "image/png": "[encoded data removed]",
      "text/plain": [
       "<matplotlib.figure.Figure at 0x105cbf28>"
      ]
     },
     "metadata": {},
     "output_type": "display_data"
    }
   ],
   "source": [
    "# try different alpha sizes and record training and testing accuracy\n",
    "alphas = [.001,.01,.1,1.0,5.0]\n",
    "ylims = [0,1,2,3,4]\n",
    "train_scores = []\n",
    "test_scores = []\n",
    "for alpha in alphas:\n",
    "    clf = MLPClassifier(hidden_layer_sizes=(100,100),alpha=alpha, max_iter=500)\n",
    "    clf.fit(X_train,y_train)\n",
    "    train_scores.append(clf.score(X_train, y_train))\n",
    "    test_scores.append(clf.score(X_test, y_test))\n",
    "    \n",
    "# plot the relationship between K and testing accuracy\n",
    "plt.plot(ylims, train_scores, test_scores)\n",
    "plt.xlabel('NN: Value of alpha')\n",
    "plt.ylabel('Accuracy')"
   ]
  },
  {
   "cell_type": "code",
   "execution_count": 30,
   "metadata": {},
   "outputs": [
    {
     "data": {
      "text/plain": [
       "Text(0,0.5,u'Accuracy')"
      ]
     },
     "execution_count": 30,
     "metadata": {},
     "output_type": "execute_result"
    },
    {
     "data": {
      "image/png": "[encoded data removed]",
      "text/plain": [
       "<matplotlib.figure.Figure at 0x107c10f0>"
      ]
     },
     "metadata": {},
     "output_type": "display_data"
    }
   ],
   "source": [
    "# try different unit sizes and record training and testing accuracy\n",
    "units = [1, 10, 50, 100, 300, 500, 1000]\n",
    "ylims = [0,1,2,3,4,5,6]\n",
    "train_scores = []\n",
    "test_scores = []\n",
    "for unit in units:\n",
    "    clf = MLPClassifier(hidden_layer_sizes=[unit],alpha=1.0, max_iter=3000)\n",
    "    clf.fit(X_train,y_train)\n",
    "    train_scores.append(clf.score(X_train, y_train))\n",
    "    test_scores.append(clf.score(X_test, y_test))\n",
    "    \n",
    "# plot the relationship between K and testing accuracy\n",
    "plt.plot(ylims, train_scores, test_scores)\n",
    "plt.xlabel('NN: Value of units')\n",
    "plt.ylabel('Accuracy')"
   ]
  },
  {
   "cell_type": "code",
   "execution_count": 31,
   "metadata": {},
   "outputs": [
    {
     "data": {
      "text/plain": [
       "Text(0,0.5,u'Accuracy')"
      ]
     },
     "execution_count": 31,
     "metadata": {},
     "output_type": "execute_result"
    },
    {
     "data": {
      "image/png": "[encoded data removed]",
      "text/plain": [
       "<matplotlib.figure.Figure at 0x10d4e908>"
      ]
     },
     "metadata": {},
     "output_type": "display_data"
    }
   ],
   "source": [
    "# try different test sizes and record training and testing accuracy\n",
    "test_size = [.1,.2,.3,.4,.5,.6,.7,.8,.9]\n",
    "ylims = [0,1,2,3,4,5,6,7,8]\n",
    "train_scores = []\n",
    "test_scores = []\n",
    "for i in test_size:\n",
    "    X_train, X_test, y_train, y_test = train_test_split(X, y, test_size=i)\n",
    "    clf = MLPClassifier(hidden_layer_sizes=(100,100), alpha=1.0, max_iter=500)\n",
    "    clf.fit(X_train,y_train)\n",
    "    train_scores.append(clf.score(X_train, y_train))\n",
    "    test_scores.append(clf.score(X_test, y_test))\n",
    "    \n",
    "# plot the relationship between test size and testing accuracy\n",
    "plt.plot(ylims, train_scores, test_scores)\n",
    "plt.xlabel('NN: Value of Test Size')\n",
    "plt.ylabel('Accuracy')"
   ]
  },
  {
   "cell_type": "code",
   "execution_count": null,
   "metadata": {
    "collapsed": true
   },
   "outputs": [],
   "source": []
  },
  {
   "cell_type": "code",
   "execution_count": null,
   "metadata": {
    "collapsed": true
   },
   "outputs": [],
   "source": []
  },
  {
   "cell_type": "code",
   "execution_count": 32,
   "metadata": {
    "collapsed": true
   },
   "outputs": [],
   "source": [
    "###### HOLDOUT ########\n",
    "\n",
    "# Holdout 20%\n",
    "X = cancer.data\n",
    "y = cancer.target\n",
    "X, X_test_holdout, y, y_test_holdout = train_test_split(X, y, test_size=0.2)\n",
    "X_train, X_test, y_train, y_test = train_test_split(X, y)"
   ]
  },
  {
   "cell_type": "code",
   "execution_count": 33,
   "metadata": {},
   "outputs": [
    {
     "name": "stdout",
     "output_type": "stream",
     "text": [
      "train accuracy:  [67.481662591687041, 92.307692307692307, 74.213836477987414, 85.347985347985343, 89.427312775330392, 42.307692307692307, 55.147058823529413, 28.571428571428569, 28.888888888888886]\n",
      "\n",
      "cv accuracy:  [76.817073170731717, 83.031847637110801, 71.798326001955033, 76.667684167684172, 63.339920948616601, 56.181630546955631, 63.018315018315029, 52.416666666666664, 53.166666666666664]\n",
      "\n"
     ]
    },
    {
     "data": {
      "text/plain": [
       "<matplotlib.legend.Legend at 0x10e1e240>"
      ]
     },
     "execution_count": 33,
     "metadata": {},
     "output_type": "execute_result"
    },
    {
     "data": {
      "image/png": "[encoded data removed]",
      "text/plain": [
       "<matplotlib.figure.Figure at 0xce7dc50>"
      ]
     },
     "metadata": {},
     "output_type": "display_data"
    }
   ],
   "source": [
    "##### Learning Curve########\n",
    "\n",
    "# try different test sizes and record training and testing and cv accuracy\n",
    "test_size = [.1,.2,.3,.4,.5,.6,.7,.8,.9]\n",
    "ylims = [0,1,2,3,4,5,6,7,8]\n",
    "train_scores = []\n",
    "test_scores = []\n",
    "cv_scores = []\n",
    "for i in test_size:\n",
    "    X_train, X_test, y_train, y_test = train_test_split(X, y, test_size=i)\n",
    "    clf = MLPClassifier(hidden_layer_sizes=(100,100), alpha=1.0, max_iter=500)\n",
    "    clf.fit(X_train, y_train)\n",
    "    y_pred = clf.predict(X_test)\n",
    "    train_scores.append(clf.score(X_train, y_train)*100)\n",
    "    test_scores.append(clf.score(X_test, y_test)*100)\n",
    "    cv = cross_val_score(clf, X_train, y_train, cv=10)\n",
    "    cv_mean = np.array(cv).mean() * 100\n",
    "    cv_scores.append(cv_mean)\n",
    "    \n",
    "print \"train accuracy: \", train_scores\n",
    "print\n",
    "#print test_scores\n",
    "#print\n",
    "print \"cv accuracy: \", cv_scores\n",
    "print\n",
    "\n",
    "plt.plot(test_size, train_scores, color='blue', label='train')\n",
    "plt.plot(test_size, cv_scores, color='orange', label='cv')\n",
    "plt.xlabel('Test Size')\n",
    "plt.ylabel('Accuracy')\n",
    "plt.title('NN 1: Learning Curve')\n",
    "plt.legend()"
   ]
  },
  {
   "cell_type": "code",
   "execution_count": 34,
   "metadata": {},
   "outputs": [
    {
     "name": "stdout",
     "output_type": "stream",
     "text": [
      "train accuracy:  [63.343108504398828, 33.137829912023456, 70.967741935483872, 80.645161290322577, 90.029325513196483, 87.390029325513197, 83.284457478005862]\n",
      "\n",
      "cv accuracy:  [66.311688311688329, 62.311942959001776, 49.087853323147428, 71.278329513623646, 82.753501400560211, 83.550292844410492, 85.169595110771581]\n",
      "\n"
     ]
    },
    {
     "data": {
      "text/plain": [
       "<matplotlib.legend.Legend at 0x10a421d0>"
      ]
     },
     "execution_count": 34,
     "metadata": {},
     "output_type": "execute_result"
    },
    {
     "data": {
      "image/png": "[encoded data removed]",
      "text/plain": [
       "<matplotlib.figure.Figure at 0x3ccc7f0>"
      ]
     },
     "metadata": {},
     "output_type": "display_data"
    }
   ],
   "source": [
    "###### Model Complexity ########\n",
    "\n",
    "# try units and record training and testing accuracy\n",
    "X_train, X_test, y_train, y_test = train_test_split(X, y)\n",
    "units = [1, 10, 50, 100, 300, 500, 1000]\n",
    "train_scores = []\n",
    "test_scores = []\n",
    "cv_scores = []\n",
    "for unit in units:\n",
    "    clf = MLPClassifier(hidden_layer_sizes=[unit],alpha=1.0, max_iter=3000)\n",
    "    clf.fit(X_train, y_train)\n",
    "    y_pred = clf.predict(X_test)\n",
    "    train_scores.append(clf.score(X_train, y_train)*100)\n",
    "    test_scores.append(clf.score(X_test, y_test)*100)\n",
    "    cv = cross_val_score(clf, X_train, y_train, cv=10)\n",
    "    cv_mean = np.array(cv).mean() * 100\n",
    "    cv_scores.append(cv_mean)\n",
    "\n",
    "print \"train accuracy: \", train_scores\n",
    "print\n",
    "#print test_scores\n",
    "#print\n",
    "print \"cv accuracy: \", cv_scores\n",
    "print\n",
    "\n",
    "plt.plot(units, train_scores, color='blue', label='train')\n",
    "plt.plot(units, cv_scores, color='orange', label='cv')\n",
    "plt.xlabel('Units 1 layer')\n",
    "plt.ylabel('Accuracy')\n",
    "plt.title('NN 1: Model Complexity Curve')\n",
    "plt.legend()"
   ]
  },
  {
   "cell_type": "code",
   "execution_count": 35,
   "metadata": {},
   "outputs": [
    {
     "name": "stdout",
     "output_type": "stream",
     "text": [
      "Accuracy on the training subset: 0.853\n",
      "Accuracy on the test subset: 0.807\n",
      "[[36  6]\n",
      " [16 56]]\n"
     ]
    }
   ],
   "source": [
    "##### Test Model On Holdout Group  #####\n",
    "\n",
    "clf = MLPClassifier(hidden_layer_sizes=(100,100), alpha=1.0, max_iter=500)\n",
    "clf.fit(X, y)\n",
    "\n",
    "y_pred = clf.predict(X_test_holdout)\n",
    "\n",
    "print('Accuracy on the training subset: {:.3f}'.format(clf.score(X, y)))\n",
    "print('Accuracy on the test subset: {:.3f}'.format(clf.score(X_test_holdout, y_test_holdout)))\n",
    "print(metrics.confusion_matrix(y_test_holdout, y_pred))"
   ]
  },
  {
   "cell_type": "code",
   "execution_count": null,
   "metadata": {
    "collapsed": true
   },
   "outputs": [],
   "source": []
  },
  {
   "cell_type": "code",
   "execution_count": null,
   "metadata": {
    "collapsed": true
   },
   "outputs": [],
   "source": []
  },
  {
   "cell_type": "code",
   "execution_count": null,
   "metadata": {
    "collapsed": true
   },
   "outputs": [],
   "source": []
  },
  {
   "cell_type": "code",
   "execution_count": null,
   "metadata": {
    "collapsed": true
   },
   "outputs": [],
   "source": []
  },
  {
   "cell_type": "code",
   "execution_count": 36,
   "metadata": {
    "collapsed": true
   },
   "outputs": [],
   "source": [
    "#https://archive.ics.uci.edu/ml/datasets/Image+Segmentation"
   ]
  },
  {
   "cell_type": "code",
   "execution_count": 37,
   "metadata": {
    "collapsed": true
   },
   "outputs": [],
   "source": [
    "###########  image segmentation  ########"
   ]
  },
  {
   "cell_type": "code",
   "execution_count": 38,
   "metadata": {},
   "outputs": [
    {
     "name": "stdout",
     "output_type": "stream",
     "text": [
      "(2310, 20)\n",
      "(2310, 19)\n",
      "(2310L,)\n"
     ]
    }
   ],
   "source": [
    "import pandas as pd\n",
    "data = pd.read_csv('C:/Users/443966/Desktop/image_segmentation_1.csv')\n",
    "print data.shape\n",
    "#print data.head()\n",
    "\n",
    "#X = data['REGION-CENTROID-COL':'HUE-MEAN']\n",
    "X = data[data.columns.difference(['CLASS'])]\n",
    "y = data['CLASS']\n",
    "\n",
    "print X.shape\n",
    "print y.shape"
   ]
  },
  {
   "cell_type": "code",
   "execution_count": 39,
   "metadata": {
    "collapsed": true
   },
   "outputs": [],
   "source": [
    "X_train, X_test, y_train, y_test = train_test_split(X, y, random_state=4)"
   ]
  },
  {
   "cell_type": "code",
   "execution_count": 40,
   "metadata": {},
   "outputs": [
    {
     "data": {
      "text/plain": [
       "StandardScaler(copy=True, with_mean=True, with_std=True)"
      ]
     },
     "execution_count": 40,
     "metadata": {},
     "output_type": "execute_result"
    }
   ],
   "source": [
    "# normalize the data\n",
    "scaler = StandardScaler()\n",
    "# Fit only to the training data\n",
    "scaler.fit(X_train)"
   ]
  },
  {
   "cell_type": "code",
   "execution_count": 41,
   "metadata": {
    "collapsed": true
   },
   "outputs": [],
   "source": [
    "# Now apply the transformations to the data:\n",
    "X_train = scaler.transform(X_train)\n",
    "X_test = scaler.transform(X_test)"
   ]
  },
  {
   "cell_type": "code",
   "execution_count": 42,
   "metadata": {},
   "outputs": [
    {
     "data": {
      "text/plain": [
       "MLPClassifier(activation='relu', alpha=0.0001, batch_size='auto', beta_1=0.9,\n",
       "       beta_2=0.999, early_stopping=False, epsilon=1e-08,\n",
       "       hidden_layer_sizes=(13, 13, 13), learning_rate='constant',\n",
       "       learning_rate_init=0.001, max_iter=500, momentum=0.9,\n",
       "       nesterovs_momentum=True, power_t=0.5, random_state=None,\n",
       "       shuffle=True, solver='adam', tol=0.0001, validation_fraction=0.1,\n",
       "       verbose=False, warm_start=False)"
      ]
     },
     "execution_count": 42,
     "metadata": {},
     "output_type": "execute_result"
    }
   ],
   "source": [
    "mlp = MLPClassifier(hidden_layer_sizes=(13,13,13),max_iter=500)\n",
    "mlp.fit(X_train,y_train)"
   ]
  },
  {
   "cell_type": "code",
   "execution_count": 43,
   "metadata": {},
   "outputs": [
    {
     "name": "stdout",
     "output_type": "stream",
     "text": [
      "[[66  0  0  0  1  0  0]\n",
      " [ 0 79  0  0  0  0  0]\n",
      " [ 0  0 73  0 10  0  0]\n",
      " [ 0  0  1 66  5  0  0]\n",
      " [ 1  0 11  2 91  0  0]\n",
      " [ 0  0  0  0  0 88  0]\n",
      " [ 0  0  0  0  0  0 84]]\n",
      "             precision    recall  f1-score   support\n",
      "\n",
      "          1       0.99      0.99      0.99        67\n",
      "          2       1.00      1.00      1.00        79\n",
      "          3       0.86      0.88      0.87        83\n",
      "          4       0.97      0.92      0.94        72\n",
      "          5       0.85      0.87      0.86       105\n",
      "          6       1.00      1.00      1.00        88\n",
      "          7       1.00      1.00      1.00        84\n",
      "\n",
      "avg / total       0.95      0.95      0.95       578\n",
      "\n"
     ]
    }
   ],
   "source": [
    "predictions = mlp.predict(X_test)\n",
    "print(confusion_matrix(y_test,predictions))\n",
    "print(classification_report(y_test,predictions))"
   ]
  },
  {
   "cell_type": "code",
   "execution_count": 44,
   "metadata": {},
   "outputs": [
    {
     "data": {
      "text/plain": [
       "MLPClassifier(activation='relu', alpha=1.0, batch_size='auto', beta_1=0.9,\n",
       "       beta_2=0.999, early_stopping=False, epsilon=1e-08,\n",
       "       hidden_layer_sizes=(100, 100), learning_rate='constant',\n",
       "       learning_rate_init=0.001, max_iter=500, momentum=0.9,\n",
       "       nesterovs_momentum=True, power_t=0.5, random_state=None,\n",
       "       shuffle=True, solver='adam', tol=0.0001, validation_fraction=0.1,\n",
       "       verbose=False, warm_start=False)"
      ]
     },
     "execution_count": 44,
     "metadata": {},
     "output_type": "execute_result"
    }
   ],
   "source": [
    "clf = MLPClassifier(hidden_layer_sizes=(100,100),alpha=1.0, max_iter=500)\n",
    "clf.fit(X_train,y_train)"
   ]
  },
  {
   "cell_type": "code",
   "execution_count": 45,
   "metadata": {},
   "outputs": [
    {
     "name": "stdout",
     "output_type": "stream",
     "text": [
      "train accuracy:  0.969976905312\n",
      "test accuracy:  0.939446366782\n",
      "[[66  0  0  0  1  0  0]\n",
      " [ 0 79  0  0  0  0  0]\n",
      " [ 0  0 78  1  4  0  0]\n",
      " [ 0  0  0 67  5  0  0]\n",
      " [ 1  0 21  2 81  0  0]\n",
      " [ 0  0  0  0  0 88  0]\n",
      " [ 0  0  0  0  0  0 84]]\n",
      "             precision    recall  f1-score   support\n",
      "\n",
      "          1       0.99      0.99      0.99        67\n",
      "          2       1.00      1.00      1.00        79\n",
      "          3       0.79      0.94      0.86        83\n",
      "          4       0.96      0.93      0.94        72\n",
      "          5       0.89      0.77      0.83       105\n",
      "          6       1.00      1.00      1.00        88\n",
      "          7       1.00      1.00      1.00        84\n",
      "\n",
      "avg / total       0.94      0.94      0.94       578\n",
      "\n"
     ]
    }
   ],
   "source": [
    "print \"train accuracy: \", clf.score(X_train, y_train)\n",
    "print \"test accuracy: \", clf.score(X_test, y_test)\n",
    "predictions = clf.predict(X_test)\n",
    "print(confusion_matrix(y_test,predictions))\n",
    "print(classification_report(y_test,predictions))"
   ]
  },
  {
   "cell_type": "code",
   "execution_count": 46,
   "metadata": {},
   "outputs": [
    {
     "data": {
      "text/plain": [
       "Text(0,0.5,u'Accuracy')"
      ]
     },
     "execution_count": 46,
     "metadata": {},
     "output_type": "execute_result"
    },
    {
     "data": {
      "image/png": "[encoded data removed]",
      "text/plain": [
       "<matplotlib.figure.Figure at 0x10c62dd8>"
      ]
     },
     "metadata": {},
     "output_type": "display_data"
    }
   ],
   "source": [
    "# try different test sizes and record training and testing accuracy\n",
    "alphas = [.001,.01,.1,1.0,5.0]\n",
    "ylims = [0,1,2,3,4]\n",
    "train_scores = []\n",
    "test_scores = []\n",
    "for alpha in alphas:\n",
    "    clf = MLPClassifier(hidden_layer_sizes=(100,100),alpha=alpha, max_iter=500)\n",
    "    clf.fit(X_train,y_train)\n",
    "    train_scores.append(clf.score(X_train, y_train))\n",
    "    test_scores.append(clf.score(X_test, y_test))\n",
    "    \n",
    "# plot the relationship between K and testing accuracy\n",
    "plt.plot(ylims, train_scores, test_scores)\n",
    "plt.xlabel('NN: Value of alpha')\n",
    "plt.ylabel('Accuracy')"
   ]
  },
  {
   "cell_type": "code",
   "execution_count": 47,
   "metadata": {},
   "outputs": [
    {
     "data": {
      "text/plain": [
       "Text(0,0.5,u'Accuracy')"
      ]
     },
     "execution_count": 47,
     "metadata": {},
     "output_type": "execute_result"
    },
    {
     "data": {
      "image/png": "[encoded data removed]",
      "text/plain": [
       "<matplotlib.figure.Figure at 0x126803c8>"
      ]
     },
     "metadata": {},
     "output_type": "display_data"
    }
   ],
   "source": [
    "# try different test sizes and record training and testing accuracy\n",
    "units = [1, 10, 50, 100, 300, 500, 1000]\n",
    "ylims = [0,1,2,3,4,5,6]\n",
    "train_scores = []\n",
    "test_scores = []\n",
    "for unit in units:\n",
    "    clf = MLPClassifier(hidden_layer_sizes=[unit],alpha=1.0, max_iter=3000)\n",
    "    clf.fit(X_train,y_train)\n",
    "    train_scores.append(clf.score(X_train, y_train))\n",
    "    test_scores.append(clf.score(X_test, y_test))\n",
    "    \n",
    "# plot the relationship between K and testing accuracy\n",
    "plt.plot(ylims, train_scores, test_scores)\n",
    "plt.xlabel('NN: Value of units')\n",
    "plt.ylabel('Accuracy')"
   ]
  },
  {
   "cell_type": "code",
   "execution_count": 48,
   "metadata": {},
   "outputs": [
    {
     "data": {
      "text/plain": [
       "Text(0,0.5,u'Accuracy')"
      ]
     },
     "execution_count": 48,
     "metadata": {},
     "output_type": "execute_result"
    },
    {
     "data": {
      "image/png": "[encoded data removed]",
      "text/plain": [
       "<matplotlib.figure.Figure at 0x12a99438>"
      ]
     },
     "metadata": {},
     "output_type": "display_data"
    }
   ],
   "source": [
    "# try different test sizes and record training and testing accuracy\n",
    "test_size = [.1,.2,.3,.4,.5,.6,.7,.8,.9]\n",
    "ylims = [0,1,2,3,4,5,6,7,8]\n",
    "train_scores = []\n",
    "test_scores = []\n",
    "for i in test_size:\n",
    "    X_train, X_test, y_train, y_test = train_test_split(X, y, test_size=i)\n",
    "    clf = MLPClassifier(hidden_layer_sizes=(100,100), alpha=1.0, max_iter=500)\n",
    "    clf.fit(X_train,y_train)\n",
    "    train_scores.append(clf.score(X_train, y_train))\n",
    "    test_scores.append(clf.score(X_test, y_test))\n",
    "    \n",
    "# plot the relationship between test size and testing accuracy\n",
    "plt.plot(ylims, train_scores, test_scores)\n",
    "plt.xlabel('NN: Value of Test Size')\n",
    "plt.ylabel('Accuracy')"
   ]
  },
  {
   "cell_type": "code",
   "execution_count": null,
   "metadata": {
    "collapsed": true
   },
   "outputs": [],
   "source": []
  },
  {
   "cell_type": "code",
   "execution_count": null,
   "metadata": {
    "collapsed": true
   },
   "outputs": [],
   "source": []
  },
  {
   "cell_type": "code",
   "execution_count": 49,
   "metadata": {
    "collapsed": true
   },
   "outputs": [],
   "source": [
    "###### HOLDOUT ########\n",
    "\n",
    "# Holdout 20%\n",
    "X = cancer.data\n",
    "y = cancer.target\n",
    "X, X_test_holdout, y, y_test_holdout = train_test_split(X, y, test_size=0.2)\n",
    "X_train, X_test, y_train, y_test = train_test_split(X, y)"
   ]
  },
  {
   "cell_type": "code",
   "execution_count": 50,
   "metadata": {},
   "outputs": [
    {
     "name": "stdout",
     "output_type": "stream",
     "text": [
      "train accuracy:  [79.951100244498775, 74.72527472527473, 78.616352201257868, 91.575091575091577, 82.378854625550659, 34.065934065934066, 36.029411764705884, 38.461538461538467, 40.0]\n",
      "\n",
      "cv accuracy:  [84.859756097560975, 77.950450450450461, 76.217008797653961, 76.399063899063904, 63.305335968379438, 66.929824561403507, 51.630036630036635, 67.027777777777786, 55.000000000000007]\n",
      "\n"
     ]
    },
    {
     "data": {
      "text/plain": [
       "<matplotlib.legend.Legend at 0x12b865c0>"
      ]
     },
     "execution_count": 50,
     "metadata": {},
     "output_type": "execute_result"
    },
    {
     "data": {
      "image/png": "[encoded data removed]",
      "text/plain": [
       "<matplotlib.figure.Figure at 0x12a41ef0>"
      ]
     },
     "metadata": {},
     "output_type": "display_data"
    }
   ],
   "source": [
    "##### Learning Curve########\n",
    "\n",
    "# try different test sizes and record training and testing and cv accuracy\n",
    "test_size = [.1,.2,.3,.4,.5,.6,.7,.8,.9]\n",
    "ylims = [0,1,2,3,4,5,6,7,8]\n",
    "train_scores = []\n",
    "test_scores = []\n",
    "cv_scores = []\n",
    "for i in test_size:\n",
    "    X_train, X_test, y_train, y_test = train_test_split(X, y, test_size=i)\n",
    "    clf = MLPClassifier(hidden_layer_sizes=(100,100), alpha=1.0, max_iter=500)\n",
    "    clf.fit(X_train, y_train)\n",
    "    y_pred = clf.predict(X_test)\n",
    "    train_scores.append(clf.score(X_train, y_train)*100)\n",
    "    test_scores.append(clf.score(X_test, y_test)*100)\n",
    "    cv = cross_val_score(clf, X_train, y_train, cv=10)\n",
    "    cv_mean = np.array(cv).mean() * 100\n",
    "    cv_scores.append(cv_mean)\n",
    "    \n",
    "print \"train accuracy: \", train_scores\n",
    "print\n",
    "#print test_scores\n",
    "#print\n",
    "print \"cv accuracy: \", cv_scores\n",
    "print\n",
    "\n",
    "plt.plot(test_size, train_scores, color='blue', label='train')\n",
    "plt.plot(test_size, cv_scores, color='orange', label='cv')\n",
    "plt.xlabel('Test Size')\n",
    "plt.ylabel('Accuracy')\n",
    "plt.title('NN 2: Learning Curve')\n",
    "plt.legend()"
   ]
  },
  {
   "cell_type": "code",
   "execution_count": 51,
   "metadata": {},
   "outputs": [
    {
     "name": "stdout",
     "output_type": "stream",
     "text": [
      "train accuracy:  [64.222873900293251, 22.287390029325511, 56.011730205278589, 35.777126099706749, 65.982404692082113, 87.390029325513197, 93.841642228739005]\n",
      "\n",
      "cv accuracy:  [64.229182582123755, 58.575248281130634, 50.669977081741791, 76.271199388846455, 68.721670486376368, 90.32722179781004, 82.679653679653683]\n",
      "\n"
     ]
    },
    {
     "data": {
      "text/plain": [
       "<matplotlib.legend.Legend at 0x11273b38>"
      ]
     },
     "execution_count": 51,
     "metadata": {},
     "output_type": "execute_result"
    },
    {
     "data": {
      "image/png": "[encoded data removed]",
      "text/plain": [
       "<matplotlib.figure.Figure at 0x105fa6a0>"
      ]
     },
     "metadata": {},
     "output_type": "display_data"
    }
   ],
   "source": [
    "###### Model Complexity ########\n",
    "\n",
    "# try units and record training and testing accuracy\n",
    "X_train, X_test, y_train, y_test = train_test_split(X, y)\n",
    "units = [1, 10, 50, 100, 300, 500, 1000]\n",
    "train_scores = []\n",
    "test_scores = []\n",
    "cv_scores = []\n",
    "for unit in units:\n",
    "    clf = MLPClassifier(hidden_layer_sizes=[unit],alpha=1.0, max_iter=3000)\n",
    "    clf.fit(X_train, y_train)\n",
    "    y_pred = clf.predict(X_test)\n",
    "    train_scores.append(clf.score(X_train, y_train)*100)\n",
    "    test_scores.append(clf.score(X_test, y_test)*100)\n",
    "    cv = cross_val_score(clf, X_train, y_train, cv=10)\n",
    "    cv_mean = np.array(cv).mean() * 100\n",
    "    cv_scores.append(cv_mean)\n",
    "\n",
    "print \"train accuracy: \", train_scores\n",
    "print\n",
    "#print test_scores\n",
    "#print\n",
    "print \"cv accuracy: \", cv_scores\n",
    "print\n",
    "\n",
    "plt.plot(units, train_scores, color='blue', label='train')\n",
    "plt.plot(units, cv_scores, color='orange', label='cv')\n",
    "plt.xlabel('Units 1 layer')\n",
    "plt.ylabel('Accuracy')\n",
    "plt.title('NN 2: Model Complexity Curve')\n",
    "plt.legend()"
   ]
  },
  {
   "cell_type": "code",
   "execution_count": 52,
   "metadata": {},
   "outputs": [
    {
     "name": "stdout",
     "output_type": "stream",
     "text": [
      "Accuracy on the training subset: 0.919\n",
      "Accuracy on the test subset: 0.947\n",
      "[[38  4]\n",
      " [ 2 70]]\n"
     ]
    }
   ],
   "source": [
    "##### Test Model On Holdout Group  #####\n",
    "\n",
    "clf = MLPClassifier(hidden_layer_sizes=(100,10,10), alpha=1.0, max_iter=500)\n",
    "clf.fit(X, y)\n",
    "\n",
    "y_pred = clf.predict(X_test_holdout)\n",
    "\n",
    "print('Accuracy on the training subset: {:.3f}'.format(clf.score(X, y)))\n",
    "print('Accuracy on the test subset: {:.3f}'.format(clf.score(X_test_holdout, y_test_holdout)))\n",
    "print(metrics.confusion_matrix(y_test_holdout, y_pred))"
   ]
  },
  {
   "cell_type": "code",
   "execution_count": null,
   "metadata": {
    "collapsed": true
   },
   "outputs": [],
   "source": []
  },
  {
   "cell_type": "code",
   "execution_count": null,
   "metadata": {
    "collapsed": true
   },
   "outputs": [],
   "source": []
  },
  {
   "cell_type": "code",
   "execution_count": null,
   "metadata": {
    "collapsed": true
   },
   "outputs": [],
   "source": []
  }
 ],
 "metadata": {
  "kernelspec": {
   "display_name": "Python 3 (ipykernel)",
   "language": "python",
   "name": "python3"
  },
  "language_info": {
   "codemirror_mode": {
    "name": "ipython",
    "version": 3
   },
   "file_extension": ".py",
   "mimetype": "text/x-python",
   "name": "python",
   "nbconvert_exporter": "python",
   "pygments_lexer": "ipython3",
   "version": "3.10.8"
  }
 },
 "nbformat": 4,
 "nbformat_minor": 2
}
