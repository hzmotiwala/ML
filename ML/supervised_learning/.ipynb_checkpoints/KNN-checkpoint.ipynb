{
 "cells": [
  {
   "cell_type": "code",
   "execution_count": 1,
   "metadata": {
    "collapsed": true
   },
   "outputs": [],
   "source": [
    "\n",
    "\n",
    "import sklearn\n",
    "import matplotlib.pyplot as plt\n",
    "%matplotlib inline\n",
    "import numpy as np\n",
    "import pandas as pd\n",
    "\n",
    "from sklearn.datasets import load_breast_cancer\n",
    "from sklearn.tree import DecisionTreeClassifier\n",
    "from sklearn.neighbors import KNeighborsClassifier\n",
    "from sklearn.model_selection import train_test_split\n",
    "from sklearn.model_selection import cross_val_score \n",
    "from sklearn import tree\n",
    "from sklearn import metrics\n",
    "from sklearn.metrics import classification_report,confusion_matrix"
   ]
  },
  {
   "cell_type": "code",
   "execution_count": 2,
   "metadata": {},
   "outputs": [
    {
     "name": "stdout",
     "output_type": "stream",
     "text": [
      "\n",
      "5\n",
      "\n",
      "<class 'sklearn.utils.Bunch'>\n",
      "\n",
      "['mean radius' 'mean texture' 'mean perimeter' 'mean area'\n",
      " 'mean smoothness' 'mean compactness' 'mean concavity'\n",
      " 'mean concave points' 'mean symmetry' 'mean fractal dimension'\n",
      " 'radius error' 'texture error' 'perimeter error' 'area error'\n",
      " 'smoothness error' 'compactness error' 'concavity error'\n",
      " 'concave points error' 'symmetry error' 'fractal dimension error'\n",
      " 'worst radius' 'worst texture' 'worst perimeter' 'worst area'\n",
      " 'worst smoothness' 'worst compactness' 'worst concavity'\n",
      " 'worst concave points' 'worst symmetry' 'worst fractal dimension']\n",
      "\n",
      "[0 0 0 0 0 0 0 0 0 0 0 0 0 0 0 0 0 0 0 1 1 1 0 0 0 0 0 0 0 0 0 0 0 0 0 0 0\n",
      " 1 0 0 0 0 0 0 0 0 1 0 1 1 1 1 1 0 0 1 0 0 1 1 1 1 0 1 0 0 1 1 1 1 0 1 0 0\n",
      " 1 0 1 0 0 1 1 1 0 0 1 0 0 0 1 1 1 0 1 1 0 0 1 1 1 0 0 1 1 1 1 0 1 1 0 1 1\n",
      " 1 1 1 1 1 1 0 0 0 1 0 0 1 1 1 0 0 1 0 1 0 0 1 0 0 1 1 0 1 1 0 1 1 1 1 0 1\n",
      " 1 1 1 1 1 1 1 1 0 1 1 1 1 0 0 1 0 1 1 0 0 1 1 0 0 1 1 1 1 0 1 1 0 0 0 1 0\n",
      " 1 0 1 1 1 0 1 1 0 0 1 0 0 0 0 1 0 0 0 1 0 1 0 1 1 0 1 0 0 0 0 1 1 0 0 1 1\n",
      " 1 0 1 1 1 1 1 0 0 1 1 0 1 1 0 0 1 0 1 1 1 1 0 1 1 1 1 1 0 1 0 0 0 0 0 0 0\n",
      " 0 0 0 0 0 0 0 1 1 1 1 1 1 0 1 0 1 1 0 1 1 0 1 0 0 1 1 1 1 1 1 1 1 1 1 1 1\n",
      " 1 0 1 1 0 1 0 1 1 1 1 1 1 1 1 1 1 1 1 1 1 0 1 1 1 0 1 0 1 1 1 1 0 0 0 1 1\n",
      " 1 1 0 1 0 1 0 1 1 1 0 1 1 1 1 1 1 1 0 0 0 1 1 1 1 1 1 1 1 1 1 1 0 0 1 0 0\n",
      " 0 1 0 0 1 1 1 1 1 0 1 1 1 1 1 0 1 1 1 0 1 1 0 0 1 1 1 1 1 1 0 1 1 1 1 1 1\n",
      " 1 0 1 1 1 1 1 0 1 1 0 1 1 1 1 1 1 1 1 1 1 1 1 0 1 0 0 1 0 1 1 1 1 1 0 1 1\n",
      " 0 1 0 1 1 0 1 0 1 1 1 1 1 1 1 1 0 0 1 1 1 1 1 1 0 1 1 1 1 1 1 1 1 1 1 0 1\n",
      " 1 1 1 1 1 1 0 1 0 1 1 0 1 1 1 1 1 0 0 1 0 1 0 1 1 1 1 1 0 1 1 0 1 0 1 0 0\n",
      " 1 1 1 0 1 1 1 1 1 1 1 1 1 1 1 0 1 0 0 1 1 1 1 1 1 1 1 1 1 1 1 1 1 1 1 1 1\n",
      " 1 1 1 1 1 1 1 0 0 0 0 0 0 1]\n",
      "\n",
      "['malignant' 'benign']\n",
      "\n",
      "(569L, 30L)\n",
      "\n",
      "(569L,)\n"
     ]
    }
   ],
   "source": [
    "cancer = load_breast_cancer()\n",
    "print\n",
    "print len(cancer)\n",
    "print\n",
    "print type(cancer)\n",
    "print\n",
    "print cancer.feature_names\n",
    "print\n",
    "print cancer.target\n",
    "print\n",
    "print cancer.target_names\n",
    "print\n",
    "print cancer.data.shape\n",
    "print\n",
    "print cancer.target.shape"
   ]
  },
  {
   "cell_type": "code",
   "execution_count": 3,
   "metadata": {
    "collapsed": true
   },
   "outputs": [],
   "source": [
    "X = cancer.data\n",
    "y = cancer.target\n",
    "\n",
    "from sklearn.model_selection import train_test_split\n",
    "X_train, X_test, y_train, y_test = train_test_split(X, y, test_size=0.4, random_state=4)\n",
    "#X_train, X_test, y_train, y_test = train_test_split(cancer.data, cancer.target, stratify=cancer.target, random_state=42)\n"
   ]
  },
  {
   "cell_type": "code",
   "execution_count": 4,
   "metadata": {},
   "outputs": [
    {
     "name": "stdout",
     "output_type": "stream",
     "text": [
      "Accuracy on the training subset: 1.000\n",
      "Accuracy on the test subset: 0.904\n",
      "accuracy on test:  0.90350877193\n"
     ]
    }
   ],
   "source": [
    "knn = KNeighborsClassifier(n_neighbors=1) \n",
    "knn.fit(X_train, y_train)\n",
    "y_pred = knn.predict(X_test)\n",
    "\n",
    "print('Accuracy on the training subset: {:.3f}'.format(knn.score(X_train, y_train)))\n",
    "print('Accuracy on the test subset: {:.3f}'.format(knn.score(X_test, y_test)))\n",
    "print \"accuracy on test: \", metrics.accuracy_score(y_test, y_pred)"
   ]
  },
  {
   "cell_type": "code",
   "execution_count": 5,
   "metadata": {},
   "outputs": [
    {
     "name": "stdout",
     "output_type": "stream",
     "text": [
      "Accuracy on the training subset: 0.953\n",
      "Accuracy on the test subset: 0.908\n",
      "accuracy on test:  0.907894736842\n",
      "[[ 63  11]\n",
      " [ 10 144]]\n"
     ]
    }
   ],
   "source": [
    "knn = KNeighborsClassifier(n_neighbors=5)\n",
    "knn.fit(X_train, y_train)\n",
    "y_pred = knn.predict(X_test)\n",
    "\n",
    "print('Accuracy on the training subset: {:.3f}'.format(knn.score(X_train, y_train)))\n",
    "print('Accuracy on the test subset: {:.3f}'.format(knn.score(X_test, y_test)))\n",
    "print \"accuracy on test: \", metrics.accuracy_score(y_test, y_pred)\n",
    "print(confusion_matrix(y_test,y_pred))"
   ]
  },
  {
   "cell_type": "code",
   "execution_count": 6,
   "metadata": {},
   "outputs": [
    {
     "data": {
      "text/plain": [
       "Text(0,0.5,u'Testing Accuracy')"
      ]
     },
     "execution_count": 6,
     "metadata": {},
     "output_type": "execute_result"
    },
    {
     "data": {
      "image/png": "[encoded data removed]",
      "text/plain": [
       "<matplotlib.figure.Figure at 0xca3eb38>"
      ]
     },
     "metadata": {},
     "output_type": "display_data"
    }
   ],
   "source": [
    "# try K=1 through K=25 and record testing accuracy# try K= \n",
    "k_range = list(range(1, 26))\n",
    "scores = []\n",
    "for k in k_range:\n",
    "    knn = KNeighborsClassifier(n_neighbors=k)\n",
    "    knn.fit(X_train, y_train)\n",
    "    y_pred = knn.predict(X_test)\n",
    "    scores.append(metrics.accuracy_score(y_test, y_pred))\n",
    "\n",
    "# plot the relationship between K and testing accuracy\n",
    "plt.plot(k_range, scores)\n",
    "plt.xlabel('Value of K for KNN')\n",
    "plt.ylabel('Testing Accuracy')"
   ]
  },
  {
   "cell_type": "code",
   "execution_count": 7,
   "metadata": {},
   "outputs": [
    {
     "name": "stdout",
     "output_type": "stream",
     "text": [
      "[[ 62  12]\n",
      " [ 12 142]]\n",
      "0.894736842105\n",
      "\n",
      "0.675438596491\n"
     ]
    }
   ],
   "source": [
    "y_pred_class = knn.predict(X_test)\n",
    "print(metrics.confusion_matrix(y_test, y_pred_class))\n",
    "print(metrics.accuracy_score(y_test, y_pred_class))\n",
    "\n",
    "# calculate null accuracy (for binary classification problems coded as 0/1)\n",
    "print\n",
    "print max(y_test.mean(), 1 - y_test.mean())"
   ]
  },
  {
   "cell_type": "code",
   "execution_count": 8,
   "metadata": {},
   "outputs": [
    {
     "data": {
      "text/plain": [
       "Text(0,0.5,u'Accuracy')"
      ]
     },
     "execution_count": 8,
     "metadata": {},
     "output_type": "execute_result"
    },
    {
     "data": {
      "image/png": "[encoded data removed]",
      "text/plain": [
       "<matplotlib.figure.Figure at 0xca3e278>"
      ]
     },
     "metadata": {},
     "output_type": "display_data"
    }
   ],
   "source": [
    "# try max_depth 1 through 26 and record training and testing accuracy\n",
    "k_range = list(range(1, 26))\n",
    "train_scores = []\n",
    "test_scores = []\n",
    "for k in k_range:\n",
    "    knn = KNeighborsClassifier(n_neighbors=k)\n",
    "    knn.fit(X_train, y_train)\n",
    "    train_scores.append(knn.score(X_train, y_train))\n",
    "    test_scores.append(knn.score(X_test, y_test))\n",
    "    \n",
    "# plot the relationship between K and testing accuracy\n",
    "plt.plot(k_range, train_scores, test_scores)\n",
    "plt.xlabel('KNN: Value of K')\n",
    "plt.ylabel('Accuracy')"
   ]
  },
  {
   "cell_type": "code",
   "execution_count": 9,
   "metadata": {},
   "outputs": [
    {
     "data": {
      "text/plain": [
       "Text(0,0.5,u'Cross-Validated Accuracy')"
      ]
     },
     "execution_count": 9,
     "metadata": {},
     "output_type": "execute_result"
    },
    {
     "data": {
      "image/png": "[encoded data removed]",
      "text/plain": [
       "<matplotlib.figure.Figure at 0xcbc1f60>"
      ]
     },
     "metadata": {},
     "output_type": "display_data"
    }
   ],
   "source": [
    "# try max_depth 1 through 26 and record training and testing accuracy\n",
    "k_range = list(range(1, 26))\n",
    "k_scores = []\n",
    "for k in k_range:\n",
    "    knn = KNeighborsClassifier(n_neighbors=k)\n",
    "    scores = cross_val_score(knn, X, y, cv=10, scoring='accuracy')\n",
    "    k_scores.append(scores.mean())\n",
    "    \n",
    "# plot the value of K for KNN (x-axis) versus the cross-validated accuracy (y-axis)\n",
    "plt.plot(k_range, k_scores)\n",
    "plt.xlabel('Value of K for KNN')\n",
    "plt.ylabel('Cross-Validated Accuracy')"
   ]
  },
  {
   "cell_type": "code",
   "execution_count": 10,
   "metadata": {},
   "outputs": [
    {
     "name": "stdout",
     "output_type": "stream",
     "text": [
      "0.928303517414\n"
     ]
    }
   ],
   "source": [
    "print(cross_val_score(knn, X, y, cv=10, scoring='accuracy').mean())"
   ]
  },
  {
   "cell_type": "code",
   "execution_count": null,
   "metadata": {
    "collapsed": true
   },
   "outputs": [],
   "source": []
  },
  {
   "cell_type": "code",
   "execution_count": 11,
   "metadata": {},
   "outputs": [
    {
     "data": {
      "text/plain": [
       "Text(0,0.5,u'Accuracy')"
      ]
     },
     "execution_count": 11,
     "metadata": {},
     "output_type": "execute_result"
    },
    {
     "data": {
      "image/png": "[encoded data removed]",
      "text/plain": [
       "<matplotlib.figure.Figure at 0xda75390>"
      ]
     },
     "metadata": {},
     "output_type": "display_data"
    }
   ],
   "source": [
    "# try different test sizes and record training and testing accuracy\n",
    "test_size = [.01,.1,.2,.3,.4,.5,.6,.7,.8,.9,.99]\n",
    "ylims = [0,1,2,3,4,5,6,7,8,9,10]\n",
    "train_scores = []\n",
    "test_scores = []\n",
    "for i in test_size:\n",
    "    X_train, X_test, y_train, y_test = train_test_split(X, y, test_size=i)\n",
    "    knn = KNeighborsClassifier(n_neighbors=5)\n",
    "    knn.fit(X_train, y_train)\n",
    "    train_scores.append(knn.score(X_train, y_train))\n",
    "    test_scores.append(knn.score(X_test, y_test))\n",
    "    \n",
    "# plot the relationship between K and testing accuracy\n",
    "plt.plot(ylims, train_scores, test_scores)\n",
    "plt.xlabel('KNN: Value of Test Size')\n",
    "plt.ylabel('Accuracy')"
   ]
  },
  {
   "cell_type": "code",
   "execution_count": null,
   "metadata": {
    "collapsed": true
   },
   "outputs": [],
   "source": []
  },
  {
   "cell_type": "code",
   "execution_count": 4,
   "metadata": {
    "collapsed": true
   },
   "outputs": [],
   "source": [
    "###### HOLDOUT ########\n",
    "\n",
    "# Holdout 20%\n",
    "X = cancer.data\n",
    "y = cancer.target\n",
    "X, X_test_holdout, y, y_test_holdout = train_test_split(X, y, test_size=0.2)\n",
    "X_train, X_test, y_train, y_test = train_test_split(X, y)"
   ]
  },
  {
   "cell_type": "code",
   "execution_count": 5,
   "metadata": {},
   "outputs": [
    {
     "name": "stdout",
     "output_type": "stream",
     "text": [
      "train accuracy:  [96.088019559902207, 94.505494505494497, 94.025157232704402, 96.703296703296701, 94.713656387665196, 93.406593406593402, 92.64705882352942, 93.406593406593402, 91.111111111111114]\n",
      "\n",
      "cv accuracy:  [94.388501742160273, 93.415915915915917, 91.824596774193552, 95.238095238095255, 91.599143610013172, 92.77089783281734, 90.384615384615387, 92.555555555555543, 91.5]\n",
      "\n"
     ]
    },
    {
     "data": {
      "text/plain": [
       "<matplotlib.legend.Legend at 0xcb6b278>"
      ]
     },
     "execution_count": 5,
     "metadata": {},
     "output_type": "execute_result"
    },
    {
     "data": {
      "image/png": "[encoded data removed]",
      "text/plain": [
       "<matplotlib.figure.Figure at 0x6a77940>"
      ]
     },
     "metadata": {},
     "output_type": "display_data"
    }
   ],
   "source": [
    "##### Learning Curve########\n",
    "\n",
    "# try different test sizes and record training and testing and cv accuracy\n",
    "test_size = [.1,.2,.3,.4,.5,.6,.7,.8,.9]\n",
    "train_scores = []\n",
    "test_scores = []\n",
    "cv_scores = []\n",
    "for i in test_size:\n",
    "    X_train, X_test, y_train, y_test = train_test_split(X, y, test_size=i)\n",
    "    knn = KNeighborsClassifier(n_neighbors=5)\n",
    "    knn.fit(X_train, y_train)\n",
    "    y_pred = knn.predict(X_test)\n",
    "    train_scores.append(knn.score(X_train, y_train)*100)\n",
    "    test_scores.append(knn.score(X_test, y_test)*100)\n",
    "    cv = cross_val_score(knn, X_train, y_train, cv=10)\n",
    "    cv_mean = np.array(cv).mean() * 100\n",
    "    cv_scores.append(cv_mean)\n",
    "    \n",
    "print \"train accuracy: \", train_scores\n",
    "print\n",
    "#print test_scores\n",
    "#print\n",
    "print \"cv accuracy: \", cv_scores\n",
    "print\n",
    "\n",
    "plt.plot(test_size, train_scores, color='blue', label='train')\n",
    "plt.plot(test_size, cv_scores, color='orange', label='cv')\n",
    "plt.xlabel('Test Size')\n",
    "plt.ylabel('Accuracy')\n",
    "plt.title('KNN 1: Learning Curve')\n",
    "plt.legend()\n"
   ]
  },
  {
   "cell_type": "code",
   "execution_count": null,
   "metadata": {},
   "outputs": [
    {
     "name": "stdout",
     "output_type": "stream",
     "text": [
      "train accuracy:  [100.0, 96.480938416422291, 95.307917888563054, 94.42815249266863, 95.307917888563054, 94.42815249266863, 93.548387096774192, 93.841642228739005, 92.668621700879754, 93.255131964809379, 93.548387096774192, 93.548387096774192, 93.255131964809379, 93.255131964809379, 92.961876832844567, 92.961876832844567, 92.961876832844567, 93.255131964809379, 92.668621700879754]\n",
      "\n",
      "cv accuracy:  [92.420168067226882, 88.596638655462186, 92.411764705882362, 91.806722689075627, 92.109243697479002, 92.991596638655466, 92.403361344537828, 92.403361344537828, 92.117647058823536, 92.109243697479002, 93.0, 92.697478991596654, 93.0, 93.0, 92.411764705882362, 92.411764705882362, 92.117647058823536, 92.403361344537828, 91.82352941176471]\n",
      "\n"
     ]
    },
    {
     "data": {
      "text/plain": [
       "<matplotlib.legend.Legend at 0xdb33b38>"
      ]
     },
     "execution_count": 8,
     "metadata": {},
     "output_type": "execute_result"
    }
   ],
   "source": [
    "###### Model Complexity ########\n",
    "\n",
    "# try leaf 1 through 20 and record training and testing accuracy\n",
    "X_train, X_test, y_train, y_test = train_test_split(X, y)\n",
    "k_range = list(range(1, 20))\n",
    "train_scores = []\n",
    "test_scores = []\n",
    "cv_scores = []\n",
    "for k in k_range:\n",
    "    knn = KNeighborsClassifier(n_neighbors=k)\n",
    "    knn.fit(X_train, y_train)\n",
    "    y_pred = knn.predict(X_test)\n",
    "    train_scores.append(knn.score(X_train, y_train)*100)\n",
    "    test_scores.append(knn.score(X_test, y_test)*100)\n",
    "    cv = cross_val_score(knn, X_train, y_train, cv=10)\n",
    "    cv_mean = np.array(cv).mean() * 100\n",
    "    cv_scores.append(cv_mean)\n",
    "\n",
    "print \"train accuracy: \", train_scores\n",
    "print\n",
    "#print test_scores\n",
    "#print\n",
    "print \"cv accuracy: \", cv_scores\n",
    "print\n",
    "\n",
    "plt.plot(k_range, train_scores, color='blue', label='train')\n",
    "plt.plot(k_range, cv_scores, color='orange', label='cv')\n",
    "plt.xlabel('Nearest Neighbors')\n",
    "plt.ylabel('Accuracy')\n",
    "plt.title('KNN 1: Model Complexity Curve')\n",
    "plt.legend()\n"
   ]
  },
  {
   "cell_type": "code",
   "execution_count": 7,
   "metadata": {},
   "outputs": [
    {
     "name": "stdout",
     "output_type": "stream",
     "text": [
      "Accuracy on the training subset: 0.947\n",
      "Accuracy on the test subset: 0.930\n",
      "[[34  6]\n",
      " [ 2 72]]\n"
     ]
    }
   ],
   "source": [
    "##### Test Model On Holdout Group  #####\n",
    "\n",
    "knn = KNeighborsClassifier(n_neighbors=7)\n",
    "knn.fit(X, y)\n",
    "\n",
    "y_pred = knn.predict(X_test_holdout)\n",
    "\n",
    "print('Accuracy on the training subset: {:.3f}'.format(knn.score(X, y)))\n",
    "print('Accuracy on the test subset: {:.3f}'.format(knn.score(X_test_holdout, y_test_holdout)))\n",
    "print(metrics.confusion_matrix(y_test_holdout, y_pred))"
   ]
  },
  {
   "cell_type": "code",
   "execution_count": null,
   "metadata": {
    "collapsed": true
   },
   "outputs": [],
   "source": []
  },
  {
   "cell_type": "code",
   "execution_count": null,
   "metadata": {
    "collapsed": true
   },
   "outputs": [],
   "source": []
  },
  {
   "cell_type": "code",
   "execution_count": null,
   "metadata": {
    "collapsed": true
   },
   "outputs": [],
   "source": []
  },
  {
   "cell_type": "code",
   "execution_count": null,
   "metadata": {
    "collapsed": true
   },
   "outputs": [],
   "source": []
  },
  {
   "cell_type": "code",
   "execution_count": null,
   "metadata": {
    "collapsed": true
   },
   "outputs": [],
   "source": []
  },
  {
   "cell_type": "code",
   "execution_count": null,
   "metadata": {
    "collapsed": true
   },
   "outputs": [],
   "source": []
  },
  {
   "cell_type": "code",
   "execution_count": null,
   "metadata": {
    "collapsed": true
   },
   "outputs": [],
   "source": []
  },
  {
   "cell_type": "code",
   "execution_count": null,
   "metadata": {
    "collapsed": true
   },
   "outputs": [],
   "source": []
  },
  {
   "cell_type": "code",
   "execution_count": 16,
   "metadata": {
    "collapsed": true
   },
   "outputs": [],
   "source": [
    "#https://archive.ics.uci.edu/ml/datasets/Image+Segmentation"
   ]
  },
  {
   "cell_type": "code",
   "execution_count": 17,
   "metadata": {
    "collapsed": true
   },
   "outputs": [],
   "source": [
    "###########  image segmentation  ########"
   ]
  },
  {
   "cell_type": "code",
   "execution_count": 18,
   "metadata": {},
   "outputs": [
    {
     "name": "stdout",
     "output_type": "stream",
     "text": [
      "(2310, 20)\n",
      "(2310, 19)\n",
      "(2310L,)\n"
     ]
    }
   ],
   "source": [
    "import pandas as pd\n",
    "data = pd.read_csv('C:/Users/443966/Desktop/image_segmentation_1.csv')\n",
    "print data.shape\n",
    "#print data.head()\n",
    "\n",
    "#X = data['REGION-CENTROID-COL':'HUE-MEAN']\n",
    "X = data[data.columns.difference(['CLASS'])]\n",
    "y = data['CLASS']\n",
    "\n",
    "print X.shape\n",
    "print y.shape"
   ]
  },
  {
   "cell_type": "code",
   "execution_count": 19,
   "metadata": {
    "collapsed": true
   },
   "outputs": [],
   "source": [
    "X_train, X_test, y_train, y_test = train_test_split(X, y, test_size=0.4, random_state=4)"
   ]
  },
  {
   "cell_type": "code",
   "execution_count": 20,
   "metadata": {},
   "outputs": [
    {
     "name": "stdout",
     "output_type": "stream",
     "text": [
      "Accuracy on the training subset: 1.000\n",
      "Accuracy on the test subset: 0.943\n",
      "accuracy on test:  0.942640692641\n"
     ]
    }
   ],
   "source": [
    "knn = KNeighborsClassifier(n_neighbors=1) \n",
    "knn.fit(X_train, y_train)\n",
    "y_pred = knn.predict(X_test)\n",
    "\n",
    "print('Accuracy on the training subset: {:.3f}'.format(knn.score(X_train, y_train)))\n",
    "print('Accuracy on the test subset: {:.3f}'.format(knn.score(X_test, y_test)))\n",
    "print \"accuracy on test: \", metrics.accuracy_score(y_test, y_pred)"
   ]
  },
  {
   "cell_type": "code",
   "execution_count": 21,
   "metadata": {},
   "outputs": [
    {
     "name": "stdout",
     "output_type": "stream",
     "text": [
      "Accuracy on the training subset: 0.962\n",
      "Accuracy on the test subset: 0.919\n",
      "accuracy on test:  0.918831168831\n",
      "[[121   0   2   0   1   0   0]\n",
      " [  0 143   0   0   0   0   0]\n",
      " [  4   0 113   2  16   0   0]\n",
      " [  4   0   2 101   8   0   0]\n",
      " [ 11   0  15   2 113   3   0]\n",
      " [  0   0   0   5   0 128   0]\n",
      " [  0   0   0   0   0   0 130]]\n"
     ]
    }
   ],
   "source": [
    "knn = KNeighborsClassifier(n_neighbors=5)\n",
    "knn.fit(X_train, y_train)\n",
    "y_pred = knn.predict(X_test)\n",
    "\n",
    "print('Accuracy on the training subset: {:.3f}'.format(knn.score(X_train, y_train)))\n",
    "print('Accuracy on the test subset: {:.3f}'.format(knn.score(X_test, y_test)))\n",
    "print \"accuracy on test: \", metrics.accuracy_score(y_test, y_pred)\n",
    "print(confusion_matrix(y_test,y_pred))"
   ]
  },
  {
   "cell_type": "code",
   "execution_count": 22,
   "metadata": {},
   "outputs": [
    {
     "data": {
      "text/plain": [
       "Text(0,0.5,u'Testing Accuracy')"
      ]
     },
     "execution_count": 22,
     "metadata": {},
     "output_type": "execute_result"
    },
    {
     "data": {
      "image/png": "[encoded data removed]",
      "text/plain": [
       "<matplotlib.figure.Figure at 0xdee8c18>"
      ]
     },
     "metadata": {},
     "output_type": "display_data"
    }
   ],
   "source": [
    "# try K=1 through K=25 and record testing accuracy# try K= \n",
    "k_range = list(range(1, 26))\n",
    "scores = []\n",
    "for k in k_range:\n",
    "    knn = KNeighborsClassifier(n_neighbors=k)\n",
    "    knn.fit(X_train, y_train)\n",
    "    y_pred = knn.predict(X_test)\n",
    "    scores.append(metrics.accuracy_score(y_test, y_pred))\n",
    "\n",
    "# plot the relationship between K and testing accuracy\n",
    "plt.plot(k_range, scores)\n",
    "plt.xlabel('Value of K for KNN')\n",
    "plt.ylabel('Testing Accuracy')"
   ]
  },
  {
   "cell_type": "code",
   "execution_count": 23,
   "metadata": {},
   "outputs": [
    {
     "name": "stdout",
     "output_type": "stream",
     "text": [
      "[[109   0   7   0   8   0   0]\n",
      " [  0 143   0   0   0   0   0]\n",
      " [  8   0 107   3  16   1   0]\n",
      " [  4   0   4  97   9   0   1]\n",
      " [ 22   0  15   2 102   3   0]\n",
      " [  0   0   0   0   0 133   0]\n",
      " [  0   0   0   0   0   0 130]]\n",
      "0.888528138528\n",
      "\n",
      "4.00757575758\n"
     ]
    }
   ],
   "source": [
    "y_pred_class = knn.predict(X_test)\n",
    "print(metrics.confusion_matrix(y_test, y_pred_class))\n",
    "print(metrics.accuracy_score(y_test, y_pred_class))\n",
    "\n",
    "# calculate null accuracy (for binary classification problems coded as 0/1)\n",
    "print\n",
    "print max(y_test.mean(), 1 - y_test.mean())"
   ]
  },
  {
   "cell_type": "code",
   "execution_count": 24,
   "metadata": {},
   "outputs": [
    {
     "data": {
      "text/plain": [
       "Text(0,0.5,u'Accuracy')"
      ]
     },
     "execution_count": 24,
     "metadata": {},
     "output_type": "execute_result"
    },
    {
     "data": {
      "image/png": "[encoded data removed]",
      "text/plain": [
       "<matplotlib.figure.Figure at 0xe22ba58>"
      ]
     },
     "metadata": {},
     "output_type": "display_data"
    }
   ],
   "source": [
    "# try max_depth 1 through 26 and record training and testing accuracy\n",
    "k_range = list(range(1, 26))\n",
    "train_scores = []\n",
    "test_scores = []\n",
    "for k in k_range:\n",
    "    knn = KNeighborsClassifier(n_neighbors=k)\n",
    "    knn.fit(X_train, y_train)\n",
    "    train_scores.append(knn.score(X_train, y_train))\n",
    "    test_scores.append(knn.score(X_test, y_test))\n",
    "    \n",
    "# plot the relationship between K and testing accuracy\n",
    "plt.plot(k_range, train_scores, test_scores)\n",
    "plt.xlabel('KNN: Value of K')\n",
    "plt.ylabel('Accuracy')"
   ]
  },
  {
   "cell_type": "code",
   "execution_count": 25,
   "metadata": {},
   "outputs": [
    {
     "data": {
      "text/plain": [
       "Text(0,0.5,u'Cross-Validated Accuracy')"
      ]
     },
     "execution_count": 25,
     "metadata": {},
     "output_type": "execute_result"
    },
    {
     "data": {
      "image/png": "[encoded data removed]",
      "text/plain": [
       "<matplotlib.figure.Figure at 0xe4e0588>"
      ]
     },
     "metadata": {},
     "output_type": "display_data"
    }
   ],
   "source": [
    "# try max_depth 1 through 26 and record training and testing accuracy\n",
    "k_range = list(range(1, 26))\n",
    "k_scores = []\n",
    "for k in k_range:\n",
    "    knn = KNeighborsClassifier(n_neighbors=k)\n",
    "    scores = cross_val_score(knn, X, y, cv=10, scoring='accuracy')\n",
    "    k_scores.append(scores.mean())\n",
    "    \n",
    "# plot the value of K for KNN (x-axis) versus the cross-validated accuracy (y-axis)\n",
    "plt.plot(k_range, k_scores)\n",
    "plt.xlabel('Value of K for KNN')\n",
    "plt.ylabel('Cross-Validated Accuracy')"
   ]
  },
  {
   "cell_type": "code",
   "execution_count": 26,
   "metadata": {},
   "outputs": [
    {
     "name": "stdout",
     "output_type": "stream",
     "text": [
      "0.874025974026\n"
     ]
    }
   ],
   "source": [
    "print(cross_val_score(knn, X, y, cv=10, scoring='accuracy').mean())"
   ]
  },
  {
   "cell_type": "code",
   "execution_count": 27,
   "metadata": {},
   "outputs": [
    {
     "data": {
      "text/plain": [
       "Text(0,0.5,u'Accuracy')"
      ]
     },
     "execution_count": 27,
     "metadata": {},
     "output_type": "execute_result"
    },
    {
     "data": {
      "image/png": "[encoded data removed]",
      "text/plain": [
       "<matplotlib.figure.Figure at 0xfda1cc0>"
      ]
     },
     "metadata": {},
     "output_type": "display_data"
    }
   ],
   "source": [
    "# try different test sizes and record training and testing accuracy\n",
    "test_size = [.01,.1,.2,.3,.4,.5,.6,.7,.8,.9,.99]\n",
    "ylims = [0,1,2,3,4,5,6,7,8,9,10]\n",
    "train_scores = []\n",
    "test_scores = []\n",
    "for i in test_size:\n",
    "    X_train, X_test, y_train, y_test = train_test_split(X, y, test_size=i)\n",
    "    knn = KNeighborsClassifier(n_neighbors=5)\n",
    "    knn.fit(X_train, y_train)\n",
    "    train_scores.append(knn.score(X_train, y_train))\n",
    "    test_scores.append(knn.score(X_test, y_test))\n",
    "    \n",
    "# plot the relationship between K and testing accuracy\n",
    "plt.plot(ylims, train_scores, test_scores)\n",
    "plt.xlabel('KNN: Value of Test Size')\n",
    "plt.ylabel('Accuracy')"
   ]
  },
  {
   "cell_type": "code",
   "execution_count": null,
   "metadata": {
    "collapsed": true
   },
   "outputs": [],
   "source": []
  },
  {
   "cell_type": "code",
   "execution_count": 28,
   "metadata": {
    "collapsed": true
   },
   "outputs": [],
   "source": [
    "###### HOLDOUT ########\n",
    "\n",
    "# Holdout 20%\n",
    "X = data[data.columns.difference(['CLASS'])]\n",
    "y = data['CLASS']\n",
    "X, X_test_holdout, y, y_test_holdout = train_test_split(X, y, test_size=0.2)\n",
    "X_train, X_test, y_train, y_test = train_test_split(X, y)\n"
   ]
  },
  {
   "cell_type": "code",
   "execution_count": 29,
   "metadata": {},
   "outputs": [
    {
     "name": "stdout",
     "output_type": "stream",
     "text": [
      "train accuracy:  [96.692723992784124, 95.940460081190807, 95.282289249806652, 95.036101083032491, 94.047619047619051, 94.31664411366711, 93.682310469314075, 89.430894308943081, 86.41304347826086]\n",
      "\n",
      "cv accuracy:  [92.352801336147223, 92.690306134750983, 91.791502952299837, 90.413951054683324, 89.696002814890647, 88.266728645878104, 87.713871729470171, 85.546701520385739, 71.917714294649286]\n",
      "\n"
     ]
    },
    {
     "data": {
      "text/plain": [
       "<matplotlib.legend.Legend at 0x101c9208>"
      ]
     },
     "execution_count": 29,
     "metadata": {},
     "output_type": "execute_result"
    },
    {
     "data": {
      "image/png": "[encoded data removed]",
      "text/plain": [
       "<matplotlib.figure.Figure at 0xe6ec630>"
      ]
     },
     "metadata": {},
     "output_type": "display_data"
    }
   ],
   "source": [
    "\n",
    "##### Learning Curve########\n",
    "\n",
    "# try different test sizes and record training and testing and cv accuracy\n",
    "test_size = [.1,.2,.3,.4,.5,.6,.7,.8,.9]\n",
    "train_scores = []\n",
    "test_scores = []\n",
    "cv_scores = []\n",
    "for i in test_size:\n",
    "    X_train, X_test, y_train, y_test = train_test_split(X, y, test_size=i)\n",
    "    knn = KNeighborsClassifier(n_neighbors=5)\n",
    "    knn.fit(X_train, y_train)\n",
    "    y_pred = knn.predict(X_test)\n",
    "    train_scores.append(knn.score(X_train, y_train)*100)\n",
    "    test_scores.append(knn.score(X_test, y_test)*100)\n",
    "    cv = cross_val_score(knn, X_train, y_train, cv=10)\n",
    "    cv_mean = np.array(cv).mean() * 100\n",
    "    cv_scores.append(cv_mean)\n",
    "    \n",
    "print \"train accuracy: \", train_scores\n",
    "print\n",
    "#print test_scores\n",
    "#print\n",
    "print \"cv accuracy: \", cv_scores\n",
    "print\n",
    "\n",
    "plt.plot(test_size, train_scores, color='blue', label='train')\n",
    "plt.plot(test_size, cv_scores, color='orange', label='cv')\n",
    "plt.xlabel('Test Size')\n",
    "plt.ylabel('Accuracy')\n",
    "plt.title('KNN 2: Learning Curve')\n",
    "plt.legend()\n",
    "\n",
    "\n",
    "\n"
   ]
  },
  {
   "cell_type": "code",
   "execution_count": 30,
   "metadata": {},
   "outputs": [
    {
     "name": "stdout",
     "output_type": "stream",
     "text": [
      "train accuracy:  [100.0, 97.402597402597408, 97.186147186147181, 95.887445887445892, 95.743145743145746, 95.021645021645014, 94.660894660894655, 93.14574314574314, 93.14574314574314, 92.857142857142861, 92.135642135642144, 91.919191919191917, 91.269841269841265, 91.269841269841265, 90.259740259740255, 90.76479076479076, 90.115440115440109, 89.971139971139962, 89.466089466089471]\n",
      "\n",
      "cv accuracy:  [94.510012624615186, 93.355520477851428, 92.628903136604706, 91.987977076701426, 91.761073771282909, 90.674144789987736, 90.533799491709104, 90.600599648527634, 89.80318067413377, 89.674045164294171, 88.439513983651551, 88.521361747125098, 88.166352476200444, 87.952997461005225, 87.590913536037149, 87.655591470470256, 87.511019524058099, 87.290960048524155, 87.158097662694885]\n",
      "\n"
     ]
    },
    {
     "data": {
      "text/plain": [
       "<matplotlib.legend.Legend at 0x104c66d8>"
      ]
     },
     "execution_count": 30,
     "metadata": {},
     "output_type": "execute_result"
    },
    {
     "data": {
      "image/png": "[encoded data removed]",
      "text/plain": [
       "<matplotlib.figure.Figure at 0xff40f98>"
      ]
     },
     "metadata": {},
     "output_type": "display_data"
    }
   ],
   "source": [
    "###### Model Complexity ########\n",
    "\n",
    "# try leaf 1 through 20 and record training and testing accuracy\n",
    "X_train, X_test, y_train, y_test = train_test_split(X, y)\n",
    "k_range = list(range(1, 20))\n",
    "train_scores = []\n",
    "test_scores = []\n",
    "cv_scores = []\n",
    "for k in k_range:\n",
    "    knn = KNeighborsClassifier(n_neighbors=k)\n",
    "    knn.fit(X_train, y_train)\n",
    "    y_pred = knn.predict(X_test)\n",
    "    train_scores.append(knn.score(X_train, y_train)*100)\n",
    "    test_scores.append(knn.score(X_test, y_test)*100)\n",
    "    cv = cross_val_score(knn, X_train, y_train, cv=10)\n",
    "    cv_mean = np.array(cv).mean() * 100\n",
    "    cv_scores.append(cv_mean)\n",
    "\n",
    "print \"train accuracy: \", train_scores\n",
    "print\n",
    "#print test_scores\n",
    "#print\n",
    "print \"cv accuracy: \", cv_scores\n",
    "print\n",
    "\n",
    "plt.plot(k_range, train_scores, color='blue', label='train')\n",
    "plt.plot(k_range, cv_scores, color='orange', label='cv')\n",
    "plt.xlabel('Nearest Neighbors')\n",
    "plt.ylabel('Accuracy')\n",
    "plt.title('KNN 2: Model Complexity Curve')\n",
    "plt.legend()\n"
   ]
  },
  {
   "cell_type": "code",
   "execution_count": 31,
   "metadata": {},
   "outputs": [
    {
     "name": "stdout",
     "output_type": "stream",
     "text": [
      "Accuracy on the training subset: 0.976\n",
      "Accuracy on the test subset: 0.952\n",
      "[[59  0  0  0  0  0  0]\n",
      " [ 0 75  0  0  0  0  0]\n",
      " [ 1  0 59  1  5  0  0]\n",
      " [ 0  0  2 61  3  1  0]\n",
      " [ 3  0  5  1 52  0  0]\n",
      " [ 0  0  0  0  0 59  0]\n",
      " [ 0  0  0  0  0  0 75]]\n"
     ]
    }
   ],
   "source": [
    "\n",
    "##### Test Model On Holdout Group  #####\n",
    "\n",
    "knn = KNeighborsClassifier(n_neighbors=3)\n",
    "knn.fit(X, y)\n",
    "\n",
    "y_pred = knn.predict(X_test_holdout)\n",
    "\n",
    "print('Accuracy on the training subset: {:.3f}'.format(knn.score(X, y)))\n",
    "print('Accuracy on the test subset: {:.3f}'.format(knn.score(X_test_holdout, y_test_holdout)))\n",
    "print(metrics.confusion_matrix(y_test_holdout, y_pred))"
   ]
  },
  {
   "cell_type": "code",
   "execution_count": null,
   "metadata": {
    "collapsed": true
   },
   "outputs": [],
   "source": []
  }
 ],
 "metadata": {
  "kernelspec": {
   "display_name": "Python 3 (ipykernel)",
   "language": "python",
   "name": "python3"
  },
  "language_info": {
   "codemirror_mode": {
    "name": "ipython",
    "version": 3
   },
   "file_extension": ".py",
   "mimetype": "text/x-python",
   "name": "python",
   "nbconvert_exporter": "python",
   "pygments_lexer": "ipython3",
   "version": "3.10.8"
  }
 },
 "nbformat": 4,
 "nbformat_minor": 2
}
